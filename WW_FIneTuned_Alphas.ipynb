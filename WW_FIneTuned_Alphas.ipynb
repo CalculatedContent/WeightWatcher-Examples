{
  "nbformat": 4,
  "nbformat_minor": 0,
  "metadata": {
    "colab": {
      "provenance": [],
      "machine_shape": "hm",
      "mount_file_id": "12VwLuGt2zffSQ0ANJsehUDTK_ug4ktX0",
      "authorship_tag": "ABX9TyOU9RJdCj3JWSQd9xw8LDuH",
      "include_colab_link": true
    },
    "kernelspec": {
      "name": "python3",
      "display_name": "Python 3"
    },
    "language_info": {
      "name": "python"
    }
  },
  "cells": [
    {
      "cell_type": "markdown",
      "metadata": {
        "id": "view-in-github",
        "colab_type": "text"
      },
      "source": [
        "<a href=\"https://colab.research.google.com/github/CalculatedContent/WeightWatcher-Examples/blob/main/WW_FIneTuned_Alphas.ipynb\" target=\"_parent\"><img src=\"https://colab.research.google.com/assets/colab-badge.svg\" alt=\"Open In Colab\"/></a>"
      ]
    },
    {
      "cell_type": "markdown",
      "source": [
        "### 1.) Install weight watcher\n",
        "\n"
      ],
      "metadata": {
        "id": "0QBNUThcp7fH"
      }
    },
    {
      "cell_type": "code",
      "source": [
        "!pip install weightwatcher\n",
        "import weightwatcher as ww\n",
        "ww.__version__"
      ],
      "metadata": {
        "id": "FI7YdCNcp8tJ"
      },
      "execution_count": null,
      "outputs": []
    },
    {
      "cell_type": "markdown",
      "source": [
        "### 2.) Download the models.\n",
        "\n",
        "\n",
        "\n"
      ],
      "metadata": {
        "id": "jOx5WadmjagT"
      }
    },
    {
      "cell_type": "markdown",
      "source": [
        "### 2.a) For Falcon-7b-instruct,"
      ],
      "metadata": {
        "id": "STn6h3NSqDWJ"
      }
    },
    {
      "cell_type": "code",
      "source": [
        "!git clone https://huggingface.co/tiiuae/falcon-7b-instruct"
      ],
      "metadata": {
        "colab": {
          "base_uri": "https://localhost:8080/"
        },
        "id": "pMg4g2UAYUai",
        "outputId": "5e2d4a24-87b4-4b8a-f5bc-f51571427b68"
      },
      "execution_count": null,
      "outputs": [
        {
          "metadata": {
            "tags": null
          },
          "name": "stdout",
          "output_type": "stream",
          "text": [
            "Cloning into 'falcon-7b-instruct'...\n",
            "remote: Enumerating objects: 105, done.\u001b[K\n",
            "remote: Total 105 (delta 0), reused 0 (delta 0), pack-reused 105\u001b[K\n",
            "Receiving objects: 100% (105/105), 814.87 KiB | 1.32 MiB/s, done.\n",
            "Resolving deltas: 100% (49/49), done.\n"
          ]
        }
      ]
    },
    {
      "cell_type": "markdown",
      "source": [
        "### 2.b) For the base model, Falcon-7b,"
      ],
      "metadata": {
        "id": "s__KfoQDqSCv"
      }
    },
    {
      "cell_type": "code",
      "source": [
        "!git clone https://huggingface.co/tiiuae/falcon-7b"
      ],
      "metadata": {
        "id": "LxiyjrwGqRRF"
      },
      "execution_count": null,
      "outputs": []
    },
    {
      "cell_type": "markdown",
      "source": [
        "### 2.c) Manually download the individual model.*.safetensors files,"
      ],
      "metadata": {
        "id": "Fin26fJzqeLS"
      }
    },
    {
      "cell_type": "code",
      "source": [
        "!wget https://huggingface.co/tiiuae/falcon-7b/resolve/d09af65857360b23079dc3dc721a2ed29f4423e0/model-00001-of-00002.safetensors\n",
        "!wget https://huggingface.co/tiiuae/falcon-7b/resolve/d09af65857360b23079dc3dc721a2ed29f4423e0/model-00002-of-00002.safetensors\n",
        "!mv model-*.safetensors falcon-7b"
      ],
      "metadata": {
        "id": "ZTX062mLlVJ3"
      },
      "execution_count": null,
      "outputs": []
    },
    {
      "cell_type": "markdown",
      "source": [
        "### 3.) run weightwatcher\n",
        "\n"
      ],
      "metadata": {
        "id": "80iO_96ptV4T"
      }
    },
    {
      "cell_type": "code",
      "source": [
        "import weightwatcher as ww\n",
        "watcher = ww.WeightWatcher()\n",
        "details = watcher.describe(base_model='falcon-7b', model='falcon-7b-instruct')\n",
        "details"
      ],
      "metadata": {
        "id": "n4fyRQv7tWYH"
      },
      "execution_count": null,
      "outputs": []
    },
    {
      "cell_type": "code",
      "source": [
        "import weightwatcher as ww\n",
        "watcher = ww.WeightWatcher()\n",
        "details = watcher.analyze(base_model='falcon-7b', model='falcon-7b-instruct')\n",
        "details"
      ],
      "metadata": {
        "id": "CHlPAYRctmpW"
      },
      "execution_count": null,
      "outputs": []
    },
    {
      "cell_type": "markdown",
      "source": [
        "### 4.) Comparing Fine Tuned Models"
      ],
      "metadata": {
        "id": "3OXPUP4ptz3W"
      }
    },
    {
      "cell_type": "code",
      "source": [
        "avg_alpha =  details.alpha.mean()"
      ],
      "metadata": {
        "id": "sRduzuzut0p6"
      },
      "execution_count": null,
      "outputs": []
    },
    {
      "cell_type": "code",
      "source": [
        "details.alpha.plot.hist(bins=100)"
      ],
      "metadata": {
        "id": "jQ5KfrxzuAEP"
      },
      "execution_count": null,
      "outputs": []
    },
    {
      "cell_type": "code",
      "source": [],
      "metadata": {
        "id": "KHZvNt-wuF9v"
      },
      "execution_count": null,
      "outputs": []
    }
  ]
}