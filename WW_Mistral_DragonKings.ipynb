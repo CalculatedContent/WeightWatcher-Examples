{
  "nbformat": 4,
  "nbformat_minor": 0,
  "metadata": {
    "colab": {
      "provenance": [],
      "machine_shape": "hm",
      "gpuType": "T4",
      "mount_file_id": "12VwLuGt2zffSQ0ANJsehUDTK_ug4ktX0",
      "authorship_tag": "ABX9TyMN1t3TCzf2GT2zcEKkQxyv",
      "include_colab_link": true
    },
    "kernelspec": {
      "name": "python3",
      "display_name": "Python 3"
    },
    "language_info": {
      "name": "python"
    },
    "accelerator": "GPU"
  },
  "cells": [
    {
      "cell_type": "markdown",
      "metadata": {
        "id": "view-in-github",
        "colab_type": "text"
      },
      "source": [
        "<a href=\"https://colab.research.google.com/github/CalculatedContent/WeightWatcher-Examples/blob/main/WW_Mistral_DragonKings.ipynb\" target=\"_parent\"><img src=\"https://colab.research.google.com/assets/colab-badge.svg\" alt=\"Open In Colab\"/></a>"
      ]
    },
    {
      "cell_type": "code",
      "execution_count": null,
      "metadata": {
        "id": "IbiNLRihkDYz"
      },
      "outputs": [],
      "source": [
        "!pip install weightwatcher\n",
        "import weightwatcher as ww\n",
        "ww.__version__"
      ]
    },
    {
      "cell_type": "code",
      "source": [
        "base_model = \"Mistral-7B-v0.1\"\n",
        "base_model_html = \"https://huggingface.co/mistralai/Mistral-7B-v0.1\"\n",
        "\n",
        "!git clone $base_model_html"
      ],
      "metadata": {
        "colab": {
          "base_uri": "https://localhost:8080/"
        },
        "id": "pMg4g2UAYUai",
        "outputId": "7418793f-d91d-4eb2-ffc5-ebb2b874b84a"
      },
      "execution_count": 2,
      "outputs": [
        {
          "output_type": "stream",
          "name": "stdout",
          "text": [
            "Cloning into 'Mistral-7B-v0.1'...\n",
            "remote: Enumerating objects: 87, done.\u001b[K\n",
            "remote: Total 87 (delta 0), reused 0 (delta 0), pack-reused 87\u001b[K\n",
            "Unpacking objects: 100% (87/87), 474.17 KiB | 2.03 MiB/s, done.\n",
            "Filtering content: 100% (5/5), 3.46 GiB | 2.23 MiB/s, done.\n",
            "Encountered 4 file(s) that may not have been copied correctly on Windows:\n",
            "\tmodel-00002-of-00002.safetensors\n",
            "\tpytorch_model-00002-of-00002.bin\n",
            "\tmodel-00001-of-00002.safetensors\n",
            "\tpytorch_model-00001-of-00002.bin\n",
            "\n",
            "See: `git lfs help smudge` for more details.\n"
          ]
        }
      ]
    },
    {
      "cell_type": "code",
      "source": [
        "!ls $base_model"
      ],
      "metadata": {
        "id": "qgsOM7pKkYj4",
        "colab": {
          "base_uri": "https://localhost:8080/"
        },
        "outputId": "bb3a39c0-854b-4bbf-de38-4906d5c433ed"
      },
      "execution_count": 3,
      "outputs": [
        {
          "output_type": "stream",
          "name": "stdout",
          "text": [
            "config.json\t\t\t  pytorch_model-00001-of-00002.bin  tokenizer_config.json\n",
            "generation_config.json\t\t  pytorch_model-00002-of-00002.bin  tokenizer.json\n",
            "model-00001-of-00002.safetensors  pytorch_model.bin.index.json\t    tokenizer.model\n",
            "model-00002-of-00002.safetensors  README.md\n",
            "model.safetensors.index.json\t  special_tokens_map.json\n"
          ]
        }
      ]
    },
    {
      "cell_type": "markdown",
      "source": [
        "### Sanity check: run Describe"
      ],
      "metadata": {
        "id": "XpBELLnYk4ry"
      }
    },
    {
      "cell_type": "code",
      "source": [
        "import logging, os\n",
        "watcher = ww.WeightWatcher(log_level=logging.WARNING)\n",
        "details = watcher.describe(model=base_model)"
      ],
      "metadata": {
        "id": "qBv6H7HEiwRX"
      },
      "execution_count": 4,
      "outputs": []
    },
    {
      "cell_type": "code",
      "source": [
        "details"
      ],
      "metadata": {
        "id": "g91__dK6_QHM"
      },
      "execution_count": null,
      "outputs": []
    },
    {
      "cell_type": "markdown",
      "source": [
        "### Run Analyze, get a details dataframe with layer quality metrics"
      ],
      "metadata": {
        "id": "stkrrpBpk2LX"
      }
    },
    {
      "cell_type": "code",
      "source": [
        "import logging, os\n",
        "watcher = ww.WeightWatcher(log_level=logging.WARNING)\n",
        "details = watcher.analyze(model=base_model, fix_fingers='clip_xmax', randomize=True)"
      ],
      "metadata": {
        "id": "L3FtfaLThRFK"
      },
      "execution_count": null,
      "outputs": []
    },
    {
      "cell_type": "code",
      "source": [
        "import matplotlib.pyplot as plt\n",
        "D = details\n",
        "\n",
        "ax = D.alpha.plot.hist(bins=100, title=f\"WeightWatcher Quality Metrics for {base_model}\", label=\"alpha fixed\")\n",
        "D.raw_alpha.plot.hist(bins=100, label=\"alpha raw\", alpha=0.5, color='purple')\n",
        "\n",
        "avg_alpha = D.alpha.mean()\n",
        "plt.axvline(x=avg_alpha, color='blue',label=f\"<alpha> = {avg_alpha:0.3f}\")\n",
        "\n",
        "avg_raw_alpha = D.raw_alpha.mean()\n",
        "plt.axvline(x=avg_raw_alpha, color='purple',label=f\"<raw alpha> = {avg_raw_alpha:0.3f}\")\n",
        "\n",
        "\n",
        "plt.axvline(x=2.0, color='red',label=f\"overfit warning\")\n",
        "\n",
        "plt.xlabel(\"WeightWatcher Quality Metric Alpha\")\n",
        "plt.legend()\n",
        "filename = f\"{base_model_dir}/alphas.png\"\n",
        "plt.savefig(filename)"
      ],
      "metadata": {
        "id": "OZQZ0vF1V3oP"
      },
      "execution_count": null,
      "outputs": []
    },
    {
      "cell_type": "markdown",
      "source": [
        "### Plot the ESD of a single layer with a finger"
      ],
      "metadata": {
        "id": "jR-bsfdvkzaI"
      }
    },
    {
      "cell_type": "code",
      "source": [
        "watcher.analyze(layers=[139], plot=True)"
      ],
      "metadata": {
        "id": "ZCiO_73_krz0"
      },
      "execution_count": null,
      "outputs": []
    },
    {
      "cell_type": "markdown",
      "source": [
        "### Plot alpha and raw_alpha vs rand_distance"
      ],
      "metadata": {
        "id": "1KmXuy2ilBI4"
      }
    },
    {
      "cell_type": "code",
      "source": [
        "D.plot.scatter(x='alpha', y='rand_distance')\n",
        "D.plot.scatter(x='raw_alpha', y='rand_distance')"
      ],
      "metadata": {
        "id": "Xl0db8A3ky6M"
      },
      "execution_count": null,
      "outputs": []
    },
    {
      "cell_type": "code",
      "source": [],
      "metadata": {
        "id": "ZTX062mLlVJ3"
      },
      "execution_count": null,
      "outputs": []
    }
  ]
}