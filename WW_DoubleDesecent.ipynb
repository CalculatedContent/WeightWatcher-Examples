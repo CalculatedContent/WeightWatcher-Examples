{
  "nbformat": 4,
  "nbformat_minor": 0,
  "metadata": {
    "colab": {
      "provenance": [],
      "include_colab_link": true
    },
    "kernelspec": {
      "name": "python3",
      "display_name": "Python 3"
    },
    "language_info": {
      "name": "python"
    },
    "widgets": {
      "application/vnd.jupyter.widget-state+json": {
        "23bf10d05b7f451fb5b21067b2b6dfb8": {
          "model_module": "@jupyter-widgets/controls",
          "model_name": "HBoxModel",
          "model_module_version": "1.5.0",
          "state": {
            "_dom_classes": [],
            "_model_module": "@jupyter-widgets/controls",
            "_model_module_version": "1.5.0",
            "_model_name": "HBoxModel",
            "_view_count": null,
            "_view_module": "@jupyter-widgets/controls",
            "_view_module_version": "1.5.0",
            "_view_name": "HBoxView",
            "box_style": "",
            "children": [
              "IPY_MODEL_6af17540f50046058f64c778524c2f2c",
              "IPY_MODEL_13c20c123b044eb882e2dca1b6b9f979",
              "IPY_MODEL_741f24d0d94349c98468409e9b837fbe"
            ],
            "layout": "IPY_MODEL_9db0003a69a1423ca0d47e77b0a3d2b9"
          }
        },
        "6af17540f50046058f64c778524c2f2c": {
          "model_module": "@jupyter-widgets/controls",
          "model_name": "HTMLModel",
          "model_module_version": "1.5.0",
          "state": {
            "_dom_classes": [],
            "_model_module": "@jupyter-widgets/controls",
            "_model_module_version": "1.5.0",
            "_model_name": "HTMLModel",
            "_view_count": null,
            "_view_module": "@jupyter-widgets/controls",
            "_view_module_version": "1.5.0",
            "_view_name": "HTMLView",
            "description": "",
            "description_tooltip": null,
            "layout": "IPY_MODEL_4494ca26ec5a45cda0fb8b836e6611b5",
            "placeholder": "​",
            "style": "IPY_MODEL_196884053a4d4190bc6ad89eee7cd9d8",
            "value": "100%"
          }
        },
        "13c20c123b044eb882e2dca1b6b9f979": {
          "model_module": "@jupyter-widgets/controls",
          "model_name": "FloatProgressModel",
          "model_module_version": "1.5.0",
          "state": {
            "_dom_classes": [],
            "_model_module": "@jupyter-widgets/controls",
            "_model_module_version": "1.5.0",
            "_model_name": "FloatProgressModel",
            "_view_count": null,
            "_view_module": "@jupyter-widgets/controls",
            "_view_module_version": "1.5.0",
            "_view_name": "ProgressView",
            "bar_style": "success",
            "description": "",
            "description_tooltip": null,
            "layout": "IPY_MODEL_f17bfc26ee1449f1a7d5ed977c39f652",
            "max": 29,
            "min": 0,
            "orientation": "horizontal",
            "style": "IPY_MODEL_36738db888ba4ced97584b245f9ed05f",
            "value": 29
          }
        },
        "741f24d0d94349c98468409e9b837fbe": {
          "model_module": "@jupyter-widgets/controls",
          "model_name": "HTMLModel",
          "model_module_version": "1.5.0",
          "state": {
            "_dom_classes": [],
            "_model_module": "@jupyter-widgets/controls",
            "_model_module_version": "1.5.0",
            "_model_name": "HTMLModel",
            "_view_count": null,
            "_view_module": "@jupyter-widgets/controls",
            "_view_module_version": "1.5.0",
            "_view_name": "HTMLView",
            "description": "",
            "description_tooltip": null,
            "layout": "IPY_MODEL_d5f5c39fff2b41ee86d6f339f2cf8bda",
            "placeholder": "​",
            "style": "IPY_MODEL_5ec54ede6f384c5587e2ce2677d76f51",
            "value": " 29/29 [01:50&lt;00:00,  4.91s/it]"
          }
        },
        "9db0003a69a1423ca0d47e77b0a3d2b9": {
          "model_module": "@jupyter-widgets/base",
          "model_name": "LayoutModel",
          "model_module_version": "1.2.0",
          "state": {
            "_model_module": "@jupyter-widgets/base",
            "_model_module_version": "1.2.0",
            "_model_name": "LayoutModel",
            "_view_count": null,
            "_view_module": "@jupyter-widgets/base",
            "_view_module_version": "1.2.0",
            "_view_name": "LayoutView",
            "align_content": null,
            "align_items": null,
            "align_self": null,
            "border": null,
            "bottom": null,
            "display": null,
            "flex": null,
            "flex_flow": null,
            "grid_area": null,
            "grid_auto_columns": null,
            "grid_auto_flow": null,
            "grid_auto_rows": null,
            "grid_column": null,
            "grid_gap": null,
            "grid_row": null,
            "grid_template_areas": null,
            "grid_template_columns": null,
            "grid_template_rows": null,
            "height": null,
            "justify_content": null,
            "justify_items": null,
            "left": null,
            "margin": null,
            "max_height": null,
            "max_width": null,
            "min_height": null,
            "min_width": null,
            "object_fit": null,
            "object_position": null,
            "order": null,
            "overflow": null,
            "overflow_x": null,
            "overflow_y": null,
            "padding": null,
            "right": null,
            "top": null,
            "visibility": null,
            "width": null
          }
        },
        "4494ca26ec5a45cda0fb8b836e6611b5": {
          "model_module": "@jupyter-widgets/base",
          "model_name": "LayoutModel",
          "model_module_version": "1.2.0",
          "state": {
            "_model_module": "@jupyter-widgets/base",
            "_model_module_version": "1.2.0",
            "_model_name": "LayoutModel",
            "_view_count": null,
            "_view_module": "@jupyter-widgets/base",
            "_view_module_version": "1.2.0",
            "_view_name": "LayoutView",
            "align_content": null,
            "align_items": null,
            "align_self": null,
            "border": null,
            "bottom": null,
            "display": null,
            "flex": null,
            "flex_flow": null,
            "grid_area": null,
            "grid_auto_columns": null,
            "grid_auto_flow": null,
            "grid_auto_rows": null,
            "grid_column": null,
            "grid_gap": null,
            "grid_row": null,
            "grid_template_areas": null,
            "grid_template_columns": null,
            "grid_template_rows": null,
            "height": null,
            "justify_content": null,
            "justify_items": null,
            "left": null,
            "margin": null,
            "max_height": null,
            "max_width": null,
            "min_height": null,
            "min_width": null,
            "object_fit": null,
            "object_position": null,
            "order": null,
            "overflow": null,
            "overflow_x": null,
            "overflow_y": null,
            "padding": null,
            "right": null,
            "top": null,
            "visibility": null,
            "width": null
          }
        },
        "196884053a4d4190bc6ad89eee7cd9d8": {
          "model_module": "@jupyter-widgets/controls",
          "model_name": "DescriptionStyleModel",
          "model_module_version": "1.5.0",
          "state": {
            "_model_module": "@jupyter-widgets/controls",
            "_model_module_version": "1.5.0",
            "_model_name": "DescriptionStyleModel",
            "_view_count": null,
            "_view_module": "@jupyter-widgets/base",
            "_view_module_version": "1.2.0",
            "_view_name": "StyleView",
            "description_width": ""
          }
        },
        "f17bfc26ee1449f1a7d5ed977c39f652": {
          "model_module": "@jupyter-widgets/base",
          "model_name": "LayoutModel",
          "model_module_version": "1.2.0",
          "state": {
            "_model_module": "@jupyter-widgets/base",
            "_model_module_version": "1.2.0",
            "_model_name": "LayoutModel",
            "_view_count": null,
            "_view_module": "@jupyter-widgets/base",
            "_view_module_version": "1.2.0",
            "_view_name": "LayoutView",
            "align_content": null,
            "align_items": null,
            "align_self": null,
            "border": null,
            "bottom": null,
            "display": null,
            "flex": null,
            "flex_flow": null,
            "grid_area": null,
            "grid_auto_columns": null,
            "grid_auto_flow": null,
            "grid_auto_rows": null,
            "grid_column": null,
            "grid_gap": null,
            "grid_row": null,
            "grid_template_areas": null,
            "grid_template_columns": null,
            "grid_template_rows": null,
            "height": null,
            "justify_content": null,
            "justify_items": null,
            "left": null,
            "margin": null,
            "max_height": null,
            "max_width": null,
            "min_height": null,
            "min_width": null,
            "object_fit": null,
            "object_position": null,
            "order": null,
            "overflow": null,
            "overflow_x": null,
            "overflow_y": null,
            "padding": null,
            "right": null,
            "top": null,
            "visibility": null,
            "width": null
          }
        },
        "36738db888ba4ced97584b245f9ed05f": {
          "model_module": "@jupyter-widgets/controls",
          "model_name": "ProgressStyleModel",
          "model_module_version": "1.5.0",
          "state": {
            "_model_module": "@jupyter-widgets/controls",
            "_model_module_version": "1.5.0",
            "_model_name": "ProgressStyleModel",
            "_view_count": null,
            "_view_module": "@jupyter-widgets/base",
            "_view_module_version": "1.2.0",
            "_view_name": "StyleView",
            "bar_color": null,
            "description_width": ""
          }
        },
        "d5f5c39fff2b41ee86d6f339f2cf8bda": {
          "model_module": "@jupyter-widgets/base",
          "model_name": "LayoutModel",
          "model_module_version": "1.2.0",
          "state": {
            "_model_module": "@jupyter-widgets/base",
            "_model_module_version": "1.2.0",
            "_model_name": "LayoutModel",
            "_view_count": null,
            "_view_module": "@jupyter-widgets/base",
            "_view_module_version": "1.2.0",
            "_view_name": "LayoutView",
            "align_content": null,
            "align_items": null,
            "align_self": null,
            "border": null,
            "bottom": null,
            "display": null,
            "flex": null,
            "flex_flow": null,
            "grid_area": null,
            "grid_auto_columns": null,
            "grid_auto_flow": null,
            "grid_auto_rows": null,
            "grid_column": null,
            "grid_gap": null,
            "grid_row": null,
            "grid_template_areas": null,
            "grid_template_columns": null,
            "grid_template_rows": null,
            "height": null,
            "justify_content": null,
            "justify_items": null,
            "left": null,
            "margin": null,
            "max_height": null,
            "max_width": null,
            "min_height": null,
            "min_width": null,
            "object_fit": null,
            "object_position": null,
            "order": null,
            "overflow": null,
            "overflow_x": null,
            "overflow_y": null,
            "padding": null,
            "right": null,
            "top": null,
            "visibility": null,
            "width": null
          }
        },
        "5ec54ede6f384c5587e2ce2677d76f51": {
          "model_module": "@jupyter-widgets/controls",
          "model_name": "DescriptionStyleModel",
          "model_module_version": "1.5.0",
          "state": {
            "_model_module": "@jupyter-widgets/controls",
            "_model_module_version": "1.5.0",
            "_model_name": "DescriptionStyleModel",
            "_view_count": null,
            "_view_module": "@jupyter-widgets/base",
            "_view_module_version": "1.2.0",
            "_view_name": "StyleView",
            "description_width": ""
          }
        }
      }
    }
  },
  "cells": [
    {
      "cell_type": "markdown",
      "metadata": {
        "id": "view-in-github",
        "colab_type": "text"
      },
      "source": [
        "<a href=\"https://colab.research.google.com/github/CalculatedContent/WeightWatcher-Examples/blob/main/WW_DoubleDesecent.ipynb\" target=\"_parent\"><img src=\"https://colab.research.google.com/assets/colab-badge.svg\" alt=\"Open In Colab\"/></a>"
      ]
    },
    {
      "cell_type": "markdown",
      "source": [
        "# Detecting Double Descent: The Original Physics\n",
        "\n",
        "In this notebook, I attempt to reproduce the results of the 1989 paper\n",
        "\n",
        "https://iopscience.iop.org/article/10.1209/0295-5075/9/4/003\n",
        "\n",
        "which first detected the now-so-called Double Descent phenomena.\n",
        "\n",
        "and show how to detect this phenomena using the HTSR theory behind weightwatcher\n",
        "\n",
        "\n",
        "### The Model\n",
        "\n",
        "The idea is to train a linear regression model on a binary classification problem.  (Here, they picked a problem where the generalization error could be computed 'theoreticaly' in the large-N limit.)\n",
        "\n",
        "The dataset is a sample of  2^{N} hypercube, labeled used what they call the Majority Decision Principle (MDP).  \n",
        "\n",
        "- pick $P=\\alpha N$ patterns from the dataset\n",
        "- in the paper, they pick $\\alpha=[0.5|1.0|1.5$], giving $N=[50|100|150]$\n",
        "- label data instances (sum of bits is odd or even)\n",
        "- run linear regression to predict the binary labels\n",
        "- repeat 100 times\n",
        "- compute training and test accuracies\n",
        "\n",
        "\n",
        "#### More Details\n",
        "We form a dataset consisting of vertices on the n-dimensional hypercube\n",
        "\n",
        "The label = np.sum(x) is even (1)  or odd (-1)\n",
        "\n",
        "<pre> i.e for N = 3\n",
        "\n",
        "Y      X\n",
        "-1 \t [0 0 0]\n",
        "-1 \t [0 0 1]\n",
        "-1 \t [0 1 0]\n",
        "-1 \t [1 0 0]\n",
        "\n",
        " 1 \t [0 1 1]\n",
        " 1 \t [1 0 1]\n",
        " 1 \t [1 1 0]\n",
        " 1 \t [1 1 1]\n",
        "</pre>\n",
        "\n",
        "We need N=100, so we need to create a random sample directly:\n"
      ],
      "metadata": {
        "id": "cmZcakjERild"
      }
    },
    {
      "cell_type": "code",
      "source": [
        "import numpy as np\n",
        "\n",
        "alpha = 1.0\n",
        "N =100\n",
        "P = int(alpha*N)\n",
        "X = np.random.choice([-1, 1], size=(P, N))\n",
        "X"
      ],
      "metadata": {
        "colab": {
          "base_uri": "https://localhost:8080/"
        },
        "id": "Y9qxLwadyVST",
        "outputId": "c7fd5109-9325-4857-8117-bf66e8a684fe"
      },
      "execution_count": 1,
      "outputs": [
        {
          "output_type": "execute_result",
          "data": {
            "text/plain": [
              "array([[ 1,  1, -1, ...,  1, -1, -1],\n",
              "       [ 1,  1, -1, ...,  1, -1, -1],\n",
              "       [-1, -1, -1, ..., -1, -1,  1],\n",
              "       ...,\n",
              "       [ 1, -1,  1, ...,  1, -1,  1],\n",
              "       [-1,  1,  1, ...,  1,  1, -1],\n",
              "       [ 1,  1, -1, ..., -1,  1,  1]])"
            ]
          },
          "metadata": {},
          "execution_count": 1
        }
      ]
    },
    {
      "cell_type": "markdown",
      "source": [
        "The label (Y) is just +1 or -1, depending on if the sum of the positive terms is odd or even.\n",
        "\n",
        "Here's the code that assigns the labels:\n",
        "\n",
        "\n",
        "\n",
        "\n",
        "\n"
      ],
      "metadata": {
        "id": "88sX2hk3g9mn"
      }
    },
    {
      "cell_type": "code",
      "source": [
        "import numpy as np\n",
        "\n",
        "def generate_majority_labels(data):\n",
        "    \"\"\"\n",
        "    Generates labels for each data point based on the majority of its features.\n",
        "    If the number of positive features is greater than or equal to the number of negative features,\n",
        "    the label is +1, otherwise, it's -1.\n",
        "\n",
        "    :param data: NumPy array of data points, where each row is a data point and each column represents a feature.\n",
        "    :return: Array of labels.\n",
        "    \"\"\"\n",
        "    # Count the number of positive features in each data point\n",
        "    # Since data points are from a hypercube, features are either -1 or +1\n",
        "    positive_counts = np.sum(data > 0, axis=1)\n",
        "    # Total number of features\n",
        "    total_features = data.shape[1]\n",
        "    # If the count of positive features is greater than or equal to half of total features, label is +1; otherwise, -1\n",
        "    labels = np.where(positive_counts >= total_features / 2, 1, -1)\n",
        "    return labels\n",
        "\n",
        "# Example usage\n",
        "N = 10  # Dimensions of the hypercube\n",
        "num_samples = 10  # Number of samples\n",
        "# Generate random samples from the hypercube\n",
        "samples = np.random.choice([-1, 1], size=(num_samples, N))\n",
        "# Generate majority labels\n",
        "majority_labels = generate_majority_labels(samples)\n",
        "majority_labels"
      ],
      "metadata": {
        "colab": {
          "base_uri": "https://localhost:8080/"
        },
        "id": "6GtMK-xFyxnh",
        "outputId": "d42b47c0-55fa-4f60-e332-d84a4cba60b0"
      },
      "execution_count": 2,
      "outputs": [
        {
          "output_type": "execute_result",
          "data": {
            "text/plain": [
              "array([-1, -1,  1,  1,  1, -1, -1,  1, -1, -1])"
            ]
          },
          "metadata": {},
          "execution_count": 2
        }
      ]
    },
    {
      "cell_type": "markdown",
      "source": [
        "Here's a random sample of labeled data (X,Y)  for N=100\n",
        "\n",
        "We can check if the labels are balanced 50/50 by taking the sum of the labels Y\n",
        "\n",
        "The data may not be perfectly balanced; that's ok"
      ],
      "metadata": {
        "id": "-HLMVcQmhiBP"
      }
    },
    {
      "cell_type": "code",
      "source": [
        "def generate_mdp_dataset_numpy(P, N):\n",
        "    X = np.random.choice([-1, 1], size=(P, N))\n",
        "    Y = generate_majority_labels(X)\n",
        "    return X, Y\n",
        "\n",
        "\n",
        "Nalpha = 1.0\n",
        "N =100\n",
        "P = int(alpha*N)\n",
        "\n",
        "X, Y = generate_mdp_dataset_numpy(P,N)\n",
        "print(\"Features Matrix:\", X.shape)\n",
        "print(\"\\nLabels Array:\", len(Y), np.sum(Y))\n",
        "\n",
        "print(f\"How balanced is the dataset ?  np.sum(Y) = {np.sum(Y)}\")\n"
      ],
      "metadata": {
        "colab": {
          "base_uri": "https://localhost:8080/"
        },
        "id": "yfG4C5qrYWb8",
        "outputId": "8002e246-66d3-43cf-bb08-125cdc8e781f"
      },
      "execution_count": 3,
      "outputs": [
        {
          "output_type": "stream",
          "name": "stdout",
          "text": [
            "Features Matrix: (100, 100)\n",
            "\n",
            "Labels Array: 100 16\n",
            "How balanced is the dataset ?  np.sum(Y) = 16\n"
          ]
        }
      ]
    },
    {
      "cell_type": "markdown",
      "source": [
        "#### Here is an example of running Logisitic Regression, which gives us the baseline / ideal test accuracy\n"
      ],
      "metadata": {
        "id": "1zY9b2ghOBiN"
      }
    },
    {
      "cell_type": "code",
      "source": [
        "import numpy as np\n",
        "# IMPORTS WE NEED FOR NOW AND LATER\n",
        "from sklearn.linear_model import LogisticRegression,  LinearRegression, Ridge\n",
        "from sklearn.metrics import classification_report\n",
        "from sklearn.model_selection import train_test_split\n",
        "from sklearn.metrics import accuracy_score\n",
        "\n",
        "\n",
        "alpha = 1.5\n",
        "N = 100\n",
        "P = int(alpha*N)\n",
        "\n",
        "X, Y = generate_mdp_dataset_numpy(P,N)\n",
        "\n",
        "X_train, X_test, Y_train, Y_test = train_test_split(X, Y, test_size=0.3, random_state=42)\n",
        "\n",
        "# Train the logistic regression model (assuming Y_train contains discrete class labels)\n",
        "classifier = LogisticRegression()\n",
        "classifier.fit(X_train, Y_train)\n",
        "\n",
        "# Predict Y values for both the training and test sets\n",
        "Y_train_pred = classifier.predict(X_train)\n",
        "Y_test_pred = classifier.predict(X_test)\n",
        "\n",
        "# Predict labels for both training and test sets\n",
        "Y_train_pred = classifier.predict(X_train)\n",
        "Y_test_pred = classifier.predict(X_test)\n",
        "\n",
        "# Compute accuracy for both training and test sets\n",
        "train_accuracy = accuracy_score(Y_train, Y_train_pred)\n",
        "test_accuracy = accuracy_score(Y_test, Y_test_pred)\n",
        "\n",
        "print(f\"train_accuracy {train_accuracy:0.2f}\")\n",
        "print(f\"test_accuracy {test_accuracy:0.2f}\")"
      ],
      "metadata": {
        "colab": {
          "base_uri": "https://localhost:8080/"
        },
        "id": "SOU0pOrsilfb",
        "outputId": "49dc576c-f535-4505-bcd9-b4fdada43af8"
      },
      "execution_count": 4,
      "outputs": [
        {
          "output_type": "stream",
          "name": "stdout",
          "text": [
            "train_accuracy 1.00\n",
            "test_accuracy 0.80\n"
          ]
        }
      ]
    },
    {
      "cell_type": "code",
      "source": [],
      "metadata": {
        "id": "uugClW9Yxf8b"
      },
      "execution_count": 4,
      "outputs": []
    },
    {
      "cell_type": "markdown",
      "source": [
        "### Basic Double Descent Curve\n",
        "\n",
        "\n",
        "Here is code we can use to generate a basic double descent curve\n",
        "\n",
        "We  create a sample data set, run Linear Regression"
      ],
      "metadata": {
        "id": "B3EfwdnRxvHp"
      }
    },
    {
      "cell_type": "code",
      "source": [
        "\n",
        "def run_LR_experiment(alpha=1.0, verbose=True):\n",
        "\n",
        "  N = 100\n",
        "  P = int(alpha * N)\n",
        "\n",
        "  X_train, Y_train = generate_mdp_dataset_numpy(P,N)\n",
        "  X_test, Y_test = generate_mdp_dataset_numpy(P,N)\n",
        "\n",
        "  # Train the linear regression model\n",
        "  regressor =  LinearRegression(fit_intercept=False)\n",
        "  regressor.fit(X_train, Y_train)\n",
        "\n",
        "  # Predict Y values for the training and test sets\n",
        "  Y_train_value = regressor.predict(X_train)\n",
        "  Y_test_value  =  regressor.predict(X_test)\n",
        "\n",
        "  # Convert predictions to binary class labels based on the condition\n",
        "  Y_train_pred = np.where(Y_train_value > 0, 1, -1)  # Converts to 1 if Y > 0 else -1\n",
        "  Y_test_pred = np.where(Y_test_value > 0, 1, -1)  # Converts to 1 if Y > 0 else -1\n",
        "\n",
        "\n",
        "  # Compute accuracy for both training and test sets\n",
        "  train_accuracy = accuracy_score(Y_train, Y_train_pred)\n",
        "  test_accuracy = accuracy_score(Y_test, Y_test_pred)\n",
        "\n",
        "  if verbose:\n",
        "\n",
        "    print(f\"Runing LR experiment  alpha={alpha:0.2f}\")\n",
        "\n",
        "    # Output the sum of the training labels and also test labels for verification\n",
        "    print(\"Sum of Y_train:\", np.sum(Y_train))\n",
        "    print(\"Sum of Y_test:\", np.sum(Y_test))\n",
        "\n",
        "\n",
        "    # Generate classification reports for both training and test sets\n",
        "    report_train = classification_report(Y_train, Y_train_pred)\n",
        "    report_test = classification_report(Y_test, Y_test_pred)\n",
        "\n",
        "    # Print out the classification reports\n",
        "    print(f\"N={10} P={P} \"+r\"$\\alpha$\"+f\"={alpha:0.2f} \")\n",
        "    print(\"Training Classification Report:\\n\", report_train)\n",
        "    print(\"Test Classification Report:\\n\", report_test)\n",
        "    print(\"\\n---------------------------\\n\")\n",
        "\n",
        "  # ---\n",
        "\n",
        "  svals = np.linalg.svd(X_train, compute_uv=False)\n",
        "  train_evals = 1.0/(svals**2)\n",
        "\n",
        "  svals = np.linalg.svd(X_test, compute_uv=False)\n",
        "  test_evals = 1.0/(svals**2)\n",
        "\n",
        "  return train_accuracy, test_accuracy, train_evals, test_evals"
      ],
      "metadata": {
        "id": "bqn0iIJp1kCO"
      },
      "execution_count": 5,
      "outputs": []
    },
    {
      "cell_type": "markdown",
      "source": [
        "## 3 Alphas, 100 Runs\n",
        "\n",
        "First, lets run 100 Regressions for each of the  $\\alpha\\in[0.5, 1.0, 1.5]$ as in the paper\n",
        "\n",
        "We can see that the test accuracy for $\\alpha=1.0\\;(P=N)$ is less than for  $\\alpha=0.5;(P<N)$ and for  $\\alpha=1.5\\;(P>N)$\n",
        "\n",
        "### Solving Linear Regression with the PseudoInverse\n",
        "\n",
        "To support analysis later, we will solve the Linear Regression problem  using the PseudoInverse method\n",
        "\n",
        "\n",
        "\n",
        "Given a data pair $\\mathbf{x}, y$, we can write Linear Regression problem as\n",
        "(where, here, the target variable $y$ is just a binary label $[1|-1]$)\n",
        "\n",
        "$$\\mathbf{w^{T}x}=y=[1|-1]$$\n",
        "\n",
        "\n",
        "We want to find the weight vector $\\mathbf{w}$\n",
        "\n",
        "Lets write the problem using the entire data matrix $\\mathbf{X}$ and the vector of labels $\\mathbf{y}$.\n",
        "\n",
        "We can now write the Linear Regression problem in matrix form as\n",
        "\n",
        "$$\\mathbf{w^{T}X}=\\mathbf{y}$$\n",
        "\n",
        "We can write the solutions in terms of the Moore-Penrose PseudoInverse. First, lets flip things around a little\n",
        "\n",
        "$$\\mathbf{X^{T}}\\mathbf{w}=\\mathbf{y}$$\n",
        "\n",
        "Now, multiply by $\\mathbf{W}$ on both sides of this relation\n",
        "\n",
        "$$\\mathbf{XX^{T}}\\mathbf{w}=\\mathbf{X}\\mathbf{y}$$\n",
        "\n",
        "We now invert the data covariance matrix $\\mathbf{H}=\\mathbf{XX^{T}}$\n",
        "\n",
        "$$\\mathbf{w}=(\\mathbf{XX^{T}})^{-1}\\mathbf{X}\\mathbf{y}$$\n",
        "\n",
        "We now identify the Moore-Penrose PseudoInverse operator $\\mathbf{PI}$\n",
        "\n",
        "$$\\mathbf{PI}:=(\\mathbf{XX^{T}})^{-1}\\mathbf{X}$$\n",
        "\n",
        "The optimal weight vector is given by\n",
        "\n",
        "\n",
        "$$\\mathbf{w}=\\mathbf{PI}.\\mathbf{y}$$\n",
        "\n",
        "As part of our initial analysis, we will compute the eigenvalues $\\lambda_{i}$ of the  covariance matrix $\\mathbf{H}=\\mathbf{XX^{T}}$, as described in the paper\n",
        "\n",
        "$$\\mathbf{H}\\mathbf{v}_{i}=\\lambda_{i}\\mathbf{v}_{i}$$\n",
        "\n",
        "as well as the distribution  $\\rho(\\lambda^{-1})$ of the inverse eigenvalues $\\lambda^{-1}$\n",
        "\n",
        "\n",
        "\n"
      ],
      "metadata": {
        "id": "tqCDENENyNJp"
      }
    },
    {
      "cell_type": "code",
      "source": [
        "import matplotlib.pyplot as plt\n",
        "\n",
        "fig, axs = plt.subplots(1, 2, figsize=(15, 5))  # 1 row, 2 columns\n",
        "\n",
        "train_evals = [[],[],[]]\n",
        "test_evals = [[],[],[]]\n",
        "\n",
        "mean_test_accuraces = []\n",
        "for ia, alpha in enumerate([0.5, 1.0, 1.5]):\n",
        "  train_accs = []\n",
        "  test_accs = []\n",
        "\n",
        "  train_evals[ia] = []\n",
        "  test_evals[ia] = []\n",
        "\n",
        "  for idx in range(100):\n",
        "    a,b, c, d = run_LR_experiment(alpha, verbose=False)\n",
        "    train_accs.append(a)\n",
        "    test_accs.append(b)\n",
        "\n",
        "    train_evals[ia].append(c)\n",
        "    test_evals[ia].append(d)\n",
        "\n",
        "  mean_train_acc = np.mean(train_accs)\n",
        "  mean_test_acc = np.mean(test_accs)\n",
        "\n",
        "  mean_test_accuraces.append(mean_test_acc)\n",
        "\n",
        "  axs[0].hist(train_accs, bins=50, label=r\"$\\alpha=$\"+f\"{alpha:0.2f} meam={mean_train_acc:0.2f}\");\n",
        "  axs[0].set_title(\"Train accuracies (100 trials)\")\n",
        "\n",
        "  axs[1].hist(test_accs, bins=50, label=r\"$\\alpha=$\"+f\"{alpha:0.2f} mean={mean_test_acc:0.2f}\");\n",
        "  axs[1].set_title(\"Test accuracies (100 trials)\")\n",
        "\n",
        "plt.legend()\n",
        "\n"
      ],
      "metadata": {
        "colab": {
          "base_uri": "https://localhost:8080/",
          "height": 486
        },
        "id": "Wtw2jT3aCUnl",
        "outputId": "f34e99c5-7f92-496a-d1ba-cfb170cc5290"
      },
      "execution_count": 6,
      "outputs": [
        {
          "output_type": "execute_result",
          "data": {
            "text/plain": [
              "<matplotlib.legend.Legend at 0x7db9a1aff8b0>"
            ]
          },
          "metadata": {},
          "execution_count": 6
        },
        {
          "output_type": "display_data",
          "data": {
            "text/plain": [
              "<Figure size 1500x500 with 2 Axes>"
            ],
            "image/png": "[encoded data removed]"
          },
          "metadata": {}
        }
      ]
    },
    {
      "cell_type": "markdown",
      "source": [
        "Notice that the  test accuracies have quite a large spread, but, on average, the mean test accuracy for the case $\\alpha=1\\;(P=N)$ is much smaller than for the other cases.  \n",
        "\n",
        "Now lets compute the full Double Descent curve"
      ],
      "metadata": {
        "id": "bR8u4yQtFuIs"
      }
    },
    {
      "cell_type": "markdown",
      "source": [
        "### The full DD curve  is easy to generate\n",
        "\n",
        "- X-Axis:  The 'load' $\\alpha=N/P$, which is a simple measure of model complexity\n",
        "\n",
        "- Y-Axis:  Test Accuracy"
      ],
      "metadata": {
        "id": "8e3gS75pybYV"
      }
    },
    {
      "cell_type": "code",
      "source": [
        "DD_test_accuraces = []\n",
        "for ia in range(1,20,1):\n",
        "  train_accs = []\n",
        "  test_accs = []\n",
        "  alpha = float(ia/10.0)\n",
        "\n",
        "  for idx in range(100):\n",
        "    a,b, c, d = run_LR_experiment(alpha, verbose=False)\n",
        "    train_accs.append(a)\n",
        "    test_accs.append(b)\n",
        "\n",
        "  DD_test_accuraces.append(np.mean(test_accs))\n",
        "\n",
        "plt.scatter(x=[ia/10.0 for ia in range(1,20,1)], y=1.0-np.array(DD_test_accuraces))\n",
        "plt.title(r\"$\\alpha=N/P$ vs Test Accuracies\")\n",
        "plt.xlabel(r\"$\\alpha=N/P$\")\n",
        "plt.ylabel(\"Mean Test Error\")"
      ],
      "metadata": {
        "colab": {
          "base_uri": "https://localhost:8080/",
          "height": 492
        },
        "id": "kPRfC82Dyzb9",
        "outputId": "5b61e557-9673-4711-c1f7-a0dc4324a358"
      },
      "execution_count": 7,
      "outputs": [
        {
          "output_type": "execute_result",
          "data": {
            "text/plain": [
              "Text(0, 0.5, 'Mean Test Error')"
            ]
          },
          "metadata": {},
          "execution_count": 7
        },
        {
          "output_type": "display_data",
          "data": {
            "text/plain": [
              "<Figure size 640x480 with 1 Axes>"
            ],
            "image/png": "[encoded data removed]"
          },
          "metadata": {}
        }
      ]
    },
    {
      "cell_type": "markdown",
      "source": [
        "# WeightWatcher PowerLaw Analysis\n",
        "\n",
        "We can use weightwatcher to 'detect' the signatures of overfitting in the extreme case $\\alpha=0.5$.  And understand better why this arises.\n",
        "\n",
        "Recall that we computed and saved the inverse eigenvalues $\\lambda^{-1}$ for each of the 100 experimental runs for each $\\alpha$.  Here, we combine them, plot the distribution, and (as in weightwatcher), try fit it to a power law distribution to obtain the weightwatcher (WW) $\\alpha_{PL}$  \n",
        "\n",
        "It might be confusing that we have 2 $\\alpha$; sorry about that.  To avoid confusion, I will denite the weightwatcher PL layer quality metrix as $\\alpha_{PL}$\n"
      ],
      "metadata": {
        "id": "vzUMLTio5dx0"
      }
    },
    {
      "cell_type": "code",
      "source": [
        "!pip install powerlaw"
      ],
      "metadata": {
        "colab": {
          "base_uri": "https://localhost:8080/"
        },
        "id": "sQja6qwCU7vG",
        "outputId": "2ad3f974-6eb9-4f30-ebfb-bf12c6f1ecd4"
      },
      "execution_count": 8,
      "outputs": [
        {
          "output_type": "stream",
          "name": "stdout",
          "text": [
            "Collecting powerlaw\n",
            "  Downloading powerlaw-1.5-py3-none-any.whl (24 kB)\n",
            "Requirement already satisfied: scipy in /usr/local/lib/python3.10/dist-packages (from powerlaw) (1.11.4)\n",
            "Requirement already satisfied: numpy in /usr/local/lib/python3.10/dist-packages (from powerlaw) (1.25.2)\n",
            "Requirement already satisfied: matplotlib in /usr/local/lib/python3.10/dist-packages (from powerlaw) (3.7.1)\n",
            "Requirement already satisfied: mpmath in /usr/local/lib/python3.10/dist-packages (from powerlaw) (1.3.0)\n",
            "Requirement already satisfied: contourpy>=1.0.1 in /usr/local/lib/python3.10/dist-packages (from matplotlib->powerlaw) (1.2.0)\n",
            "Requirement already satisfied: cycler>=0.10 in /usr/local/lib/python3.10/dist-packages (from matplotlib->powerlaw) (0.12.1)\n",
            "Requirement already satisfied: fonttools>=4.22.0 in /usr/local/lib/python3.10/dist-packages (from matplotlib->powerlaw) (4.49.0)\n",
            "Requirement already satisfied: kiwisolver>=1.0.1 in /usr/local/lib/python3.10/dist-packages (from matplotlib->powerlaw) (1.4.5)\n",
            "Requirement already satisfied: packaging>=20.0 in /usr/local/lib/python3.10/dist-packages (from matplotlib->powerlaw) (23.2)\n",
            "Requirement already satisfied: pillow>=6.2.0 in /usr/local/lib/python3.10/dist-packages (from matplotlib->powerlaw) (9.4.0)\n",
            "Requirement already satisfied: pyparsing>=2.3.1 in /usr/local/lib/python3.10/dist-packages (from matplotlib->powerlaw) (3.1.1)\n",
            "Requirement already satisfied: python-dateutil>=2.7 in /usr/local/lib/python3.10/dist-packages (from matplotlib->powerlaw) (2.8.2)\n",
            "Requirement already satisfied: six>=1.5 in /usr/local/lib/python3.10/dist-packages (from python-dateutil>=2.7->matplotlib->powerlaw) (1.16.0)\n",
            "Installing collected packages: powerlaw\n",
            "Successfully installed powerlaw-1.5\n"
          ]
        }
      ]
    },
    {
      "cell_type": "markdown",
      "source": [
        "### We fit the Inverse ESD to a power law for every experiment, then compute the average PL_alpha\n",
        "\n",
        "I am not using the weightwatcher GPU-enhanced PL fit, so this may be a bit slow"
      ],
      "metadata": {
        "id": "SarfAu86hhnU"
      }
    },
    {
      "cell_type": "code",
      "source": [
        "%%capture\n",
        "import powerlaw\n",
        "\n",
        "# save the to re-use in the plots below\n",
        "PL_alphas = []\n",
        "std_alphas = []\n",
        "for ia, load in enumerate([0.5, 1.0, 1.5]):\n",
        "  print(ia,load)\n",
        "\n",
        "  PL_fits = []\n",
        "  for evals in train_evals[ia]:\n",
        "    fit = powerlaw.Fit(evals)\n",
        "    alpha_pl = fit.alpha\n",
        "    PL_fits.append(alpha_pl)\n",
        "\n",
        "  avg_alpha = np.mean(PL_fits)\n",
        "  PL_alphas.append(avg_alpha)\n",
        "  std_alphas.append(np.std(PL_fits))\n"
      ],
      "metadata": {
        "id": "ktLosMxBj6w0"
      },
      "execution_count": 9,
      "outputs": []
    },
    {
      "cell_type": "code",
      "source": [
        "fig, axs = plt.subplots(1, 3, figsize=(15, 5))  # 1 row, 3 columns\n",
        "colors = ['blue', 'orange', 'green']\n",
        "\n",
        "for ia, load in enumerate([0.5, 1.0, 1.5]):\n",
        "  all_evals = []\n",
        "  for evals in train_evals[ia]:\n",
        "    all_evals.extend(evals)\n",
        "\n",
        "  avg_alpha_pl = PL_alphas[ia]\n",
        "  std_alpha_pl = std_alphas[ia]\n",
        "  axs[ia].hist(all_evals, bins=100, color=colors[ia])\n",
        "  title =f\"Train Evals, P={load}N\"+r\" $avg\\;\\alpha_{PL}=$\"+f\"{avg_alpha_pl:0.2f}\"+r\"$\\pm$\"+f\"{std_alpha_pl:0.2f}\"\n",
        "  title +=f\"\\n Test Accuracy: {mean_test_accuraces[ia]:0.2f}\"\n",
        "  axs[ia].set_title(title)\n",
        "\n"
      ],
      "metadata": {
        "colab": {
          "base_uri": "https://localhost:8080/",
          "height": 511
        },
        "id": "Brn13HkNi1Nd",
        "outputId": "47a86b32-c76e-45ee-ca3a-4cacae175f8b"
      },
      "execution_count": 10,
      "outputs": [
        {
          "output_type": "display_data",
          "data": {
            "text/plain": [
              "<Figure size 1500x500 with 3 Axes>"
            ],
            "image/png": "[encoded data removed]"
          },
          "metadata": {}
        }
      ]
    },
    {
      "cell_type": "code",
      "source": [],
      "metadata": {
        "id": "3JoYlJ51kLtg"
      },
      "execution_count": 10,
      "outputs": []
    },
    {
      "cell_type": "markdown",
      "source": [
        "### Dectecting Double Descent with WeightWatcher\n",
        "\n",
        "When the model is overfit (due to Double Descent), the weightwatcher poweer law (PL) layer quality metric: $WW\\;\\alpha_{PL}<<2$  \n",
        "\n",
        "THis corresponds to the HTSR Very Heavy Tailed (VHT) Univerdsality class\n",
        "\n"
      ],
      "metadata": {
        "id": "H1yI2LyEG6Fe"
      }
    },
    {
      "cell_type": "markdown",
      "source": [
        "### ESDs on a Log-Log Scale"
      ],
      "metadata": {
        "id": "WFmKAxmSI9Ir"
      }
    },
    {
      "cell_type": "code",
      "source": [
        "import powerlaw\n",
        "import matplotlib.pyplot as plt\n",
        "\n",
        "\n",
        "fig, axs = plt.subplots(1, 3, figsize=(15, 5))  # 1 row, 3 columns\n",
        "colors = ['blue', 'orange', 'green']\n",
        "\n",
        "for ia, load in enumerate([0.5, 1.0, 1.5]):\n",
        "  all_evals = []\n",
        "  for evals in train_evals[ia]:\n",
        "    if ia ==1:\n",
        "      evals = evals[evals<10**4] # easuer to view load=alpha=1.0\n",
        "      evals = evals[evals>100]\n",
        "    all_evals.extend(evals)\n",
        "\n",
        "  axs[ia].hist(all_evals, bins=100, color=colors[ia], log=True)\n",
        "  avg_alpha_pl = PL_alphas[ia]\n",
        "  std_alpha_pl = std_alphas[ia]\n",
        "\n",
        "  title = f\"Log-Log Train Evals, P={load}\" + r\" WW $\\alpha_{PL}=$\" + f\"{avg_alpha_pl:0.2f}\"+r\"$\\pm$\"+f\"{std_alpha_pl:0.2f}\"\n",
        "\n",
        "  title += f\"\\n Test Accuracy: {mean_test_accuraces[ia]:0.2f}\"\n",
        "  if ia==1:\n",
        "    title+=\"(Zoomed In)\"\n",
        "  axs[ia].set_title(title)\n",
        "  axs[ia].set_xscale('log')\n",
        "  axs[ia].set_yscale('log')\n",
        "  axs[ia].grid(True)\n",
        "\n",
        "plt.legend()\n",
        "plt.show()\n"
      ],
      "metadata": {
        "colab": {
          "base_uri": "https://localhost:8080/",
          "height": 515
        },
        "id": "pf-aanDOuWz0",
        "outputId": "b40b3fb1-d57b-4129-b3cb-4c09fef3c20f"
      },
      "execution_count": 11,
      "outputs": [
        {
          "output_type": "stream",
          "name": "stderr",
          "text": [
            "WARNING:matplotlib.legend:No artists with labels found to put in legend.  Note that artists whose label start with an underscore are ignored when legend() is called with no argument.\n"
          ]
        },
        {
          "output_type": "display_data",
          "data": {
            "text/plain": [
              "<Figure size 1500x500 with 3 Axes>"
            ],
            "image/png": "[encoded data removed]"
          },
          "metadata": {}
        }
      ]
    },
    {
      "cell_type": "code",
      "source": [],
      "metadata": {
        "id": "-3azFV45mN0J"
      },
      "execution_count": 11,
      "outputs": []
    },
    {
      "cell_type": "markdown",
      "source": [
        "### It quite amazing that the weight"
      ],
      "metadata": {
        "id": "HREYg0BBIg3-"
      }
    },
    {
      "cell_type": "markdown",
      "source": [
        "### ESD of the Data\n",
        "\n",
        "What does the Empirical Spectral Density (ESD), or eigenvalue distribution,  $\\rho(\\lambda)$, look like for the original data covariance matrix ?  \n",
        "\n",
        "These ESDs look similar to (but not exactly like) the associated Marchenko Pastur (MP) disributions for these data matrices"
      ],
      "metadata": {
        "id": "rZMb-6ueJg8i"
      }
    },
    {
      "cell_type": "code",
      "source": [
        "import numpy as np\n",
        "import matplotlib.pyplot as plt\n",
        "\n",
        "def plot_marchenko_pastur(Q, ax=None, x_shift=0.0, y_scale=1.0):\n",
        "    \"\"\"\n",
        "    Plots the Marchenko-Pastur distribution for a given aspect ratio Q on the provided axes.\n",
        "    If no axes are provided, creates a new figure and axes.\n",
        "\n",
        "    Args:\n",
        "        Q (float): The aspect ratio of the matrix (number of columns / number of rows).\n",
        "        ax (matplotlib.axes.Axes, optional): The axes on which to plot the distribution. Defaults to None.\n",
        "    \"\"\"\n",
        "    # Marchenko-Pastur parameters\n",
        "    a = (1 - np.sqrt(1 / Q))**2\n",
        "    b = (1 + np.sqrt(1 / Q))**2\n",
        "\n",
        "    # Marchenko-Pastur probability density function\n",
        "    def mp_pdf(x, Q):\n",
        "        return (1 / (2 * np.pi * x * Q)) * np.sqrt((b - x) * (x - a))\n",
        "\n",
        "    # Define x values for plotting\n",
        "    x_values = np.linspace(a, b, 1000)\n",
        "\n",
        "    # Compute the corresponding y values for the MP distribution\n",
        "    y_values = mp_pdf(x_values, Q)\n",
        "\n",
        "    # Plotting\n",
        "    if ax is None:\n",
        "        fig, ax = plt.subplots(figsize=(8, 6))  # Create new figure and axes if none are provided\n",
        "\n",
        "    x_values += x_shift\n",
        "    y_values *= y_scale\n",
        "\n",
        "    ax.plot(x_values, y_values, label=f'Marchenko-Pastur ($Q={Q:0.2f}$)')\n",
        "    ax.fill_between(x_values, y_values, color='skyblue', alpha=0.5)\n",
        "    ax.set_title('Marchenko-Pastur Distribution')\n",
        "    ax.set_xlabel('Eigenvalue')\n",
        "    ax.set_ylabel('Probability Density')\n",
        "    ax.legend()\n",
        "    ax.grid(True)\n",
        "\n",
        "#fig, axs = plt.subplots(1, 2, figsize=(12, 5))  # Create a figure with two subplots\n",
        "#plot_marchenko_pastur(10, ax=axs[0])  # Plot MP distribution on the first subplot"
      ],
      "metadata": {
        "id": "PcUR4FKoVc8Z"
      },
      "execution_count": 12,
      "outputs": []
    },
    {
      "cell_type": "code",
      "source": [
        "\n",
        "fig, axs = plt.subplots(1, 3, figsize=(15, 5))  # 1 row, 3 columns\n",
        "colors = ['blue', 'orange', 'green']\n",
        "\n",
        "for ia, load in enumerate([0.5, 1.0, 1.5]):\n",
        "  P = load*N\n",
        "  all_evals = []\n",
        "  for evals in train_evals[ia]:\n",
        "    evals = (1/P)*(1.0/np.array(evals)) # inverse evals, rescaled\n",
        "    all_evals.extend(evals)\n",
        "\n",
        "  axs[ia].hist(all_evals, bins=100, label=f\"load={load:0.2f}\", color=colors[ia], density=True)\n",
        "  plot_marchenko_pastur(Q=load, ax=axs[ia], y_scale=1.0)\n",
        "  axs[ia].set_title(\"ESD of Training Data Covariance Matrix\")\n",
        "\n",
        "  if ia==1:\n",
        "    axs[ia].set_ylim(0,1)\n",
        "\n",
        "\n",
        "plt.legend()\n",
        "plt.show()"
      ],
      "metadata": {
        "colab": {
          "base_uri": "https://localhost:8080/",
          "height": 558
        },
        "id": "8FAgH9C2XW7o",
        "outputId": "d87e7992-fe80-4e4b-da52-8da752395963"
      },
      "execution_count": 13,
      "outputs": [
        {
          "output_type": "stream",
          "name": "stderr",
          "text": [
            "<ipython-input-12-46fcc9d454b2>:19: RuntimeWarning: divide by zero encountered in divide\n",
            "  return (1 / (2 * np.pi * x * Q)) * np.sqrt((b - x) * (x - a))\n",
            "<ipython-input-12-46fcc9d454b2>:19: RuntimeWarning: invalid value encountered in multiply\n",
            "  return (1 / (2 * np.pi * x * Q)) * np.sqrt((b - x) * (x - a))\n"
          ]
        },
        {
          "output_type": "display_data",
          "data": {
            "text/plain": [
              "<Figure size 1500x500 with 3 Axes>"
            ],
            "image/png": "[encoded data removed]"
          },
          "metadata": {}
        }
      ]
    },
    {
      "cell_type": "markdown",
      "source": [
        "### Why does load $\\alpha=1\\;(P=N)$ give the weightwatahcer $\\alpha_{PL}<2$ ?\n",
        "\n",
        "Learning is an inverse problem.\n",
        "\n",
        "What matters is the statistics of the inverse covarince matrix, not the data covariance matrix itself.\n",
        "\n",
        "Given a 'random' data matrix (a matrix of i.i.d random data), if it is square, then the ESD $\\rho(\\lambda)$. of the data covariance matrix resembles (or is exactly) a Marchenko-Pastur  disttribution (middle plot).\n",
        "\n",
        "Notice that when $P=N$, as here, then the ESD has a large peak at $\\lambda=0$.  And only for $P=N$.\n",
        "\n",
        "Given this, the ESD of the inverse covarince matrix $rho(\\lambda^{-1})$ will have a very long, heavy tail.  And when fit to a Power Law (PL), the PL exponent $\\alpha_{PL}$ will most likely be less than 2, i.e.the weighwatcher (WW) $\\alpha_{PL}<2$\n",
        "\n"
      ],
      "metadata": {
        "id": "WmYp1dcGJsAn"
      }
    },
    {
      "cell_type": "markdown",
      "source": [
        "# Analyzing the full DD curve with WeightWatcher\n",
        "\n",
        "Now we repeat the above experiment to compute the full Double Descent experiment and show that the weightwatcher layer quality metric  $(\\alpha)$ can reproduce the DD curve in the OverParmaterized regime when using $\\alpha$ as the model capacity metric\n",
        "\n",
        "Note:  you need weighrwatcher version 0.7.4.8 or higher for this\n"
      ],
      "metadata": {
        "id": "ZKRVM9F2wd_e"
      }
    },
    {
      "cell_type": "code",
      "source": [
        "!pip install weightwatcher"
      ],
      "metadata": {
        "id": "eEJwFNxHw0ft",
        "outputId": "26a0f19c-c812-415a-bb0c-9930b16f8445",
        "colab": {
          "base_uri": "https://localhost:8080/"
        }
      },
      "execution_count": 14,
      "outputs": [
        {
          "output_type": "stream",
          "name": "stdout",
          "text": [
            "Collecting weightwatcher\n",
            "  Downloading weightwatcher-0.7.4.9-py3-none-any.whl (79 kB)\n",
            "\u001b[2K     \u001b[90m━━━━━━━━━━━━━━━━━━━━━━━━━━━━━━━━━━━━━━━━\u001b[0m \u001b[32m79.8/79.8 kB\u001b[0m \u001b[31m1.6 MB/s\u001b[0m eta \u001b[36m0:00:00\u001b[0m\n",
            "\u001b[?25hRequirement already satisfied: numpy in /usr/local/lib/python3.10/dist-packages (from weightwatcher) (1.25.2)\n",
            "Requirement already satisfied: pandas in /usr/local/lib/python3.10/dist-packages (from weightwatcher) (1.5.3)\n",
            "Requirement already satisfied: matplotlib in /usr/local/lib/python3.10/dist-packages (from weightwatcher) (3.7.1)\n",
            "Requirement already satisfied: matplotlib-inline in /usr/local/lib/python3.10/dist-packages (from weightwatcher) (0.1.6)\n",
            "Requirement already satisfied: powerlaw in /usr/local/lib/python3.10/dist-packages (from weightwatcher) (1.5)\n",
            "Requirement already satisfied: scikit-learn in /usr/local/lib/python3.10/dist-packages (from weightwatcher) (1.2.2)\n",
            "Requirement already satisfied: safetensors in /usr/local/lib/python3.10/dist-packages (from weightwatcher) (0.4.2)\n",
            "Requirement already satisfied: tqdm in /usr/local/lib/python3.10/dist-packages (from weightwatcher) (4.66.2)\n",
            "Requirement already satisfied: contourpy>=1.0.1 in /usr/local/lib/python3.10/dist-packages (from matplotlib->weightwatcher) (1.2.0)\n",
            "Requirement already satisfied: cycler>=0.10 in /usr/local/lib/python3.10/dist-packages (from matplotlib->weightwatcher) (0.12.1)\n",
            "Requirement already satisfied: fonttools>=4.22.0 in /usr/local/lib/python3.10/dist-packages (from matplotlib->weightwatcher) (4.49.0)\n",
            "Requirement already satisfied: kiwisolver>=1.0.1 in /usr/local/lib/python3.10/dist-packages (from matplotlib->weightwatcher) (1.4.5)\n",
            "Requirement already satisfied: packaging>=20.0 in /usr/local/lib/python3.10/dist-packages (from matplotlib->weightwatcher) (23.2)\n",
            "Requirement already satisfied: pillow>=6.2.0 in /usr/local/lib/python3.10/dist-packages (from matplotlib->weightwatcher) (9.4.0)\n",
            "Requirement already satisfied: pyparsing>=2.3.1 in /usr/local/lib/python3.10/dist-packages (from matplotlib->weightwatcher) (3.1.1)\n",
            "Requirement already satisfied: python-dateutil>=2.7 in /usr/local/lib/python3.10/dist-packages (from matplotlib->weightwatcher) (2.8.2)\n",
            "Requirement already satisfied: traitlets in /usr/local/lib/python3.10/dist-packages (from matplotlib-inline->weightwatcher) (5.7.1)\n",
            "Requirement already satisfied: pytz>=2020.1 in /usr/local/lib/python3.10/dist-packages (from pandas->weightwatcher) (2023.4)\n",
            "Requirement already satisfied: scipy in /usr/local/lib/python3.10/dist-packages (from powerlaw->weightwatcher) (1.11.4)\n",
            "Requirement already satisfied: mpmath in /usr/local/lib/python3.10/dist-packages (from powerlaw->weightwatcher) (1.3.0)\n",
            "Requirement already satisfied: joblib>=1.1.1 in /usr/local/lib/python3.10/dist-packages (from scikit-learn->weightwatcher) (1.3.2)\n",
            "Requirement already satisfied: threadpoolctl>=2.0.0 in /usr/local/lib/python3.10/dist-packages (from scikit-learn->weightwatcher) (3.3.0)\n",
            "Requirement already satisfied: six>=1.5 in /usr/local/lib/python3.10/dist-packages (from python-dateutil>=2.7->matplotlib->weightwatcher) (1.16.0)\n",
            "Installing collected packages: weightwatcher\n",
            "Successfully installed weightwatcher-0.7.4.9\n"
          ]
        }
      ]
    },
    {
      "cell_type": "code",
      "source": [
        "import weightwatcher as ww\n",
        "ww.__version__"
      ],
      "metadata": {
        "id": "2fcj15Auw-Mc",
        "outputId": "f9eae990-b1f6-4ad4-f787-2440911cd622",
        "colab": {
          "base_uri": "https://localhost:8080/",
          "height": 71
        }
      },
      "execution_count": 15,
      "outputs": [
        {
          "output_type": "stream",
          "name": "stderr",
          "text": [
            "WARNING:weightwatcher:PyTorch is available but CUDA is not. Defaulting to SciPy for SVD\n",
            "WARNING:weightwatcher:Import error , reetting to svd accurate methods\n"
          ]
        },
        {
          "output_type": "execute_result",
          "data": {
            "text/plain": [
              "'0.7.4.9'"
            ],
            "application/vnd.google.colaboratory.intrinsic+json": {
              "type": "string"
            }
          },
          "metadata": {},
          "execution_count": 15
        }
      ]
    },
    {
      "cell_type": "markdown",
      "source": [
        "### Create a dummy model to store the weight matrix"
      ],
      "metadata": {
        "id": "oIROACqE2Pwq"
      }
    },
    {
      "cell_type": "code",
      "source": [
        "import torch\n",
        "import torch.nn as nn\n",
        "\n",
        "class SingleLayerModel(nn.Module):\n",
        "    def __init__(self, weights):\n",
        "        super(SingleLayerModel, self).__init__()\n",
        "\n",
        "        # Infer dimensions from weights\n",
        "        output_dim, input_dim = weights.shape\n",
        "\n",
        "        # Initialize the linear layer without bias\n",
        "        self.linear = nn.Linear(in_features=input_dim, out_features=output_dim, bias=False)\n",
        "\n",
        "        # Set custom weights\n",
        "        self.linear.weight = nn.Parameter(torch.tensor(weights, dtype=torch.float))\n",
        "\n",
        "    def forward(self, x):\n",
        "        # Forward pass through the linear layer\n",
        "        return self.linear(x)"
      ],
      "metadata": {
        "id": "Vm-MJ9kk2PUh"
      },
      "execution_count": 16,
      "outputs": []
    },
    {
      "cell_type": "markdown",
      "source": [
        "### Redfine run_LR_experiment to run_WW_experiment"
      ],
      "metadata": {
        "id": "eI5sVKZa2UCK"
      }
    },
    {
      "cell_type": "code",
      "source": [
        "def run_WW_experiment(load_alpha=1.0, verbose=True):\n",
        "\n",
        "  N = 100\n",
        "  P = int(load_alpha * N)\n",
        "\n",
        "  X_train, Y_train = generate_mdp_dataset_numpy(P,N)\n",
        "  X_test, Y_test = generate_mdp_dataset_numpy(P,N)\n",
        "\n",
        "  # Train the linear regression model\n",
        "  regressor =  LinearRegression(fit_intercept=False)\n",
        "  regressor.fit(X_train, Y_train)\n",
        "\n",
        "  # Predict Y values for the training and test sets\n",
        "  Y_train_value = regressor.predict(X_train)\n",
        "  Y_test_value  =  regressor.predict(X_test)\n",
        "\n",
        "  # Convert predictions to binary class labels based on the condition\n",
        "  Y_train_pred = np.where(Y_train_value > 0, 1, -1)  # Converts to 1 if Y > 0 else -1\n",
        "  Y_test_pred = np.where(Y_test_value > 0, 1, -1)  # Converts to 1 if Y > 0 else -1\n",
        "\n",
        "\n",
        "  # Compute accuracy for both training and test sets\n",
        "  train_accuracy = accuracy_score(Y_train, Y_train_pred)\n",
        "  test_accuracy = accuracy_score(Y_test, Y_test_pred)\n",
        "\n",
        "  model = SingleLayerModel(weights=X_train)\n",
        "  watcher = ww.WeightWatcher(model=model)\n",
        "  # the inverse option was added specifiically for this DD experiment\n",
        "  details = watcher.analyze(inverse=True)\n",
        "\n",
        "  alpha = details.alpha\n",
        "  Dks = details.D\n",
        "\n",
        "  return train_accuracy, test_accuracy, alpha, Dks\n",
        ""
      ],
      "metadata": {
        "id": "tCwN9el52B5_"
      },
      "execution_count": 17,
      "outputs": []
    },
    {
      "cell_type": "markdown",
      "source": [
        "###  Rerun the experiment for the Over-Parmaterized and Under-Parmeterized regions\n",
        "\n",
        "- Over-Parmaterized:  load < 1 (more features than data points)\n",
        "- Under-Parmeterized:  load > 1"
      ],
      "metadata": {
        "id": "Qdu8FURq3ekN"
      }
    },
    {
      "cell_type": "code",
      "source": [
        "from tqdm.notebook import tqdm"
      ],
      "metadata": {
        "id": "PsP8Mny76n09"
      },
      "execution_count": 27,
      "outputs": []
    },
    {
      "cell_type": "code",
      "source": [
        "WW_test_accuraces = []\n",
        "WW_mean_alphas = []\n",
        "WW_mean_Dks = []\n",
        "\n",
        "NUM_IA = 30\n",
        "for ia in tqdm(range(1,NUM_IA,1)):\n",
        "  test_accs = []\n",
        "  WW_alphas = []\n",
        "  WW_Dks = []\n",
        "\n",
        "  for idx in range(100):\n",
        "    load_alpha = ia/10.0\n",
        "    train_acc, test_acc, alpha, Dks = run_WW_experiment(load_alpha, verbose=False)\n",
        "    test_accs.append(test_acc)\n",
        "    WW_alphas.append(alpha)\n",
        "    WW_Dks.append(Dks)\n",
        "\n",
        "  WW_test_accuraces.append(np.mean(test_accs))\n",
        "  WW_mean_alphas.append(np.mean(WW_alphas))\n",
        "  WW_mean_Dks.append(np.mean(WW_Dks))\n",
        "\n",
        "\n",
        "alpha_loads = np.array([ia/10.0 for ia in range(1,NUM_IA,1)])\n",
        "over_p_mask = alpha_loads <= 1.0\n",
        "under_p_mask = alpha_loads > 1.0\n",
        "\n",
        "\n",
        "WW_mean_alphas = np.array(WW_mean_alphas)\n",
        "WW_mean_Dks = np.mean(WW_mean_Dks)\n",
        "WW_test_errors = 1.0 - np.array(WW_test_accuraces)\n",
        "\n"
      ],
      "metadata": {
        "id": "17hD32Dv3krI",
        "outputId": "7c6beb3d-8c9f-41ee-8496-a6d8f52c5801",
        "colab": {
          "base_uri": "https://localhost:8080/",
          "height": 49,
          "referenced_widgets": [
            "23bf10d05b7f451fb5b21067b2b6dfb8",
            "6af17540f50046058f64c778524c2f2c",
            "13c20c123b044eb882e2dca1b6b9f979",
            "741f24d0d94349c98468409e9b837fbe",
            "9db0003a69a1423ca0d47e77b0a3d2b9",
            "4494ca26ec5a45cda0fb8b836e6611b5",
            "196884053a4d4190bc6ad89eee7cd9d8",
            "f17bfc26ee1449f1a7d5ed977c39f652",
            "36738db888ba4ced97584b245f9ed05f",
            "d5f5c39fff2b41ee86d6f339f2cf8bda",
            "5ec54ede6f384c5587e2ce2677d76f51"
          ]
        }
      },
      "execution_count": 28,
      "outputs": [
        {
          "output_type": "display_data",
          "data": {
            "text/plain": [
              "  0%|          | 0/29 [00:00<?, ?it/s]"
            ],
            "application/vnd.jupyter.widget-view+json": {
              "version_major": 2,
              "version_minor": 0,
              "model_id": "23bf10d05b7f451fb5b21067b2b6dfb8"
            }
          },
          "metadata": {}
        }
      ]
    },
    {
      "cell_type": "code",
      "source": [
        "plt.scatter(x=WW_mean_alphas[over_p_mask], y=WW_test_errors[over_p_mask], label=\"over-parameterized\", color='orange')\n",
        "plt.scatter(x=WW_mean_alphas[under_p_mask], y=WW_test_errors[under_p_mask], label=\"under-parameterized\", color='blue')\n",
        "\n",
        "title =  r\"Double Descent Experiment: Over- and Under-Parameterized Regiems\"\n",
        "title += \"\\n\"\n",
        "title += r\"WeightWatcher mean layer quality metric $\\alpha_{PL}$  vs Mean Test Error\"\n",
        "\n",
        "plt.title(title)\n",
        "plt.xlabel(r\"WeightWatcher (mean) layer quality metric $\\alpha_{PL}$\")\n",
        "plt.ylabel(\"Mean Test Error\")\n",
        "plt.axvline(x=2.0, color='red')\n",
        "plt.legend()\n",
        "plt.show()"
      ],
      "metadata": {
        "id": "UMywcFbc5Tn1",
        "outputId": "2158a81a-262a-4482-d399-f1627479f07b",
        "colab": {
          "base_uri": "https://localhost:8080/",
          "height": 499
        }
      },
      "execution_count": 31,
      "outputs": [
        {
          "output_type": "display_data",
          "data": {
            "text/plain": [
              "<Figure size 640x480 with 1 Axes>"
            ],
            "image/png": "[encoded data removed]"
          },
          "metadata": {}
        }
      ]
    },
    {
      "cell_type": "markdown",
      "source": [],
      "metadata": {
        "id": "-_WkvVr_-gsX"
      }
    }
  ]
}