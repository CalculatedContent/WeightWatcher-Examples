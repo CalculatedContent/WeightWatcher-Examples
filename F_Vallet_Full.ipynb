{
  "nbformat": 4,
  "nbformat_minor": 0,
  "metadata": {
    "colab": {
      "provenance": [],
      "authorship_tag": "ABX9TyOEvWrxQ9+kQgKeBdUCLykn",
      "include_colab_link": true
    },
    "kernelspec": {
      "name": "python3",
      "display_name": "Python 3"
    },
    "language_info": {
      "name": "python"
    }
  },
  "cells": [
    {
      "cell_type": "markdown",
      "metadata": {
        "id": "view-in-github",
        "colab_type": "text"
      },
      "source": [
        "<a href=\"https://colab.research.google.com/github/CalculatedContent/WeightWatcher-Examples/blob/main/F_Vallet_Full.ipynb\" target=\"_parent\"><img src=\"https://colab.research.google.com/assets/colab-badge.svg\" alt=\"Open In Colab\"/></a>"
      ]
    },
    {
      "cell_type": "markdown",
      "source": [
        "# Detecting Double Descent: The Original Physics\n",
        "\n",
        "In this notebook, I attempt to reproduce the results of the 1989 paper\n",
        "\n",
        "https://iopscience.iop.org/article/10.1209/0295-5075/9/4/003\n",
        "\n",
        "which first detected the now-so-called Double Descent phenomena.\n",
        "\n",
        "\n",
        "### The Model\n",
        "\n",
        "The idea is to train a linear regression model on a binary classification problem.  (Here, they picked a problem where the generalization error could be computed 'theoreticaly' in the large-N limit.)\n",
        "\n",
        "The dataset is a sample of  2^{N} hypercube, labeled used what they call the Majority Decision Principle (MDP).  \n",
        "\n",
        "- pick $P=\\alpha N$ patterns from the dataset\n",
        "- in the paper, they pick $\\alpha=[0.5|1.0|1.5$], giving $N=[50|100|150]$\n",
        "- label data instances (sum of bits is odd or even)\n",
        "- run linear regression to predict the binary labels\n",
        "- repeat 100 times\n",
        "- compute training and test accuracies\n",
        "\n",
        "\n",
        "#### More Details\n",
        "We form a dataset consisting of vertices on the n-dimensional hypercube\n",
        "\n",
        "The label = np.sum(x) is even (1)  or odd (-1)\n",
        "\n",
        "<pre> i.e for N = 3\n",
        "\n",
        "Y      X\n",
        "-1 \t [0 0 0]\n",
        "-1 \t [0 0 1]\n",
        "-1 \t [0 1 0]\n",
        "-1 \t [1 0 0]\n",
        "\n",
        " 1 \t [0 1 1]\n",
        " 1 \t [1 0 1]\n",
        " 1 \t [1 1 0]\n",
        " 1 \t [1 1 1]\n",
        "</pre>\n",
        "\n",
        "We need N=100, so we need to create a random sample directly:\n"
      ],
      "metadata": {
        "id": "cmZcakjERild"
      }
    },
    {
      "cell_type": "code",
      "source": [
        "import numpy as np\n",
        "\n",
        "alpha = 1.0\n",
        "N =100\n",
        "P = int(alpha*N)\n",
        "X = np.random.choice([-1, 1], size=(P, N))\n",
        "X"
      ],
      "metadata": {
        "colab": {
          "base_uri": "https://localhost:8080/"
        },
        "id": "Y9qxLwadyVST",
        "outputId": "d14cdba0-3fa1-442e-9a34-97c7793a6169"
      },
      "execution_count": 1,
      "outputs": [
        {
          "output_type": "execute_result",
          "data": {
            "text/plain": [
              "array([[-1, -1,  1, ...,  1,  1, -1],\n",
              "       [ 1, -1,  1, ..., -1, -1, -1],\n",
              "       [ 1,  1,  1, ..., -1,  1, -1],\n",
              "       ...,\n",
              "       [ 1,  1,  1, ..., -1,  1, -1],\n",
              "       [ 1,  1, -1, ...,  1,  1, -1],\n",
              "       [-1, -1,  1, ...,  1,  1,  1]])"
            ]
          },
          "metadata": {},
          "execution_count": 1
        }
      ]
    },
    {
      "cell_type": "markdown",
      "source": [
        "The label (Y) is just +1 or -1, depending on if the sum of the positive terms is odd or even.\n",
        "\n",
        "Here's the code that assigns the labels:\n",
        "\n",
        "\n",
        "\n",
        "\n",
        "\n"
      ],
      "metadata": {
        "id": "88sX2hk3g9mn"
      }
    },
    {
      "cell_type": "code",
      "source": [
        "import numpy as np\n",
        "\n",
        "def generate_majority_labels(data):\n",
        "    \"\"\"\n",
        "    Generates labels for each data point based on the majority of its features.\n",
        "    If the number of positive features is greater than or equal to the number of negative features,\n",
        "    the label is +1, otherwise, it's -1.\n",
        "\n",
        "    :param data: NumPy array of data points, where each row is a data point and each column represents a feature.\n",
        "    :return: Array of labels.\n",
        "    \"\"\"\n",
        "    # Count the number of positive features in each data point\n",
        "    # Since data points are from a hypercube, features are either -1 or +1\n",
        "    positive_counts = np.sum(data > 0, axis=1)\n",
        "    # Total number of features\n",
        "    total_features = data.shape[1]\n",
        "    # If the count of positive features is greater than or equal to half of total features, label is +1; otherwise, -1\n",
        "    labels = np.where(positive_counts >= total_features / 2, 1, -1)\n",
        "    return labels\n",
        "\n",
        "# Example usage\n",
        "N = 10  # Dimensions of the hypercube\n",
        "num_samples = 10  # Number of samples\n",
        "# Generate random samples from the hypercube\n",
        "samples = np.random.choice([-1, 1], size=(num_samples, N))\n",
        "# Generate majority labels\n",
        "majority_labels = generate_majority_labels(samples)\n",
        "majority_labels"
      ],
      "metadata": {
        "colab": {
          "base_uri": "https://localhost:8080/"
        },
        "id": "6GtMK-xFyxnh",
        "outputId": "34661b19-839d-410c-9ad8-a02126f9b675"
      },
      "execution_count": 2,
      "outputs": [
        {
          "output_type": "execute_result",
          "data": {
            "text/plain": [
              "array([-1,  1,  1,  1, -1, -1, -1,  1,  1,  1])"
            ]
          },
          "metadata": {},
          "execution_count": 2
        }
      ]
    },
    {
      "cell_type": "markdown",
      "source": [
        "Here's a random sample of labeled data (X,Y)  for N=100\n",
        "\n",
        "We can check if the labels are balanced 50/50 by taking the sum of the labels Y\n",
        "\n",
        "The data may not be perfectly balanced; that's ok"
      ],
      "metadata": {
        "id": "-HLMVcQmhiBP"
      }
    },
    {
      "cell_type": "code",
      "source": [
        "def generate_mdp_dataset_numpy(P, N):\n",
        "    X = np.random.choice([-1, 1], size=(P, N))\n",
        "    Y = generate_majority_labels(X)\n",
        "    return X, Y\n",
        "\n",
        "\n",
        "Nalpha = 1.0\n",
        "N =100\n",
        "P = int(alpha*N)\n",
        "\n",
        "X, Y = generate_mdp_dataset_numpy(P,N)\n",
        "print(\"Features Matrix:\", X.shape)\n",
        "print(\"\\nLabels Array:\", len(Y), np.sum(Y))\n",
        "\n",
        "print(f\"How balanced is the dataset ?  np.sum(Y) = {np.sum(Y)}\")\n"
      ],
      "metadata": {
        "colab": {
          "base_uri": "https://localhost:8080/"
        },
        "id": "yfG4C5qrYWb8",
        "outputId": "856f1f7a-b2b0-4c17-855c-068980d1c2ac"
      },
      "execution_count": 3,
      "outputs": [
        {
          "output_type": "stream",
          "name": "stdout",
          "text": [
            "Features Matrix: (100, 100)\n",
            "\n",
            "Labels Array: 100 -12\n",
            "How balanced is the dataset ?  np.sum(Y) = -12\n"
          ]
        }
      ]
    },
    {
      "cell_type": "markdown",
      "source": [
        "#### Here is an example of running Logisitic Regression, which gives us the baseline / ideal test accuracy\n"
      ],
      "metadata": {
        "id": "1zY9b2ghOBiN"
      }
    },
    {
      "cell_type": "code",
      "source": [
        "import numpy as np\n",
        "# IMPORTS WE NEED FOR NOW AND LATER\n",
        "from sklearn.linear_model import LogisticRegression,  LinearRegression, Ridge\n",
        "from sklearn.metrics import classification_report\n",
        "from sklearn.model_selection import train_test_split\n",
        "from sklearn.metrics import accuracy_score\n",
        "\n",
        "\n",
        "alpha = 1.5\n",
        "N = 100\n",
        "P = int(alpha*N)\n",
        "\n",
        "X, Y = generate_mdp_dataset_numpy(P,N)\n",
        "\n",
        "X_train, X_test, Y_train, Y_test = train_test_split(X, Y, test_size=0.3, random_state=42)\n",
        "\n",
        "# Train the logistic regression model (assuming Y_train contains discrete class labels)\n",
        "classifier = LogisticRegression()\n",
        "classifier.fit(X_train, Y_train)\n",
        "\n",
        "# Predict Y values for both the training and test sets\n",
        "Y_train_pred = classifier.predict(X_train)\n",
        "Y_test_pred = classifier.predict(X_test)\n",
        "\n",
        "# Predict labels for both training and test sets\n",
        "Y_train_pred = classifier.predict(X_train)\n",
        "Y_test_pred = classifier.predict(X_test)\n",
        "\n",
        "# Compute accuracy for both training and test sets\n",
        "train_accuracy = accuracy_score(Y_train, Y_train_pred)\n",
        "test_accuracy = accuracy_score(Y_test, Y_test_pred)\n",
        "\n",
        "print(f\"train_accuracy {train_accuracy:0.2f}\")\n",
        "print(f\"test_accuracy {test_accuracy:0.2f}\")"
      ],
      "metadata": {
        "colab": {
          "base_uri": "https://localhost:8080/"
        },
        "id": "SOU0pOrsilfb",
        "outputId": "4ff1d9cb-e195-4f3e-e8c6-346108057a1b"
      },
      "execution_count": 4,
      "outputs": [
        {
          "output_type": "stream",
          "name": "stdout",
          "text": [
            "train_accuracy 1.00\n",
            "test_accuracy 0.76\n"
          ]
        }
      ]
    },
    {
      "cell_type": "code",
      "source": [],
      "metadata": {
        "id": "uugClW9Yxf8b"
      },
      "execution_count": 4,
      "outputs": []
    },
    {
      "cell_type": "markdown",
      "source": [
        "### Basic Double Descent Curve\n",
        "\n",
        "\n",
        "Here is code we can use to generate a basic double descent curve\n",
        "\n",
        "We  create a sample data set, run Linear Regression"
      ],
      "metadata": {
        "id": "B3EfwdnRxvHp"
      }
    },
    {
      "cell_type": "code",
      "source": [
        "\n",
        "def run_LR_experiment(alpha=1.0, verbose=True):\n",
        "\n",
        "  N = 100\n",
        "  P = int(alpha * N)\n",
        "\n",
        "  X_train, Y_train = generate_mdp_dataset_numpy(P,N)\n",
        "  X_test, Y_test = generate_mdp_dataset_numpy(P,N)\n",
        "\n",
        "  # Train the linear regression model\n",
        "  regressor =  LinearRegression(fit_intercept=False)\n",
        "  regressor.fit(X_train, Y_train)\n",
        "\n",
        "  # Predict Y values for the training and test sets\n",
        "  Y_train_value = regressor.predict(X_train)\n",
        "  Y_test_value  =  regressor.predict(X_test)\n",
        "\n",
        "  # Convert predictions to binary class labels based on the condition\n",
        "  Y_train_pred = np.where(Y_train_value > 0, 1, -1)  # Converts to 1 if Y > 0 else -1\n",
        "  Y_test_pred = np.where(Y_test_value > 0, 1, -1)  # Converts to 1 if Y > 0 else -1\n",
        "\n",
        "\n",
        "  # Compute accuracy for both training and test sets\n",
        "  train_accuracy = accuracy_score(Y_train, Y_train_pred)\n",
        "  test_accuracy = accuracy_score(Y_test, Y_test_pred)\n",
        "\n",
        "  if verbose:\n",
        "\n",
        "    print(f\"Runing LR experiment  alpha={alpha:0.2f}\")\n",
        "\n",
        "    # Output the sum of the training labels and also test labels for verification\n",
        "    print(\"Sum of Y_train:\", np.sum(Y_train))\n",
        "    print(\"Sum of Y_test:\", np.sum(Y_test))\n",
        "\n",
        "\n",
        "    # Generate classification reports for both training and test sets\n",
        "    report_train = classification_report(Y_train, Y_train_pred)\n",
        "    report_test = classification_report(Y_test, Y_test_pred)\n",
        "\n",
        "    # Print out the classification reports\n",
        "    print(f\"N={10} P={P} \"+r\"$\\alpha$\"+f\"={alpha:0.2f} \")\n",
        "    print(\"Training Classification Report:\\n\", report_train)\n",
        "    print(\"Test Classification Report:\\n\", report_test)\n",
        "    print(\"\\n---------------------------\\n\")\n",
        "\n",
        "  # ---\n",
        "\n",
        "  svals = np.linalg.svd(X_train, compute_uv=False)\n",
        "  train_evals = 1.0/(svals**2)\n",
        "\n",
        "  svals = np.linalg.svd(X_test, compute_uv=False)\n",
        "  test_evals = 1.0/(svals**2)\n",
        "\n",
        "  return train_accuracy, test_accuracy, train_evals, test_evals"
      ],
      "metadata": {
        "id": "bqn0iIJp1kCO"
      },
      "execution_count": 5,
      "outputs": []
    },
    {
      "cell_type": "markdown",
      "source": [
        "## 3 Alphas, 100 Runs\n",
        "\n",
        "First, lets run 100 Regressions for each of the  $\\alpha\\in[0.5, 1.0, 1.5]$ as in the paper\n",
        "\n",
        "We can see that the test accuracy for $\\alpha=1.0\\;(P=N)$ is less than for  $\\alpha=0.5;(P<N)$ and for  $\\alpha=1.5\\;(P>N)$\n",
        "\n",
        "### Solving Linear Regression with the PseudoInverse\n",
        "\n",
        "To support analysis later, we will solve the Linear Regression problem  using the PseudoInverse method\n",
        "\n",
        "\n",
        "\n",
        "Given a data pair $\\mathbf{x}, y$, we can write Linear Regression problem as\n",
        "(where, here, the target variable $y$ is just a binary label $[1|-1]$)\n",
        "\n",
        "$$\\mathbf{w^{T}x}=y=[1|-1]$$\n",
        "\n",
        "\n",
        "We want to find the weight vector $\\mathbf{w}$\n",
        "\n",
        "Lets write the problem using the entire data matrix $\\mathbf{W}$ and the vector of labels $\\mathbf{y}$.\n",
        "\n",
        "We can now write the Linear Regression problem in matrix form as\n",
        "\n",
        "$$\\mathbf{w^{T}X}=\\mathbf{y}$$\n",
        "\n",
        "We can write the solutions in terms of the Moore-Penrose PseudoInverse. First, lets flip things around a little\n",
        "\n",
        "$$\\mathbf{X^{T}}\\mathbf{w}=\\mathbf{y}$$\n",
        "\n",
        "Now, multiply by $\\mathbf{W}$ on both sides of this relation\n",
        "\n",
        "$$\\mathbf{XX^{T}}\\mathbf{w}=\\mathbf{X}\\mathbf{y}$$\n",
        "\n",
        "We now invert the data covariance matrix $\\mathbf{H}=\\mathbf{XX^{T}}$\n",
        "\n",
        "$$\\mathbf{w}=(\\mathbf{XX^{T}})^{-1}\\mathbf{X}\\mathbf{y}$$\n",
        "\n",
        "We now identify the Moore-Penrose PseudoInverse operator $\\mathbf{PI}$\n",
        "\n",
        "$$\\mathbf{PI}:=(\\mathbf{XX^{T}})^{-1}\\mathbf{X}$$\n",
        "\n",
        "The optimal weight vector is given by\n",
        "\n",
        "\n",
        "$$\\mathbf{w}=\\mathbf{PI}.\\mathbf{y}$$\n",
        "\n",
        "As part of our initial analysis, we will compute the eigenvalues $\\lambda_{i}$ of the  covariance matrix $\\mathbf{H}=\\mathbf{XX^{T}}$, as described in the paper\n",
        "\n",
        "$$\\mathbf{H}\\mathbf{v}_{i}=\\lambda_{i}\\mathbf{v}_{i}$$\n",
        "\n",
        "as well as the distribution  $\\rho(\\lambda^{-1})$ of the inverse eigenvalues $\\lambda^{-1}$\n",
        "\n",
        "\n",
        "\n"
      ],
      "metadata": {
        "id": "tqCDENENyNJp"
      }
    },
    {
      "cell_type": "code",
      "source": [
        "import matplotlib.pyplot as plt\n",
        "\n",
        "fig, axs = plt.subplots(1, 2, figsize=(15, 5))  # 1 row, 2 columns\n",
        "\n",
        "train_evals = [[],[],[]]\n",
        "test_evals = [[],[],[]]\n",
        "\n",
        "mean_test_accuraces = []\n",
        "for ia, alpha in enumerate([0.5, 1.0, 1.5]):\n",
        "  train_accs = []\n",
        "  test_accs = []\n",
        "\n",
        "  train_evals[ia] = []\n",
        "  test_evals[ia] = []\n",
        "\n",
        "  for idx in range(100):\n",
        "    a,b, c, d = run_LR_experiment(alpha, verbose=False)\n",
        "    train_accs.append(a)\n",
        "    test_accs.append(b)\n",
        "\n",
        "    train_evals[ia].append(c)\n",
        "    test_evals[ia].append(d)\n",
        "\n",
        "  mean_train_acc = np.mean(train_accs)\n",
        "  mean_test_acc = np.mean(test_accs)\n",
        "\n",
        "  mean_test_accuraces.append(mean_test_acc)\n",
        "\n",
        "  axs[0].hist(train_accs, bins=50, label=r\"$\\alpha=$\"+f\"{alpha:0.2f} meam={mean_train_acc:0.2f}\");\n",
        "  axs[0].set_title(\"Train accuracies (100 trials)\")\n",
        "\n",
        "  axs[1].hist(test_accs, bins=50, label=r\"$\\alpha=$\"+f\"{alpha:0.2f} mean={mean_test_acc:0.2f}\");\n",
        "  axs[1].set_title(\"Test accuracies (100 trials)\")\n",
        "\n",
        "plt.legend()\n",
        "\n"
      ],
      "metadata": {
        "colab": {
          "base_uri": "https://localhost:8080/",
          "height": 486
        },
        "id": "Wtw2jT3aCUnl",
        "outputId": "7503fc71-3b9a-4ce4-b43b-eea7b45b0529"
      },
      "execution_count": 6,
      "outputs": [
        {
          "output_type": "execute_result",
          "data": {
            "text/plain": [
              "<matplotlib.legend.Legend at 0x7e932aaacfa0>"
            ]
          },
          "metadata": {},
          "execution_count": 6
        },
        {
          "output_type": "display_data",
          "data": {
            "text/plain": [
              "<Figure size 1500x500 with 2 Axes>"
            ],
            "image/png": "[encoded data removed]"
          },
          "metadata": {}
        }
      ]
    },
    {
      "cell_type": "markdown",
      "source": [
        "Notice that the  test accuracies have quite a large spread, but, on average, the mean test accuracy for the case $\\alpha=1\\;(P=N)$ is much smaller than for the other cases.  \n",
        "\n",
        "Now lets compute the full Double Descent curve"
      ],
      "metadata": {
        "id": "bR8u4yQtFuIs"
      }
    },
    {
      "cell_type": "markdown",
      "source": [
        "### The full DD curve  is easy to generate\n",
        "\n",
        "- X-Axis:  The 'load' $\\alpha=N/P$, which is a simple measure of model complexity\n",
        "\n",
        "- Y-Axis:  Test Accuracy"
      ],
      "metadata": {
        "id": "8e3gS75pybYV"
      }
    },
    {
      "cell_type": "code",
      "source": [
        "DD_test_accuraces = []\n",
        "for ia in range(1,20,1):\n",
        "  train_accs = []\n",
        "  test_accs = []\n",
        "  alpha = float(ia/10.0)\n",
        "\n",
        "  for idx in range(100):\n",
        "    a,b, c, d = run_LR_experiment(alpha, verbose=False)\n",
        "    train_accs.append(a)\n",
        "    test_accs.append(b)\n",
        "\n",
        "  DD_test_accuraces.append(np.mean(test_accs))\n",
        "\n",
        "plt.scatter(x=[ia/10.0 for ia in range(1,20,1)], y=1.0-np.array(DD_test_accuraces))\n",
        "plt.title(r\"$\\alpha=N/P$ vs Test Accuracies\")\n",
        "plt.xlabel(r\"$\\alpha=N/P$\")\n",
        "plt.ylabel(\"Mean Test Error\")"
      ],
      "metadata": {
        "colab": {
          "base_uri": "https://localhost:8080/",
          "height": 492
        },
        "id": "kPRfC82Dyzb9",
        "outputId": "067ffa90-01f2-45fa-c84b-f93e279b952c"
      },
      "execution_count": 7,
      "outputs": [
        {
          "output_type": "execute_result",
          "data": {
            "text/plain": [
              "Text(0, 0.5, 'Mean Test Error')"
            ]
          },
          "metadata": {},
          "execution_count": 7
        },
        {
          "output_type": "display_data",
          "data": {
            "text/plain": [
              "<Figure size 640x480 with 1 Axes>"
            ],
            "image/png": "[encoded data removed]"
          },
          "metadata": {}
        }
      ]
    },
    {
      "cell_type": "markdown",
      "source": [
        "# WeightWatcher PowerLaw Analysis\n",
        "\n",
        "We can use weightwatcher to 'detect' the signatures of overfitting in the extreme case $\\alpha=0.5$.  And understand better why this arises.\n",
        "\n",
        "Recall that we computed and saved the inverse eigenvalues $\\lambda^{-1}$ for each of the 100 experimental runs for each $\\alpha$.  Here, we combine them, plot the distribution, and (as in weightwatcher), try fit it to a power law distribution to obtain the weightwatcher (WW) $\\alpha_{PL}$  \n",
        "\n",
        "It might be confusing that we have 2 $\\alpha$; sorry about that.  To avoid confusion, I will denite the weightwatcher PL layer quality metrix as $\\alpha_{PL}$\n"
      ],
      "metadata": {
        "id": "vzUMLTio5dx0"
      }
    },
    {
      "cell_type": "code",
      "source": [
        "!pip install powerlaw"
      ],
      "metadata": {
        "colab": {
          "base_uri": "https://localhost:8080/"
        },
        "id": "sQja6qwCU7vG",
        "outputId": "b5f87ea0-775a-42eb-d40d-2f95805d6c3a"
      },
      "execution_count": 8,
      "outputs": [
        {
          "output_type": "stream",
          "name": "stdout",
          "text": [
            "Requirement already satisfied: powerlaw in /usr/local/lib/python3.10/dist-packages (1.5)\n",
            "Requirement already satisfied: scipy in /usr/local/lib/python3.10/dist-packages (from powerlaw) (1.11.4)\n",
            "Requirement already satisfied: numpy in /usr/local/lib/python3.10/dist-packages (from powerlaw) (1.25.2)\n",
            "Requirement already satisfied: matplotlib in /usr/local/lib/python3.10/dist-packages (from powerlaw) (3.7.1)\n",
            "Requirement already satisfied: mpmath in /usr/local/lib/python3.10/dist-packages (from powerlaw) (1.3.0)\n",
            "Requirement already satisfied: contourpy>=1.0.1 in /usr/local/lib/python3.10/dist-packages (from matplotlib->powerlaw) (1.2.0)\n",
            "Requirement already satisfied: cycler>=0.10 in /usr/local/lib/python3.10/dist-packages (from matplotlib->powerlaw) (0.12.1)\n",
            "Requirement already satisfied: fonttools>=4.22.0 in /usr/local/lib/python3.10/dist-packages (from matplotlib->powerlaw) (4.49.0)\n",
            "Requirement already satisfied: kiwisolver>=1.0.1 in /usr/local/lib/python3.10/dist-packages (from matplotlib->powerlaw) (1.4.5)\n",
            "Requirement already satisfied: packaging>=20.0 in /usr/local/lib/python3.10/dist-packages (from matplotlib->powerlaw) (23.2)\n",
            "Requirement already satisfied: pillow>=6.2.0 in /usr/local/lib/python3.10/dist-packages (from matplotlib->powerlaw) (9.4.0)\n",
            "Requirement already satisfied: pyparsing>=2.3.1 in /usr/local/lib/python3.10/dist-packages (from matplotlib->powerlaw) (3.1.1)\n",
            "Requirement already satisfied: python-dateutil>=2.7 in /usr/local/lib/python3.10/dist-packages (from matplotlib->powerlaw) (2.8.2)\n",
            "Requirement already satisfied: six>=1.5 in /usr/local/lib/python3.10/dist-packages (from python-dateutil>=2.7->matplotlib->powerlaw) (1.16.0)\n"
          ]
        }
      ]
    },
    {
      "cell_type": "markdown",
      "source": [
        "### We fit the Inverse ESD to a power law for every experiment, then compute the average PL_alpha\n",
        "\n",
        "I am not using the weightwatcher GPU-enhanced PL fit, so this may be a bit slow"
      ],
      "metadata": {
        "id": "SarfAu86hhnU"
      }
    },
    {
      "cell_type": "code",
      "source": [
        "import powerlaw\n",
        "\n",
        "# save the to re-use in the plots below\n",
        "PL_alphas = []\n",
        "PL_fits = []\n",
        "for ia, load in enumerate([0.5, 1.0, 1.5]):\n",
        "  print(ia,load)\n",
        "\n",
        "  for evals in train_evals[ia]:\n",
        "    fit = powerlaw.Fit(evals)\n",
        "    alpha_pl = fit.alpha\n",
        "    PL_fits.append(alpha_pl)\n",
        "\n",
        "\n",
        "  avg_alpha = np.mean(PL_fits)\n",
        "  PL_alphas.append(avg_alpha)\n"
      ],
      "metadata": {
        "colab": {
          "base_uri": "https://localhost:8080/"
        },
        "id": "ktLosMxBj6w0",
        "outputId": "a164b041-e934-40b3-e070-59d6147285c5"
      },
      "execution_count": 10,
      "outputs": [
        {
          "output_type": "stream",
          "name": "stdout",
          "text": [
            "0 0.5\n",
            "Calculating best minimal value for power law fit\n",
            "xmin progress: 00%\rxmin progress: 02%\rxmin progress: 04%\rxmin progress: 06%\rxmin progress: 08%\rxmin progress: 10%\rxmin progress: 12%\rxmin progress: 14%\rxmin progress: 16%\rxmin progress: 18%\rxmin progress: 20%\rxmin progress: 22%\rxmin progress: 24%\rxmin progress: 26%\rxmin progress: 28%\rxmin progress: 30%\rxmin progress: 32%\rxmin progress: 34%\rxmin progress: 36%\rxmin progress: 38%\rxmin progress: 40%\rxmin progress: 42%\rxmin progress: 44%\rxmin progress: 46%\rxmin progress: 48%\rxmin progress: 51%\rxmin progress: 53%\rxmin progress: 55%\rxmin progress: 57%\rxmin progress: 59%\rxmin progress: 61%\rxmin progress: 63%\rxmin progress: 65%\rxmin progress: 67%\rxmin progress: 69%\rxmin progress: 71%\rxmin progress: 73%\rxmin progress: 75%\rxmin progress: 77%\rxmin progress: 79%\rxmin progress: 81%\rxmin progress: 83%\rxmin progress: 85%\rxmin progress: 87%\rxmin progress: 89%\rxmin progress: 91%\rxmin progress: 93%\rxmin progress: 95%\rxmin progress: 97%\rCalculating best minimal value for power law fit\n",
            "xmin progress: 00%\rxmin progress: 02%\rxmin progress: 04%\rxmin progress: 06%\rxmin progress: 08%\rxmin progress: 10%\rxmin progress: 12%\rxmin progress: 14%\rxmin progress: 16%\rxmin progress: 18%\rxmin progress: 20%\rxmin progress: 22%\rxmin progress: 24%\rxmin progress: 26%\rxmin progress: 28%\rxmin progress: 30%\rxmin progress: 32%\rxmin progress: 34%\rxmin progress: 36%\rxmin progress: 38%\rxmin progress: 40%\rxmin progress: 42%\rxmin progress: 44%\rxmin progress: 46%\rxmin progress: 48%\rxmin progress: 51%\rxmin progress: 53%\rxmin progress: 55%\rxmin progress: 57%\rxmin progress: 59%\rxmin progress: 61%\rxmin progress: 63%\rxmin progress: 65%\rxmin progress: 67%\rxmin progress: 69%\rxmin progress: 71%\rxmin progress: 73%\rxmin progress: 75%\rxmin progress: 77%\rxmin progress: 79%\rxmin progress: 81%\rxmin progress: 83%\rxmin progress: 85%\rxmin progress: 87%\rxmin progress: 89%\rxmin progress: 91%\rxmin progress: 93%\rxmin progress: 95%\rxmin progress: 97%\rCalculating best minimal value for power law fit\n",
            "xmin progress: 00%\rxmin progress: 02%\rxmin progress: 04%\rxmin progress: 06%\rxmin progress: 08%\rxmin progress: 10%\rxmin progress: 12%\rxmin progress: 14%\rxmin progress: 16%\rxmin progress: 18%\rxmin progress: 20%\rxmin progress: 22%\rxmin progress: 24%\rxmin progress: 26%\rxmin progress: 28%\rxmin progress: 30%\rxmin progress: 32%\rxmin progress: 34%\rxmin progress: 36%\rxmin progress: 38%\rxmin progress: 40%\rxmin progress: 42%\rxmin progress: 44%\rxmin progress: 46%\rxmin progress: 48%\rxmin progress: 51%\rxmin progress: 53%\rxmin progress: 55%\rxmin progress: 57%\rxmin progress: 59%\rxmin progress: 61%\rxmin progress: 63%\rxmin progress: 65%\rxmin progress: 67%\rxmin progress: 69%\rxmin progress: 71%\rxmin progress: 73%\rxmin progress: 75%\rxmin progress: 77%\rxmin progress: 79%\rxmin progress: 81%\rxmin progress: 83%\rxmin progress: 85%\rxmin progress: 87%\rxmin progress: 89%\rxmin progress: 91%\rxmin progress: 93%\rxmin progress: 95%\rxmin progress: 97%\rCalculating best minimal value for power law fit\n",
            "Calculating best minimal value for power law fit\n",
            "Calculating best minimal value for power law fit\n",
            "Calculating best minimal value for power law fit\n",
            "Calculating best minimal value for power law fit\n",
            "Calculating best minimal value for power law fit\n",
            "Calculating best minimal value for power law fit\n",
            "Calculating best minimal value for power law fit\n",
            "Calculating best minimal value for power law fit\n",
            "Calculating best minimal value for power law fit\n",
            "Calculating best minimal value for power law fit\n",
            "Calculating best minimal value for power law fit\n",
            "Calculating best minimal value for power law fit\n",
            "Calculating best minimal value for power law fit\n",
            "Calculating best minimal value for power law fit\n",
            "Calculating best minimal value for power law fit\n",
            "Calculating best minimal value for power law fit\n",
            "Calculating best minimal value for power law fit\n",
            "Calculating best minimal value for power law fit\n",
            "Calculating best minimal value for power law fit\n",
            "Calculating best minimal value for power law fit\n",
            "Calculating best minimal value for power law fit\n",
            "Calculating best minimal value for power law fit\n",
            "Calculating best minimal value for power law fit\n",
            "Calculating best minimal value for power law fit\n",
            "Calculating best minimal value for power law fit\n",
            "Calculating best minimal value for power law fit\n",
            "Calculating best minimal value for power law fit\n",
            "Calculating best minimal value for power law fit\n",
            "Calculating best minimal value for power law fit\n",
            "Calculating best minimal value for power law fit\n",
            "Calculating best minimal value for power law fit\n",
            "Calculating best minimal value for power law fit\n",
            "Calculating best minimal value for power law fit\n",
            "Calculating best minimal value for power law fit\n",
            "Calculating best minimal value for power law fit\n",
            "Calculating best minimal value for power law fit\n",
            "Calculating best minimal value for power law fit\n",
            "Calculating best minimal value for power law fit\n",
            "Calculating best minimal value for power law fit\n",
            "Calculating best minimal value for power law fit\n",
            "Calculating best minimal value for power law fit\n",
            "Calculating best minimal value for power law fit\n",
            "Calculating best minimal value for power law fit\n",
            "Calculating best minimal value for power law fit\n",
            "Calculating best minimal value for power law fit\n",
            "Calculating best minimal value for power law fit\n",
            "Calculating best minimal value for power law fit\n",
            "Calculating best minimal value for power law fit\n",
            "Calculating best minimal value for power law fit\n",
            "Calculating best minimal value for power law fit\n",
            "Calculating best minimal value for power law fit\n",
            "Calculating best minimal value for power law fit\n",
            "Calculating best minimal value for power law fit\n",
            "Calculating best minimal value for power law fit\n",
            "Calculating best minimal value for power law fit\n",
            "Calculating best minimal value for power law fit\n",
            "Calculating best minimal value for power law fit\n",
            "Calculating best minimal value for power law fit\n",
            "Calculating best minimal value for power law fit\n",
            "Calculating best minimal value for power law fit\n",
            "Calculating best minimal value for power law fit\n",
            "Calculating best minimal value for power law fit\n",
            "Calculating best minimal value for power law fit\n",
            "Calculating best minimal value for power law fit\n",
            "Calculating best minimal value for power law fit\n",
            "Calculating best minimal value for power law fit\n",
            "Calculating best minimal value for power law fit\n",
            "Calculating best minimal value for power law fit\n",
            "Calculating best minimal value for power law fit\n",
            "Calculating best minimal value for power law fit\n",
            "Calculating best minimal value for power law fit\n",
            "Calculating best minimal value for power law fit\n",
            "Calculating best minimal value for power law fit\n",
            "Calculating best minimal value for power law fit\n",
            "Calculating best minimal value for power law fit\n",
            "Calculating best minimal value for power law fit\n",
            "Calculating best minimal value for power law fit\n",
            "Calculating best minimal value for power law fit\n",
            "Calculating best minimal value for power law fit\n",
            "Calculating best minimal value for power law fit\n",
            "Calculating best minimal value for power law fit\n",
            "Calculating best minimal value for power law fit\n",
            "Calculating best minimal value for power law fit\n",
            "Calculating best minimal value for power law fit\n",
            "Calculating best minimal value for power law fit\n",
            "Calculating best minimal value for power law fit\n",
            "Calculating best minimal value for power law fit\n",
            "Calculating best minimal value for power law fit\n",
            "Calculating best minimal value for power law fit\n",
            "Calculating best minimal value for power law fit\n",
            "Calculating best minimal value for power law fit\n",
            "Calculating best minimal value for power law fit\n",
            "Calculating best minimal value for power law fit\n",
            "Calculating best minimal value for power law fit\n",
            "Calculating best minimal value for power law fit\n",
            "Calculating best minimal value for power law fit\n",
            "1 1.0\n",
            "Calculating best minimal value for power law fit\n",
            "Calculating best minimal value for power law fit\n",
            "Calculating best minimal value for power law fit\n",
            "Calculating best minimal value for power law fit\n",
            "Calculating best minimal value for power law fit\n",
            "Calculating best minimal value for power law fit\n",
            "Calculating best minimal value for power law fit\n",
            "Calculating best minimal value for power law fit\n",
            "Calculating best minimal value for power law fit\n",
            "Calculating best minimal value for power law fit\n",
            "Calculating best minimal value for power law fit\n",
            "Calculating best minimal value for power law fit\n",
            "Calculating best minimal value for power law fit\n",
            "Calculating best minimal value for power law fit\n",
            "Calculating best minimal value for power law fit\n",
            "Calculating best minimal value for power law fit\n",
            "Calculating best minimal value for power law fit\n",
            "Calculating best minimal value for power law fit\n",
            "Calculating best minimal value for power law fit\n",
            "Calculating best minimal value for power law fit\n",
            "Calculating best minimal value for power law fit\n",
            "Calculating best minimal value for power law fit\n",
            "Calculating best minimal value for power law fit\n",
            "Calculating best minimal value for power law fit\n",
            "Calculating best minimal value for power law fit\n",
            "Calculating best minimal value for power law fit\n",
            "Calculating best minimal value for power law fit\n",
            "Calculating best minimal value for power law fit\n",
            "Calculating best minimal value for power law fit\n",
            "Calculating best minimal value for power law fit\n",
            "Calculating best minimal value for power law fit\n",
            "Calculating best minimal value for power law fit\n",
            "Calculating best minimal value for power law fit\n",
            "Calculating best minimal value for power law fit\n",
            "Calculating best minimal value for power law fit\n",
            "Calculating best minimal value for power law fit\n",
            "Calculating best minimal value for power law fit\n",
            "Calculating best minimal value for power law fit\n",
            "Calculating best minimal value for power law fit\n",
            "Calculating best minimal value for power law fit\n",
            "Calculating best minimal value for power law fit\n",
            "Calculating best minimal value for power law fit\n",
            "Calculating best minimal value for power law fit\n",
            "Calculating best minimal value for power law fit\n",
            "Calculating best minimal value for power law fit\n",
            "Calculating best minimal value for power law fit\n",
            "Calculating best minimal value for power law fit\n",
            "Calculating best minimal value for power law fit\n",
            "Calculating best minimal value for power law fit\n",
            "Calculating best minimal value for power law fit\n",
            "Calculating best minimal value for power law fit\n",
            "Calculating best minimal value for power law fit\n",
            "Calculating best minimal value for power law fit\n",
            "Calculating best minimal value for power law fit\n",
            "Calculating best minimal value for power law fit\n",
            "Calculating best minimal value for power law fit\n",
            "Calculating best minimal value for power law fit\n",
            "Calculating best minimal value for power law fit\n",
            "Calculating best minimal value for power law fit\n",
            "Calculating best minimal value for power law fit\n",
            "Calculating best minimal value for power law fit\n",
            "Calculating best minimal value for power law fit\n",
            "Calculating best minimal value for power law fit\n",
            "Calculating best minimal value for power law fit\n",
            "Calculating best minimal value for power law fit\n",
            "Calculating best minimal value for power law fit\n",
            "Calculating best minimal value for power law fit\n",
            "Calculating best minimal value for power law fit\n",
            "Calculating best minimal value for power law fit\n",
            "Calculating best minimal value for power law fit\n",
            "Calculating best minimal value for power law fit\n",
            "Calculating best minimal value for power law fit\n",
            "Calculating best minimal value for power law fit\n",
            "Calculating best minimal value for power law fit\n",
            "Calculating best minimal value for power law fit\n",
            "Calculating best minimal value for power law fit\n",
            "Calculating best minimal value for power law fit\n",
            "Calculating best minimal value for power law fit\n",
            "Calculating best minimal value for power law fit\n",
            "Calculating best minimal value for power law fit\n",
            "Calculating best minimal value for power law fit\n",
            "Calculating best minimal value for power law fit\n",
            "Calculating best minimal value for power law fit\n",
            "Calculating best minimal value for power law fit\n",
            "Calculating best minimal value for power law fit\n",
            "Calculating best minimal value for power law fit\n",
            "Calculating best minimal value for power law fit\n",
            "Calculating best minimal value for power law fit\n",
            "Calculating best minimal value for power law fit\n",
            "Calculating best minimal value for power law fit\n",
            "Calculating best minimal value for power law fit\n",
            "Calculating best minimal value for power law fit\n",
            "Calculating best minimal value for power law fit\n",
            "Calculating best minimal value for power law fit\n",
            "Calculating best minimal value for power law fit\n",
            "Calculating best minimal value for power law fit\n",
            "Calculating best minimal value for power law fit\n",
            "Calculating best minimal value for power law fit\n",
            "Calculating best minimal value for power law fit\n",
            "Calculating best minimal value for power law fit\n",
            "2 1.5\n",
            "Calculating best minimal value for power law fit\n",
            "Calculating best minimal value for power law fit\n",
            "Calculating best minimal value for power law fit\n",
            "Calculating best minimal value for power law fit\n",
            "Calculating best minimal value for power law fit\n",
            "Calculating best minimal value for power law fit\n",
            "Calculating best minimal value for power law fit\n",
            "Calculating best minimal value for power law fit\n",
            "Calculating best minimal value for power law fit\n",
            "Calculating best minimal value for power law fit\n",
            "Calculating best minimal value for power law fit\n",
            "Calculating best minimal value for power law fit\n",
            "Calculating best minimal value for power law fit\n",
            "Calculating best minimal value for power law fit\n",
            "Calculating best minimal value for power law fit\n",
            "Calculating best minimal value for power law fit\n",
            "Calculating best minimal value for power law fit\n",
            "Calculating best minimal value for power law fit\n",
            "Calculating best minimal value for power law fit\n",
            "Calculating best minimal value for power law fit\n",
            "Calculating best minimal value for power law fit\n",
            "Calculating best minimal value for power law fit\n",
            "Calculating best minimal value for power law fit\n",
            "Calculating best minimal value for power law fit\n",
            "Calculating best minimal value for power law fit\n",
            "Calculating best minimal value for power law fit\n",
            "Calculating best minimal value for power law fit\n",
            "Calculating best minimal value for power law fit\n",
            "Calculating best minimal value for power law fit\n",
            "Calculating best minimal value for power law fit\n",
            "Calculating best minimal value for power law fit\n",
            "Calculating best minimal value for power law fit\n",
            "Calculating best minimal value for power law fit\n",
            "Calculating best minimal value for power law fit\n",
            "Calculating best minimal value for power law fit\n",
            "Calculating best minimal value for power law fit\n",
            "Calculating best minimal value for power law fit\n",
            "Calculating best minimal value for power law fit\n",
            "Calculating best minimal value for power law fit\n",
            "Calculating best minimal value for power law fit\n",
            "Calculating best minimal value for power law fit\n",
            "Calculating best minimal value for power law fit\n",
            "Calculating best minimal value for power law fit\n",
            "Calculating best minimal value for power law fit\n",
            "Calculating best minimal value for power law fit\n",
            "Calculating best minimal value for power law fit\n",
            "Calculating best minimal value for power law fit\n",
            "Calculating best minimal value for power law fit\n",
            "Calculating best minimal value for power law fit\n",
            "Calculating best minimal value for power law fit\n",
            "Calculating best minimal value for power law fit\n",
            "Calculating best minimal value for power law fit\n",
            "Calculating best minimal value for power law fit\n",
            "Calculating best minimal value for power law fit\n",
            "Calculating best minimal value for power law fit\n",
            "Calculating best minimal value for power law fit\n",
            "Calculating best minimal value for power law fit\n",
            "Calculating best minimal value for power law fit\n",
            "Calculating best minimal value for power law fit\n",
            "Calculating best minimal value for power law fit\n",
            "Calculating best minimal value for power law fit\n",
            "Calculating best minimal value for power law fit\n",
            "Calculating best minimal value for power law fit\n",
            "Calculating best minimal value for power law fit\n",
            "Calculating best minimal value for power law fit\n",
            "Calculating best minimal value for power law fit\n",
            "Calculating best minimal value for power law fit\n",
            "Calculating best minimal value for power law fit\n",
            "Calculating best minimal value for power law fit\n",
            "Calculating best minimal value for power law fit\n",
            "Calculating best minimal value for power law fit\n",
            "Calculating best minimal value for power law fit\n",
            "Calculating best minimal value for power law fit\n",
            "Calculating best minimal value for power law fit\n",
            "Calculating best minimal value for power law fit\n",
            "Calculating best minimal value for power law fit\n",
            "Calculating best minimal value for power law fit\n",
            "Calculating best minimal value for power law fit\n",
            "Calculating best minimal value for power law fit\n",
            "Calculating best minimal value for power law fit\n",
            "Calculating best minimal value for power law fit\n",
            "Calculating best minimal value for power law fit\n",
            "Calculating best minimal value for power law fit\n",
            "Calculating best minimal value for power law fit\n",
            "Calculating best minimal value for power law fit\n",
            "Calculating best minimal value for power law fit\n",
            "Calculating best minimal value for power law fit\n",
            "Calculating best minimal value for power law fit\n",
            "Calculating best minimal value for power law fit\n",
            "Calculating best minimal value for power law fit\n",
            "Calculating best minimal value for power law fit\n",
            "Calculating best minimal value for power law fit\n",
            "Calculating best minimal value for power law fit\n",
            "Calculating best minimal value for power law fit\n",
            "Calculating best minimal value for power law fit\n",
            "Calculating best minimal value for power law fit\n",
            "Calculating best minimal value for power law fit\n",
            "Calculating best minimal value for power law fit\n",
            "Calculating best minimal value for power law fit\n",
            "Calculating best minimal value for power law fit\n"
          ]
        }
      ]
    },
    {
      "cell_type": "code",
      "source": [
        "import powerlaw\n",
        "\n",
        "fig, axs = plt.subplots(1, 3, figsize=(15, 5))  # 1 row, 3 columns\n",
        "colors = ['blue', 'orange', 'green']\n",
        "\n",
        "for ia, load in enumerate([0.5, 1.0, 1.5]):\n",
        "  all_evals = []\n",
        "  for evals in train_evals[ia]:\n",
        "    all_evals.extend(evals)\n",
        "\n",
        "  avg_alpha_pl = PL_alphas[ia]\n",
        "  axs[ia].hist(all_evals, bins=100, color=colors[ia])\n",
        "  title =f\"Train Evals, P={load}N\"+r\" $avg\\;\\alpha_{PL}=$\"+f\"{avg_alpha_pl:0.2f}\"\n",
        "  title +=f\"\\n Test Accuracy: {mean_test_accuraces[ia]:0.2f}\"\n",
        "  axs[ia].set_title(title)\n",
        "\n"
      ],
      "metadata": {
        "colab": {
          "base_uri": "https://localhost:8080/",
          "height": 492
        },
        "id": "Brn13HkNi1Nd",
        "outputId": "0570b46f-c245-43a1-f48a-180aa863ea4c"
      },
      "execution_count": 11,
      "outputs": [
        {
          "output_type": "display_data",
          "data": {
            "text/plain": [
              "<Figure size 1500x500 with 3 Axes>"
            ],
            "image/png": "[encoded data removed]"
          },
          "metadata": {}
        }
      ]
    },
    {
      "cell_type": "code",
      "source": [],
      "metadata": {
        "id": "3JoYlJ51kLtg"
      },
      "execution_count": 11,
      "outputs": []
    },
    {
      "cell_type": "markdown",
      "source": [
        "### Dectecting Double Descent with WeightWatcher\n",
        "\n",
        "When the model is overfit (due to Double Descent), the weightwatcher poweer law (PL) layer quality metric: $WW\\;\\alpha_{PL}<2$  \n",
        "\n",
        "THis corresponds to the HTSR Very Heavy Tailed (VHT) Univerdsality class\n",
        "\n"
      ],
      "metadata": {
        "id": "H1yI2LyEG6Fe"
      }
    },
    {
      "cell_type": "markdown",
      "source": [
        "### ESDs on a Log-Log Scale"
      ],
      "metadata": {
        "id": "WFmKAxmSI9Ir"
      }
    },
    {
      "cell_type": "code",
      "source": [
        "import powerlaw\n",
        "import matplotlib.pyplot as plt\n",
        "\n",
        "\n",
        "fig, axs = plt.subplots(1, 3, figsize=(15, 5))  # 1 row, 3 columns\n",
        "colors = ['blue', 'orange', 'green']\n",
        "\n",
        "for ia, load in enumerate([0.5, 1.0, 1.5]):\n",
        "  all_evals = []\n",
        "  for evals in train_evals[ia]:\n",
        "    if ia ==1:\n",
        "      evals = evals[evals<10**4] # easuer to view load=alpha=1.0\n",
        "      evals = evals[evals>100]\n",
        "    all_evals.extend(evals)\n",
        "\n",
        "  axs[ia].hist(all_evals, bins=100, color=colors[ia], log=True)\n",
        "  avg_alpha_pl = PL_alphas[ia]\n",
        "  title = f\"Log-Log Train Evals, P={load}\" + r\"WW $\\alpha_{PL}=$\" + f\"{avg_alpha_pl:0.2f}\"\n",
        "  title += f\"\\n Test Accuracy: {mean_test_accuraces[0]:0.2f}\"\n",
        "  if ia==1:\n",
        "    title+=\"(Zoomed In)\"\n",
        "  axs[ia].set_title(title)\n",
        "  axs[ia].set_xscale('log')\n",
        "  axs[ia].set_yscale('log')\n",
        "  axs[ia].grid(True)\n",
        "\n",
        "plt.legend()\n",
        "plt.show()\n"
      ],
      "metadata": {
        "colab": {
          "base_uri": "https://localhost:8080/",
          "height": 535
        },
        "id": "pf-aanDOuWz0",
        "outputId": "856fea0f-1b18-40ca-c624-2d682bf0712a"
      },
      "execution_count": 12,
      "outputs": [
        {
          "output_type": "stream",
          "name": "stderr",
          "text": [
            "WARNING:matplotlib.legend:No artists with labels found to put in legend.  Note that artists whose label start with an underscore are ignored when legend() is called with no argument.\n"
          ]
        },
        {
          "output_type": "display_data",
          "data": {
            "text/plain": [
              "<Figure size 1500x500 with 3 Axes>"
            ],
            "image/png": "[encoded data removed]"
          },
          "metadata": {}
        }
      ]
    },
    {
      "cell_type": "code",
      "source": [],
      "metadata": {
        "id": "-3azFV45mN0J"
      },
      "execution_count": 12,
      "outputs": []
    },
    {
      "cell_type": "markdown",
      "source": [
        "### It quite amazing that the weight"
      ],
      "metadata": {
        "id": "HREYg0BBIg3-"
      }
    },
    {
      "cell_type": "markdown",
      "source": [
        "### ESD of the Data\n",
        "\n",
        "What does the Empirical Spectral Density (ESD), or eigenvalue distribution,  $\\rho(\\lambda)$, look like for the original data covariance matrix ?  \n",
        "\n",
        "These ESDs look similar to (but not exactly like) the associated Marchenko Pastur (MP) disributions for these data matrices"
      ],
      "metadata": {
        "id": "rZMb-6ueJg8i"
      }
    },
    {
      "cell_type": "code",
      "source": [
        "import numpy as np\n",
        "import matplotlib.pyplot as plt\n",
        "\n",
        "def plot_marchenko_pastur(Q, ax=None, x_shift=0.0, y_scale=1.0):\n",
        "    \"\"\"\n",
        "    Plots the Marchenko-Pastur distribution for a given aspect ratio Q on the provided axes.\n",
        "    If no axes are provided, creates a new figure and axes.\n",
        "\n",
        "    Args:\n",
        "        Q (float): The aspect ratio of the matrix (number of columns / number of rows).\n",
        "        ax (matplotlib.axes.Axes, optional): The axes on which to plot the distribution. Defaults to None.\n",
        "    \"\"\"\n",
        "    # Marchenko-Pastur parameters\n",
        "    a = (1 - np.sqrt(1 / Q))**2\n",
        "    b = (1 + np.sqrt(1 / Q))**2\n",
        "\n",
        "    # Marchenko-Pastur probability density function\n",
        "    def mp_pdf(x, Q):\n",
        "        return (1 / (2 * np.pi * x * Q)) * np.sqrt((b - x) * (x - a))\n",
        "\n",
        "    # Define x values for plotting\n",
        "    x_values = np.linspace(a, b, 1000)\n",
        "\n",
        "    # Compute the corresponding y values for the MP distribution\n",
        "    y_values = mp_pdf(x_values, Q)\n",
        "\n",
        "    # Plotting\n",
        "    if ax is None:\n",
        "        fig, ax = plt.subplots(figsize=(8, 6))  # Create new figure and axes if none are provided\n",
        "\n",
        "    x_values += x_shift\n",
        "    y_values *= y_scale\n",
        "\n",
        "    ax.plot(x_values, y_values, label=f'Marchenko-Pastur ($Q={Q:0.2f}$)')\n",
        "    ax.fill_between(x_values, y_values, color='skyblue', alpha=0.5)\n",
        "    ax.set_title('Marchenko-Pastur Distribution')\n",
        "    ax.set_xlabel('Eigenvalue')\n",
        "    ax.set_ylabel('Probability Density')\n",
        "    ax.legend()\n",
        "    ax.grid(True)\n",
        "\n",
        "#fig, axs = plt.subplots(1, 2, figsize=(12, 5))  # Create a figure with two subplots\n",
        "#plot_marchenko_pastur(10, ax=axs[0])  # Plot MP distribution on the first subplot"
      ],
      "metadata": {
        "id": "PcUR4FKoVc8Z"
      },
      "execution_count": 13,
      "outputs": []
    },
    {
      "cell_type": "code",
      "source": [
        "\n",
        "fig, axs = plt.subplots(1, 3, figsize=(15, 5))  # 1 row, 3 columns\n",
        "colors = ['blue', 'orange', 'green']\n",
        "\n",
        "for ia, load in enumerate([0.5, 1.0, 1.5]):\n",
        "  P = load*N\n",
        "  all_evals = []\n",
        "  for evals in train_evals[ia]:\n",
        "    evals = (1/P)*(1.0/np.array(evals)) # inverse evals, rescaled\n",
        "    all_evals.extend(evals)\n",
        "\n",
        "  axs[ia].hist(all_evals, bins=100, label=f\"load={load:0.2f}\", color=colors[ia], density=True)\n",
        "  plot_marchenko_pastur(Q=load, ax=axs[ia], y_scale=1.0)\n",
        "  axs[ia].set_title(\"ESD of Training Data Covariance Matrix\")\n",
        "\n",
        "  if ia==1:\n",
        "    axs[ia].set_ylim(0,1)\n",
        "\n",
        "\n",
        "plt.legend()\n",
        "plt.show()"
      ],
      "metadata": {
        "colab": {
          "base_uri": "https://localhost:8080/",
          "height": 558
        },
        "id": "8FAgH9C2XW7o",
        "outputId": "6b68ad73-1403-4cf1-dd4d-b00dd44e1688"
      },
      "execution_count": 14,
      "outputs": [
        {
          "output_type": "stream",
          "name": "stderr",
          "text": [
            "<ipython-input-13-46fcc9d454b2>:19: RuntimeWarning: divide by zero encountered in divide\n",
            "  return (1 / (2 * np.pi * x * Q)) * np.sqrt((b - x) * (x - a))\n",
            "<ipython-input-13-46fcc9d454b2>:19: RuntimeWarning: invalid value encountered in multiply\n",
            "  return (1 / (2 * np.pi * x * Q)) * np.sqrt((b - x) * (x - a))\n"
          ]
        },
        {
          "output_type": "display_data",
          "data": {
            "text/plain": [
              "<Figure size 1500x500 with 3 Axes>"
            ],
            "image/png": "[encoded data removed]"
          },
          "metadata": {}
        }
      ]
    },
    {
      "cell_type": "markdown",
      "source": [
        "### Why does load $\\alpha=1\\;(P=N)$ give the weightwatahcer $\\alpha_{PL}<2$ ?\n",
        "\n",
        "Learning is an inverse problem.\n",
        "\n",
        "What matters is the statistics of the inverse covarince matrix, not the data covariance matrix itself.\n",
        "\n",
        "Given a 'random' data matrix (a matrix of i.i.d random data), if it is square, then the ESD $\\rho{\\lambda)$. of the data covariance matrix resembles (or is exactly) a Marchenko-Pastur  disttribution (middle plot).\n",
        "\n",
        "Notice that when $P=N$, as here, then the ESD has a large peak at $\\lambda=0$.  And only for $P=N$.\n",
        "\n",
        "Given this, the ESD of the inverse covarince matrix $rho(\\lambda^{-1})$ will have a very long, heavy tail.  And when fit to a Power Law (PL), the PL exponent $\\alpha_{PL}$ will most likely be less than 2, i.e.the weighwatcher (WW) $\\alpha_{PL}<2$\n",
        "\n"
      ],
      "metadata": {
        "id": "WmYp1dcGJsAn"
      }
    },
    {
      "cell_type": "markdown",
      "source": [
        "# Why is $𝛼_{𝑃𝐿}<2$ seemingly associated with overfitting ?\n",
        "\n",
        "- norm argument\n",
        "\n",
        "- paper argument\n",
        "\n",
        "If we do have a lot of very small, undesriable eigenvalues in the inverse data covariance matrix., we should then be able to correct for the overfitting  induced by removing the eigencompoents associated with these bad eigenvalues\n"
      ],
      "metadata": {
        "id": "BxqB1RFMJ5-3"
      }
    },
    {
      "cell_type": "markdown",
      "source": [
        "# Fixing overfitting by Smoothing the PsuedoInverse"
      ],
      "metadata": {
        "id": "nHGlHq1SJ6CS"
      }
    },
    {
      "cell_type": "markdown",
      "source": [
        "###   Different Regressions\n",
        "\n",
        "Here, I show compare different implementations of Linear Regression in order to demonstrate how the PINV method from the paper works"
      ],
      "metadata": {
        "id": "8VDp6AEHcdyT"
      }
    },
    {
      "cell_type": "code",
      "source": [
        "import numpy as np\n",
        "\n",
        "def reduce_matrix(X, n_comp):\n",
        "    \"\"\"\n",
        "    Reduces a square matrix X to only keep the top N eigencomponents.\n",
        "\n",
        "    Args:\n",
        "        X (numpy.ndarray): The square matrix to reduce.\n",
        "        N (int): The number of top components to keep.\n",
        "\n",
        "    Returns:\n",
        "        numpy.ndarray: The reduced matrix.\n",
        "    \"\"\"\n",
        "\n",
        "    N = n_comp\n",
        "    # Perform eigenvalue decomposition\n",
        "    eigenvalues, eigenvectors = np.linalg.eigh(X)\n",
        "\n",
        "    # Sort the eigenvalues and eigenvectors\n",
        "    idx = np.argsort(eigenvalues)[::-1]\n",
        "    sorted_eigenvalues = eigenvalues[idx]\n",
        "    sorted_eigenvectors = eigenvectors[:, idx]\n",
        "\n",
        "    # Select the top N eigenvalues and corresponding eigenvectors\n",
        "    top_eigenvalues = sorted_eigenvalues[:N]\n",
        "    top_eigenvectors = sorted_eigenvectors[:, :N]\n",
        "\n",
        "    # Reconstruct the matrix from the top N components\n",
        "    X_reduced = np.dot(top_eigenvectors, np.diag(top_eigenvalues)).dot(top_eigenvectors.T)\n",
        "    return X_reduced\n",
        "\n",
        "# Example usage\n",
        "#X = np.random.rand(5, 5)\n",
        "#X_reduced = reduce_matrix(X, 3)\n",
        "#print(X_reduced.shape)"
      ],
      "metadata": {
        "id": "dVOgfL0WLyaw"
      },
      "execution_count": 15,
      "outputs": []
    },
    {
      "cell_type": "code",
      "source": [
        "import numpy as np\n",
        "from sklearn.linear_model import LogisticRegression,  LinearRegression, Ridge\n",
        "\n",
        "LR = 'LR'\n",
        "RIDGE = 'RIDGE'\n",
        "PINV = 'PINV'\n",
        "DIRECT = 'DIRECT'\n",
        "SMOOTH = 'SMOOTH'\n",
        "\n",
        "def run_regression(X_train, Y_train, X_test, Y_test,  method=LR, alpha=0.0, n_comp=None, verbose=True):\n",
        "\n",
        "  if verbose:\n",
        "    print(f\"Running {method} alpha={alpha:0.2f} n_comp={n_comp}\")\n",
        "\n",
        "  if method==LR:\n",
        "    # Run vanilla Linear Regeession\n",
        "\n",
        "    # Train the linear regression model\n",
        "    regressor =  LinearRegression(fit_intercept=False)\n",
        "    regressor.fit(X_train, Y_train)\n",
        "\n",
        "    # Predict Y values for the training and test sets\n",
        "    Y_train_values = regressor.predict(X_train)\n",
        "    Y_test_values  =  regressor.predict(X_test)\n",
        "\n",
        "  elif method==RIDGE:\n",
        "    # Run  Tinkhonov/ Ridge Regularized Linear Regeession\n",
        "\n",
        "    # Initialize the Ridge regression model\n",
        "    regressor = Ridge(alpha=alpha, fit_intercept=False)  # alpha is the regularization strength\n",
        "    regressor.fit(X_train, Y_train)\n",
        "\n",
        "    # Predict Y values for the training and test sets\n",
        "    Y_train_values = regressor.predict(X_train)\n",
        "    Y_test_values = regressor.predict(X_test)\n",
        "\n",
        "  elif method in [ PINV, DIRECT, SMOOTH]:\n",
        "    # RUN LR using PssudoInverse\n",
        "\n",
        "    if method==PINV:\n",
        "      X_train_pinv = np.linalg.pinv(X_train)\n",
        "    elif method==DIRECT or method==SMOOTH:\n",
        "      # Compute the full pseudoinverse based on the formula (XT_X)^-1 * X_train^T\n",
        "\n",
        "      # Step 1: Compute X_train^T @ X_train\n",
        "      XT_X = np.dot(X_train.T, X_train)\n",
        "\n",
        "      # Step 2: Compute the pseudoinverse of XT_X\n",
        "      XT_X_inv = np.linalg.inv(XT_X)\n",
        "\n",
        "      if method==SMOOTH:\n",
        "        XT_X_inv = reduce_matrix(XT_X_inv, n_comp)\n",
        "\n",
        "      X_train_pinv = np.dot(XT_X_inv, X_train.T)\n",
        "\n",
        "\n",
        "    # Step 3: Compute the weights for the linear model\n",
        "    weights = np.dot(X_train_pinv, Y_train)\n",
        "\n",
        "    # Step 4: Make predictions on the test data using the computed weights\n",
        "    Y_train_values = np.dot(X_train, weights)\n",
        "    Y_test_values = np.dot(X_test, weights)\n",
        "\n",
        "  # end elif\n",
        "\n",
        "  # Compute training and test accuracies\n",
        "  # Convert predictions to binary class labels\n",
        "  Y_train_pred = np.where(Y_train_values > 0, 1, -1)  # Converts to 1 if Y > 0 else -1\n",
        "  Y_test_pred = np.where(Y_test_values > 0, 1, -1)  # Converts to 1 if Y > 0 else -1\n",
        "\n",
        "\n",
        "  # Compute accuracy for both training and test sets\n",
        "  train_accuracy = accuracy_score(Y_train, Y_train_pred)\n",
        "  test_accuracy = accuracy_score(Y_test, Y_test_pred)\n",
        "  if verbose:\n",
        "    print(f\"LR train_accuracy {train_accuracy:0.2f}\")\n",
        "    print(f\"LR test_accuracy {test_accuracy:0.2f}\")\n",
        "\n",
        "  return train_accuracy, test_accuracy"
      ],
      "metadata": {
        "id": "BSaPP5slDKk0"
      },
      "execution_count": 16,
      "outputs": []
    },
    {
      "cell_type": "code",
      "source": [
        "alpha = 1.0\n",
        "N = 100\n",
        "P = int(alpha * N)\n",
        "\n",
        "X_train, Y_train = generate_mdp_dataset_numpy(P,N)\n",
        "X_test, Y_test = generate_mdp_dataset_numpy(P,N)\n",
        "\n",
        "train_accuracy, test_accuracy = run_regression(X_train, Y_train, X_test, Y_test,  method=LR, alpha=1.0, n_comp=None, verbose=False)\n",
        "print(f\"LR test_accuracy {test_accuracy:0.2f}\")\n",
        "\n",
        "\n",
        "train_accuracy, test_accuracy = run_regression(X_train, Y_train, X_test, Y_test,  method=PINV, alpha=0.5, n_comp=None, verbose=False)\n",
        "print(f\"PINV test_accuracy {test_accuracy:0.2f}\")\n",
        "\n",
        "train_accuracy, test_accuracy = run_regression(X_train, Y_train, X_test, Y_test,  method=DIRECT, alpha=1.0, n_comp=None, verbose=False)\n",
        "print(f\"DIRECT test_accuracy {test_accuracy:0.2f}\")\n",
        "\n",
        "\n",
        "train_accuracy, test_accuracy = run_regression(X_train, Y_train, X_test, Y_test,  method=RIDGE, alpha=0.0, verbose=False)\n",
        "print(f\"RIDGE test_accuracy {test_accuracy:0.2f}\")\n",
        "\n",
        "\n",
        "train_accuracy, test_accuracy = run_regression(X_train, Y_train, X_test, Y_test,  method=SMOOTH, n_comp=N, verbose=False)\n",
        "print(f\"SMOOTH test_accuracy {test_accuracy:0.2f}\")\n"
      ],
      "metadata": {
        "colab": {
          "base_uri": "https://localhost:8080/"
        },
        "id": "YuO5Wo7N-sdZ",
        "outputId": "eaf4b398-9a4f-4159-d7e2-25ed9ba3eae2"
      },
      "execution_count": 17,
      "outputs": [
        {
          "output_type": "stream",
          "name": "stdout",
          "text": [
            "LR test_accuracy 0.58\n",
            "PINV test_accuracy 0.58\n",
            "DIRECT test_accuracy 0.58\n",
            "RIDGE test_accuracy 0.58\n",
            "SMOOTH test_accuracy 0.58\n"
          ]
        }
      ]
    },
    {
      "cell_type": "markdown",
      "source": [
        "### TODO: Test the Reduced Matrix, PINV calculations"
      ],
      "metadata": {
        "id": "wppcJli2ORau"
      }
    },
    {
      "cell_type": "markdown",
      "source": [
        "### Ridge Test"
      ],
      "metadata": {
        "id": "OLAAuhf4OXRM"
      }
    },
    {
      "cell_type": "code",
      "source": [
        "all_loads = []\n",
        "for idx in range(1,10,1):\n",
        "  alpha = float(idx)/10.0\n",
        "  all_loads.append(alpha)\n",
        "  train_accuracy, test_accuracy = run_regression(X_train, Y_train, X_test, Y_test,  method=RIDGE, alpha=alpha, n_comp=None, verbose=False)\n",
        "  print(f\"RIDGE alpha={alpha} test_accuracy {test_accuracy:0.2f}\")\n",
        "\n"
      ],
      "metadata": {
        "colab": {
          "base_uri": "https://localhost:8080/"
        },
        "id": "qKEBfUAqKI3d",
        "outputId": "5bcd93d2-d636-4533-fcd2-b3be37f894e7"
      },
      "execution_count": 20,
      "outputs": [
        {
          "output_type": "stream",
          "name": "stdout",
          "text": [
            "RIDGE alpha=0.1 test_accuracy 0.58\n",
            "RIDGE alpha=0.2 test_accuracy 0.59\n",
            "RIDGE alpha=0.3 test_accuracy 0.57\n",
            "RIDGE alpha=0.4 test_accuracy 0.56\n",
            "RIDGE alpha=0.5 test_accuracy 0.57\n",
            "RIDGE alpha=0.6 test_accuracy 0.58\n",
            "RIDGE alpha=0.7 test_accuracy 0.58\n",
            "RIDGE alpha=0.8 test_accuracy 0.61\n",
            "RIDGE alpha=0.9 test_accuracy 0.63\n"
          ]
        }
      ]
    },
    {
      "cell_type": "markdown",
      "source": [
        "### Attempt to reproduce Figure 1b by just the eigencomponents of  PINV\n",
        "\n",
        "I have yet to figure out this paet of the paper yet\n",
        "\n"
      ],
      "metadata": {
        "id": "HJ-4srLg_dUT"
      }
    },
    {
      "cell_type": "code",
      "source": [
        "test_accuracies = []\n",
        "n_comp_range = [x for x in range(1, 100, 1)]\n",
        "for n_comp in n_comp_range:\n",
        "    train_accuracy, test_accuracy = run_regression(X_train, Y_train, X_test, Y_test,  method=SMOOTH, alpha=n_comp/100.0, n_comp=n_comp, verbose=False)\n",
        "    test_accuracies.append(test_accuracy)\n",
        "\n",
        "plt.scatter(n_comp_range, np.array(test_accuracies))\n",
        "plt.title(\"Regularized PINV method  vs Test Accuracy\")\n",
        "plt.xlabel(\"Number of eigencomponents in PINV\")\n",
        "plt.ylabel(\"Test Accuracy\")\n"
      ],
      "metadata": {
        "id": "S8EwPwucgGLL",
        "colab": {
          "base_uri": "https://localhost:8080/",
          "height": 490
        },
        "outputId": "057749a0-4565-438f-ec13-bac13591a6ea"
      },
      "execution_count": 21,
      "outputs": [
        {
          "output_type": "execute_result",
          "data": {
            "text/plain": [
              "Text(0, 0.5, 'Test Accuracy')"
            ]
          },
          "metadata": {},
          "execution_count": 21
        },
        {
          "output_type": "display_data",
          "data": {
            "text/plain": [
              "<Figure size 640x480 with 1 Axes>"
            ],
            "image/png": "[encoded data removed]"
          },
          "metadata": {}
        }
      ]
    },
    {
      "cell_type": "code",
      "source": [],
      "metadata": {
        "id": "w1yAqU9OgtXY"
      },
      "execution_count": null,
      "outputs": []
    }
  ]
}