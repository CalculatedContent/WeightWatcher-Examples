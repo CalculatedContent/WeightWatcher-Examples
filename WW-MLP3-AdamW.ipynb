{
 "cells": [
  {
   "cell_type": "markdown",
   "id": "1749fa7a-e144-458f-a8a1-ea606d7950dd",
   "metadata": {},
   "source": [
    "# WeightWatcher Analysis of the AdamW optimizer\n",
    "\n",
    "This notebook examines the tendency of the AdamW optimizer to cause layers to overfit\n",
    "\n",
    "We train a 3-layer MLP (MLP3) on MNIST using AdamW in an attempt to obtain the best test accuracy possible (98.5%)\n",
    "\n",
    "We then examine the layer alphas, finding that the alphas for FC1 & FC2 are less than ideal 2.0\n",
    "\n",
    "\n",
    "\n"
   ]
  },
  {
   "cell_type": "markdown",
   "id": "81f79052-e22e-479d-aeb9-f2c90cf36289",
   "metadata": {},
   "source": [
    "## Install weightwatcher if you need it"
   ]
  },
  {
   "cell_type": "code",
   "execution_count": 1,
   "id": "cfee034f-2897-47c5-834a-e1314116925e",
   "metadata": {},
   "outputs": [],
   "source": [
    "#!pip install weightwatcher"
   ]
  },
  {
   "cell_type": "markdown",
   "id": "02fbace1-8735-43d0-83bd-d53205ffef48",
   "metadata": {},
   "source": [
    "### Imports \n",
    "\n",
    "add more installs as necessary for your env"
   ]
  },
  {
   "cell_type": "code",
   "execution_count": 2,
   "id": "5687bb80-1a8e-4326-8b94-a02ef062b3ab",
   "metadata": {},
   "outputs": [
    {
     "name": "stderr",
     "output_type": "stream",
     "text": [
      "PyTorch is available but CUDA is not. Defaulting to NumPy for SVD\n",
      "Import error , reetting to svd accurate methods\n"
     ]
    },
    {
     "name": "stdout",
     "output_type": "stream",
     "text": [
      "Running on macOS.\n",
      "Running on macOS.\n"
     ]
    }
   ],
   "source": [
    "import torch\n",
    "import torch.nn as nn\n",
    "import torch.optim as optim\n",
    "import pandas as pd\n",
    "import weightwatcher as ww\n",
    "import logging\n",
    "import os\n",
    "from torchvision import transforms, datasets\n",
    "from torch.utils.data import DataLoader\n",
    "import copy\n",
    "import numpy as np\n"
   ]
  },
  {
   "cell_type": "markdown",
   "id": "a4e62d5c-8baa-4826-a6e1-a23e0df8869e",
   "metadata": {},
   "source": [
    "## Set your GPU or CPU"
   ]
  },
  {
   "cell_type": "code",
   "execution_count": 3,
   "id": "49664cf2-6eb8-4d29-8526-866d04530ddb",
   "metadata": {},
   "outputs": [
    {
     "name": "stdout",
     "output_type": "stream",
     "text": [
      "Using device: mps\n"
     ]
    }
   ],
   "source": [
    "device = torch.device(\"mps\" if torch.backends.mps.is_available() else \"cpu\")\n",
    "print(f\"Using device: {device}\")"
   ]
  },
  {
   "cell_type": "markdown",
   "id": "27a85fd3-94dd-42d0-953d-0135274d9911",
   "metadata": {},
   "source": [
    "### Logging"
   ]
  },
  {
   "cell_type": "code",
   "execution_count": 4,
   "id": "56a0d289-f298-4146-a8ba-941c9e9d00d6",
   "metadata": {},
   "outputs": [],
   "source": [
    "# Setup logging\n",
    "logging.basicConfig(filename=\"WW-MLP3-AdamW.log\", level=logging.INFO, format=\"%(message)s\")"
   ]
  },
  {
   "cell_type": "markdown",
   "id": "442e1be7-a3e8-4623-8830-0f9efa325ec3",
   "metadata": {},
   "source": [
    "### Define the MLP3"
   ]
  },
  {
   "cell_type": "code",
   "execution_count": 5,
   "id": "8d621d4c-96cc-4c7e-a716-1ee45dd5bb19",
   "metadata": {},
   "outputs": [],
   "source": [
    "class MLP3(nn.Module):\n",
    "    def __init__(self, input_size=784, hidden_size=512, output_size=10):\n",
    "        super(MLP3, self).__init__()\n",
    "        self.fc1 = nn.Linear(input_size, hidden_size)\n",
    "        self.bn1 = nn.BatchNorm1d(hidden_size)\n",
    "        self.dropout1 = nn.Dropout(0.3)\n",
    "\n",
    "        self.fc2 = nn.Linear(hidden_size, hidden_size)\n",
    "        self.bn2 = nn.BatchNorm1d(hidden_size)\n",
    "        self.dropout2 = nn.Dropout(0.3)\n",
    "\n",
    "        self.fc3 = nn.Linear(hidden_size, output_size)\n",
    "\n",
    "    def forward(self, x):\n",
    "        x = torch.nn.GELU()(self.fc1(x))#torch.nn.GELU()(self.bn1(self.fc1(x)))\n",
    "        x = self.dropout1(x)\n",
    "        x = torch.nn.GELU()(self.fc2(x))#torch.nn.GELU()(self.bn2(self.fc2(x)))\n",
    "        x = self.dropout2(x)\n",
    "        x = self.fc3(x)\n",
    "        return x"
   ]
  },
  {
   "cell_type": "markdown",
   "id": "0d466441-9be2-461a-a032-a85554159349",
   "metadata": {},
   "source": [
    "### Define the Dataset (MNIST)\n",
    "\n",
    "Use agumentation to improve test accuracy"
   ]
  },
  {
   "cell_type": "code",
   "execution_count": 6,
   "id": "c188b9f1-0ac7-4759-99c2-5b68be3d4283",
   "metadata": {},
   "outputs": [],
   "source": [
    "\n",
    "# ================ Data Augmentation and MNIST Datasets ================\n",
    "transform = transforms.Compose([\n",
    "    transforms.RandomAffine(degrees=10, translate=(0.1, 0.1)),\n",
    "    transforms.ToTensor(),\n",
    "    transforms.Normalize((0.5,), (0.5,))\n",
    "])\n",
    "\n",
    "train_dataset = datasets.MNIST(root='./data', train=True, transform=transform, download=True)\n",
    "test_dataset = datasets.MNIST(root='./data', train=False, transform=transform, download=True)\n",
    "\n",
    "train_loader = DataLoader(train_dataset, batch_size=64, shuffle=True)\n",
    "test_loader = DataLoader(test_dataset, batch_size=64, shuffle=False)\n"
   ]
  },
  {
   "cell_type": "markdown",
   "id": "05f417b1-085e-41b6-a0e9-db3a26412adf",
   "metadata": {},
   "source": [
    "## Define the optimizer \n",
    "\n",
    "Here, we study AdamW with a cycled learning rate schedule\n",
    "\n",
    "Note: large learning rates can also induce layer overfitting"
   ]
  },
  {
   "cell_type": "code",
   "execution_count": 17,
   "id": "92d82c3f-5e50-40c2-ab6a-d7f5914f4d44",
   "metadata": {},
   "outputs": [],
   "source": [
    "# ================ Model, Loss, Optimizer, Scheduler ================\n",
    "\n",
    "num_epochs = 100\n",
    "\n",
    "model = MLP3().to(device)\n",
    "criterion = nn.CrossEntropyLoss()\n",
    "optimizer = optim.AdamW(model.parameters(), lr=0.001, weight_decay=1e-4)\n",
    "scheduler = optim.lr_scheduler.OneCycleLR(optimizer, max_lr=0.01, epochs=num_epochs, steps_per_epoch=len(train_loader))\n",
    "\n",
    "\n",
    "experiment = \"WW-MLP3-AdamW\""
   ]
  },
  {
   "cell_type": "markdown",
   "id": "2517ef3b-2289-445c-a66e-ebde8cee10fb",
   "metadata": {},
   "source": [
    "## Train Model"
   ]
  },
  {
   "cell_type": "code",
   "execution_count": 18,
   "id": "610f8a24-b4d8-4616-9d65-64756a6fe275",
   "metadata": {},
   "outputs": [
    {
     "name": "stderr",
     "output_type": "stream",
     "text": [
      "2025-03-19 15:41:50,207 - INFO - Epoch 1/100 - Train Loss: 0.7651, Train Acc: 75.11% | Test Loss: 0.3449, Test Acc: 89.56%\n"
     ]
    },
    {
     "name": "stdout",
     "output_type": "stream",
     "text": [
      "Epoch 1/100 - Train Loss: 0.7651, Train Acc: 75.11% | Test Loss: 0.3449, Test Acc: 89.56%\n"
     ]
    },
    {
     "name": "stderr",
     "output_type": "stream",
     "text": [
      "2025-03-19 15:41:59,026 - INFO - Epoch 2/100 - Train Loss: 0.3468, Train Acc: 89.30% | Test Loss: 0.2045, Test Acc: 93.86%\n"
     ]
    },
    {
     "name": "stdout",
     "output_type": "stream",
     "text": [
      "Epoch 2/100 - Train Loss: 0.3468, Train Acc: 89.30% | Test Loss: 0.2045, Test Acc: 93.86%\n"
     ]
    },
    {
     "name": "stderr",
     "output_type": "stream",
     "text": [
      "2025-03-19 15:42:07,666 - INFO - Epoch 3/100 - Train Loss: 0.2754, Train Acc: 91.55% | Test Loss: 0.1843, Test Acc: 94.20%\n"
     ]
    },
    {
     "name": "stdout",
     "output_type": "stream",
     "text": [
      "Epoch 3/100 - Train Loss: 0.2754, Train Acc: 91.55% | Test Loss: 0.1843, Test Acc: 94.20%\n"
     ]
    },
    {
     "name": "stderr",
     "output_type": "stream",
     "text": [
      "2025-03-19 15:42:16,365 - INFO - Epoch 4/100 - Train Loss: 0.2361, Train Acc: 92.57% | Test Loss: 0.1435, Test Acc: 95.40%\n"
     ]
    },
    {
     "name": "stdout",
     "output_type": "stream",
     "text": [
      "Epoch 4/100 - Train Loss: 0.2361, Train Acc: 92.57% | Test Loss: 0.1435, Test Acc: 95.40%\n"
     ]
    },
    {
     "name": "stderr",
     "output_type": "stream",
     "text": [
      "2025-03-19 15:42:24,375 - INFO - Epoch 5/100 - Train Loss: 0.2135, Train Acc: 93.25% | Test Loss: 0.1433, Test Acc: 95.29%\n"
     ]
    },
    {
     "name": "stdout",
     "output_type": "stream",
     "text": [
      "Epoch 5/100 - Train Loss: 0.2135, Train Acc: 93.25% | Test Loss: 0.1433, Test Acc: 95.29%\n"
     ]
    },
    {
     "name": "stderr",
     "output_type": "stream",
     "text": [
      "2025-03-19 15:42:32,476 - INFO - Epoch 6/100 - Train Loss: 0.2015, Train Acc: 93.62% | Test Loss: 0.1403, Test Acc: 95.59%\n"
     ]
    },
    {
     "name": "stdout",
     "output_type": "stream",
     "text": [
      "Epoch 6/100 - Train Loss: 0.2015, Train Acc: 93.62% | Test Loss: 0.1403, Test Acc: 95.59%\n"
     ]
    },
    {
     "name": "stderr",
     "output_type": "stream",
     "text": [
      "2025-03-19 15:42:40,572 - INFO - Epoch 7/100 - Train Loss: 0.1900, Train Acc: 94.12% | Test Loss: 0.1173, Test Acc: 96.12%\n"
     ]
    },
    {
     "name": "stdout",
     "output_type": "stream",
     "text": [
      "Epoch 7/100 - Train Loss: 0.1900, Train Acc: 94.12% | Test Loss: 0.1173, Test Acc: 96.12%\n"
     ]
    },
    {
     "name": "stderr",
     "output_type": "stream",
     "text": [
      "2025-03-19 15:42:49,487 - INFO - Epoch 8/100 - Train Loss: 0.1831, Train Acc: 94.33% | Test Loss: 0.1099, Test Acc: 96.58%\n"
     ]
    },
    {
     "name": "stdout",
     "output_type": "stream",
     "text": [
      "Epoch 8/100 - Train Loss: 0.1831, Train Acc: 94.33% | Test Loss: 0.1099, Test Acc: 96.58%\n"
     ]
    },
    {
     "name": "stderr",
     "output_type": "stream",
     "text": [
      "2025-03-19 15:42:59,008 - INFO - Epoch 9/100 - Train Loss: 0.1765, Train Acc: 94.47% | Test Loss: 0.1015, Test Acc: 96.92%\n"
     ]
    },
    {
     "name": "stdout",
     "output_type": "stream",
     "text": [
      "Epoch 9/100 - Train Loss: 0.1765, Train Acc: 94.47% | Test Loss: 0.1015, Test Acc: 96.92%\n"
     ]
    },
    {
     "name": "stderr",
     "output_type": "stream",
     "text": [
      "2025-03-19 15:43:07,472 - INFO - Epoch 10/100 - Train Loss: 0.1708, Train Acc: 94.73% | Test Loss: 0.0943, Test Acc: 96.89%\n"
     ]
    },
    {
     "name": "stdout",
     "output_type": "stream",
     "text": [
      "Epoch 10/100 - Train Loss: 0.1708, Train Acc: 94.73% | Test Loss: 0.0943, Test Acc: 96.89%\n"
     ]
    },
    {
     "name": "stderr",
     "output_type": "stream",
     "text": [
      "2025-03-19 15:43:16,612 - INFO - Epoch 11/100 - Train Loss: 0.1624, Train Acc: 95.00% | Test Loss: 0.1116, Test Acc: 96.65%\n"
     ]
    },
    {
     "name": "stdout",
     "output_type": "stream",
     "text": [
      "Epoch 11/100 - Train Loss: 0.1624, Train Acc: 95.00% | Test Loss: 0.1116, Test Acc: 96.65%\n"
     ]
    },
    {
     "name": "stderr",
     "output_type": "stream",
     "text": [
      "2025-03-19 15:43:26,051 - INFO - Epoch 12/100 - Train Loss: 0.1653, Train Acc: 94.96% | Test Loss: 0.1026, Test Acc: 96.60%\n"
     ]
    },
    {
     "name": "stdout",
     "output_type": "stream",
     "text": [
      "Epoch 12/100 - Train Loss: 0.1653, Train Acc: 94.96% | Test Loss: 0.1026, Test Acc: 96.60%\n"
     ]
    },
    {
     "name": "stderr",
     "output_type": "stream",
     "text": [
      "2025-03-19 15:43:34,982 - INFO - Epoch 13/100 - Train Loss: 0.1576, Train Acc: 95.12% | Test Loss: 0.0884, Test Acc: 97.24%\n"
     ]
    },
    {
     "name": "stdout",
     "output_type": "stream",
     "text": [
      "Epoch 13/100 - Train Loss: 0.1576, Train Acc: 95.12% | Test Loss: 0.0884, Test Acc: 97.24%\n"
     ]
    },
    {
     "name": "stderr",
     "output_type": "stream",
     "text": [
      "2025-03-19 15:43:43,426 - INFO - Epoch 14/100 - Train Loss: 0.1545, Train Acc: 95.21% | Test Loss: 0.0864, Test Acc: 97.12%\n"
     ]
    },
    {
     "name": "stdout",
     "output_type": "stream",
     "text": [
      "Epoch 14/100 - Train Loss: 0.1545, Train Acc: 95.21% | Test Loss: 0.0864, Test Acc: 97.12%\n"
     ]
    },
    {
     "name": "stderr",
     "output_type": "stream",
     "text": [
      "2025-03-19 15:43:52,344 - INFO - Epoch 15/100 - Train Loss: 0.1513, Train Acc: 95.30% | Test Loss: 0.0848, Test Acc: 97.09%\n"
     ]
    },
    {
     "name": "stdout",
     "output_type": "stream",
     "text": [
      "Epoch 15/100 - Train Loss: 0.1513, Train Acc: 95.30% | Test Loss: 0.0848, Test Acc: 97.09%\n"
     ]
    },
    {
     "name": "stderr",
     "output_type": "stream",
     "text": [
      "2025-03-19 15:44:01,412 - INFO - Epoch 16/100 - Train Loss: 0.1501, Train Acc: 95.38% | Test Loss: 0.0831, Test Acc: 97.42%\n"
     ]
    },
    {
     "name": "stdout",
     "output_type": "stream",
     "text": [
      "Epoch 16/100 - Train Loss: 0.1501, Train Acc: 95.38% | Test Loss: 0.0831, Test Acc: 97.42%\n"
     ]
    },
    {
     "name": "stderr",
     "output_type": "stream",
     "text": [
      "2025-03-19 15:44:10,266 - INFO - Epoch 17/100 - Train Loss: 0.1491, Train Acc: 95.38% | Test Loss: 0.0843, Test Acc: 97.15%\n"
     ]
    },
    {
     "name": "stdout",
     "output_type": "stream",
     "text": [
      "Epoch 17/100 - Train Loss: 0.1491, Train Acc: 95.38% | Test Loss: 0.0843, Test Acc: 97.15%\n"
     ]
    },
    {
     "name": "stderr",
     "output_type": "stream",
     "text": [
      "2025-03-19 15:44:18,962 - INFO - Epoch 18/100 - Train Loss: 0.1470, Train Acc: 95.52% | Test Loss: 0.0780, Test Acc: 97.55%\n"
     ]
    },
    {
     "name": "stdout",
     "output_type": "stream",
     "text": [
      "Epoch 18/100 - Train Loss: 0.1470, Train Acc: 95.52% | Test Loss: 0.0780, Test Acc: 97.55%\n"
     ]
    },
    {
     "name": "stderr",
     "output_type": "stream",
     "text": [
      "2025-03-19 15:44:27,218 - INFO - Epoch 19/100 - Train Loss: 0.1477, Train Acc: 95.49% | Test Loss: 0.0793, Test Acc: 97.27%\n"
     ]
    },
    {
     "name": "stdout",
     "output_type": "stream",
     "text": [
      "Epoch 19/100 - Train Loss: 0.1477, Train Acc: 95.49% | Test Loss: 0.0793, Test Acc: 97.27%\n"
     ]
    },
    {
     "name": "stderr",
     "output_type": "stream",
     "text": [
      "2025-03-19 15:44:35,487 - INFO - Epoch 20/100 - Train Loss: 0.1434, Train Acc: 95.62% | Test Loss: 0.0805, Test Acc: 97.47%\n"
     ]
    },
    {
     "name": "stdout",
     "output_type": "stream",
     "text": [
      "Epoch 20/100 - Train Loss: 0.1434, Train Acc: 95.62% | Test Loss: 0.0805, Test Acc: 97.47%\n"
     ]
    },
    {
     "name": "stderr",
     "output_type": "stream",
     "text": [
      "2025-03-19 15:44:43,704 - INFO - Epoch 21/100 - Train Loss: 0.1379, Train Acc: 95.64% | Test Loss: 0.0859, Test Acc: 97.33%\n"
     ]
    },
    {
     "name": "stdout",
     "output_type": "stream",
     "text": [
      "Epoch 21/100 - Train Loss: 0.1379, Train Acc: 95.64% | Test Loss: 0.0859, Test Acc: 97.33%\n"
     ]
    },
    {
     "name": "stderr",
     "output_type": "stream",
     "text": [
      "2025-03-19 15:44:52,004 - INFO - Epoch 22/100 - Train Loss: 0.1405, Train Acc: 95.65% | Test Loss: 0.0760, Test Acc: 97.64%\n"
     ]
    },
    {
     "name": "stdout",
     "output_type": "stream",
     "text": [
      "Epoch 22/100 - Train Loss: 0.1405, Train Acc: 95.65% | Test Loss: 0.0760, Test Acc: 97.64%\n"
     ]
    },
    {
     "name": "stderr",
     "output_type": "stream",
     "text": [
      "2025-03-19 15:45:00,245 - INFO - Epoch 23/100 - Train Loss: 0.1374, Train Acc: 95.75% | Test Loss: 0.0800, Test Acc: 97.37%\n"
     ]
    },
    {
     "name": "stdout",
     "output_type": "stream",
     "text": [
      "Epoch 23/100 - Train Loss: 0.1374, Train Acc: 95.75% | Test Loss: 0.0800, Test Acc: 97.37%\n"
     ]
    },
    {
     "name": "stderr",
     "output_type": "stream",
     "text": [
      "2025-03-19 15:45:08,379 - INFO - Epoch 24/100 - Train Loss: 0.1380, Train Acc: 95.84% | Test Loss: 0.0863, Test Acc: 97.15%\n"
     ]
    },
    {
     "name": "stdout",
     "output_type": "stream",
     "text": [
      "Epoch 24/100 - Train Loss: 0.1380, Train Acc: 95.84% | Test Loss: 0.0863, Test Acc: 97.15%\n"
     ]
    },
    {
     "name": "stderr",
     "output_type": "stream",
     "text": [
      "2025-03-19 15:45:16,600 - INFO - Epoch 25/100 - Train Loss: 0.1388, Train Acc: 95.73% | Test Loss: 0.0795, Test Acc: 97.47%\n"
     ]
    },
    {
     "name": "stdout",
     "output_type": "stream",
     "text": [
      "Epoch 25/100 - Train Loss: 0.1388, Train Acc: 95.73% | Test Loss: 0.0795, Test Acc: 97.47%\n"
     ]
    },
    {
     "name": "stderr",
     "output_type": "stream",
     "text": [
      "2025-03-19 15:45:24,789 - INFO - Epoch 26/100 - Train Loss: 0.1341, Train Acc: 95.85% | Test Loss: 0.0740, Test Acc: 97.55%\n"
     ]
    },
    {
     "name": "stdout",
     "output_type": "stream",
     "text": [
      "Epoch 26/100 - Train Loss: 0.1341, Train Acc: 95.85% | Test Loss: 0.0740, Test Acc: 97.55%\n"
     ]
    },
    {
     "name": "stderr",
     "output_type": "stream",
     "text": [
      "2025-03-19 15:45:32,913 - INFO - Epoch 27/100 - Train Loss: 0.1357, Train Acc: 95.83% | Test Loss: 0.0820, Test Acc: 97.54%\n"
     ]
    },
    {
     "name": "stdout",
     "output_type": "stream",
     "text": [
      "Epoch 27/100 - Train Loss: 0.1357, Train Acc: 95.83% | Test Loss: 0.0820, Test Acc: 97.54%\n"
     ]
    },
    {
     "name": "stderr",
     "output_type": "stream",
     "text": [
      "2025-03-19 15:45:41,066 - INFO - Epoch 28/100 - Train Loss: 0.1354, Train Acc: 95.84% | Test Loss: 0.0677, Test Acc: 97.86%\n"
     ]
    },
    {
     "name": "stdout",
     "output_type": "stream",
     "text": [
      "Epoch 28/100 - Train Loss: 0.1354, Train Acc: 95.84% | Test Loss: 0.0677, Test Acc: 97.86%\n"
     ]
    },
    {
     "name": "stderr",
     "output_type": "stream",
     "text": [
      "2025-03-19 15:45:49,240 - INFO - Epoch 29/100 - Train Loss: 0.1296, Train Acc: 95.95% | Test Loss: 0.0666, Test Acc: 97.83%\n"
     ]
    },
    {
     "name": "stdout",
     "output_type": "stream",
     "text": [
      "Epoch 29/100 - Train Loss: 0.1296, Train Acc: 95.95% | Test Loss: 0.0666, Test Acc: 97.83%\n"
     ]
    },
    {
     "name": "stderr",
     "output_type": "stream",
     "text": [
      "2025-03-19 15:45:57,556 - INFO - Epoch 30/100 - Train Loss: 0.1318, Train Acc: 95.94% | Test Loss: 0.0776, Test Acc: 97.49%\n"
     ]
    },
    {
     "name": "stdout",
     "output_type": "stream",
     "text": [
      "Epoch 30/100 - Train Loss: 0.1318, Train Acc: 95.94% | Test Loss: 0.0776, Test Acc: 97.49%\n"
     ]
    },
    {
     "name": "stderr",
     "output_type": "stream",
     "text": [
      "2025-03-19 15:46:05,691 - INFO - Epoch 31/100 - Train Loss: 0.1310, Train Acc: 96.08% | Test Loss: 0.0716, Test Acc: 97.73%\n"
     ]
    },
    {
     "name": "stdout",
     "output_type": "stream",
     "text": [
      "Epoch 31/100 - Train Loss: 0.1310, Train Acc: 96.08% | Test Loss: 0.0716, Test Acc: 97.73%\n"
     ]
    },
    {
     "name": "stderr",
     "output_type": "stream",
     "text": [
      "2025-03-19 15:46:15,264 - INFO - Epoch 32/100 - Train Loss: 0.1260, Train Acc: 96.14% | Test Loss: 0.0680, Test Acc: 97.81%\n"
     ]
    },
    {
     "name": "stdout",
     "output_type": "stream",
     "text": [
      "Epoch 32/100 - Train Loss: 0.1260, Train Acc: 96.14% | Test Loss: 0.0680, Test Acc: 97.81%\n"
     ]
    },
    {
     "name": "stderr",
     "output_type": "stream",
     "text": [
      "2025-03-19 15:46:24,621 - INFO - Epoch 33/100 - Train Loss: 0.1283, Train Acc: 96.10% | Test Loss: 0.0697, Test Acc: 97.67%\n"
     ]
    },
    {
     "name": "stdout",
     "output_type": "stream",
     "text": [
      "Epoch 33/100 - Train Loss: 0.1283, Train Acc: 96.10% | Test Loss: 0.0697, Test Acc: 97.67%\n"
     ]
    },
    {
     "name": "stderr",
     "output_type": "stream",
     "text": [
      "2025-03-19 15:46:33,492 - INFO - Epoch 34/100 - Train Loss: 0.1258, Train Acc: 96.21% | Test Loss: 0.0688, Test Acc: 97.83%\n"
     ]
    },
    {
     "name": "stdout",
     "output_type": "stream",
     "text": [
      "Epoch 34/100 - Train Loss: 0.1258, Train Acc: 96.21% | Test Loss: 0.0688, Test Acc: 97.83%\n"
     ]
    },
    {
     "name": "stderr",
     "output_type": "stream",
     "text": [
      "2025-03-19 15:46:42,148 - INFO - Epoch 35/100 - Train Loss: 0.1274, Train Acc: 96.06% | Test Loss: 0.0683, Test Acc: 97.87%\n"
     ]
    },
    {
     "name": "stdout",
     "output_type": "stream",
     "text": [
      "Epoch 35/100 - Train Loss: 0.1274, Train Acc: 96.06% | Test Loss: 0.0683, Test Acc: 97.87%\n"
     ]
    },
    {
     "name": "stderr",
     "output_type": "stream",
     "text": [
      "2025-03-19 15:46:50,652 - INFO - Epoch 36/100 - Train Loss: 0.1328, Train Acc: 96.03% | Test Loss: 0.0654, Test Acc: 97.86%\n"
     ]
    },
    {
     "name": "stdout",
     "output_type": "stream",
     "text": [
      "Epoch 36/100 - Train Loss: 0.1328, Train Acc: 96.03% | Test Loss: 0.0654, Test Acc: 97.86%\n"
     ]
    },
    {
     "name": "stderr",
     "output_type": "stream",
     "text": [
      "2025-03-19 15:46:59,757 - INFO - Epoch 37/100 - Train Loss: 0.1257, Train Acc: 96.19% | Test Loss: 0.0721, Test Acc: 97.70%\n"
     ]
    },
    {
     "name": "stdout",
     "output_type": "stream",
     "text": [
      "Epoch 37/100 - Train Loss: 0.1257, Train Acc: 96.19% | Test Loss: 0.0721, Test Acc: 97.70%\n"
     ]
    },
    {
     "name": "stderr",
     "output_type": "stream",
     "text": [
      "2025-03-19 15:47:08,314 - INFO - Epoch 38/100 - Train Loss: 0.1224, Train Acc: 96.32% | Test Loss: 0.0655, Test Acc: 97.85%\n"
     ]
    },
    {
     "name": "stdout",
     "output_type": "stream",
     "text": [
      "Epoch 38/100 - Train Loss: 0.1224, Train Acc: 96.32% | Test Loss: 0.0655, Test Acc: 97.85%\n"
     ]
    },
    {
     "name": "stderr",
     "output_type": "stream",
     "text": [
      "2025-03-19 15:47:17,558 - INFO - Epoch 39/100 - Train Loss: 0.1241, Train Acc: 96.28% | Test Loss: 0.0651, Test Acc: 98.11%\n"
     ]
    },
    {
     "name": "stdout",
     "output_type": "stream",
     "text": [
      "Epoch 39/100 - Train Loss: 0.1241, Train Acc: 96.28% | Test Loss: 0.0651, Test Acc: 98.11%\n"
     ]
    },
    {
     "name": "stderr",
     "output_type": "stream",
     "text": [
      "2025-03-19 15:47:26,780 - INFO - Epoch 40/100 - Train Loss: 0.1222, Train Acc: 96.20% | Test Loss: 0.0633, Test Acc: 98.06%\n"
     ]
    },
    {
     "name": "stdout",
     "output_type": "stream",
     "text": [
      "Epoch 40/100 - Train Loss: 0.1222, Train Acc: 96.20% | Test Loss: 0.0633, Test Acc: 98.06%\n"
     ]
    },
    {
     "name": "stderr",
     "output_type": "stream",
     "text": [
      "2025-03-19 15:47:35,457 - INFO - Epoch 41/100 - Train Loss: 0.1239, Train Acc: 96.20% | Test Loss: 0.0592, Test Acc: 98.08%\n"
     ]
    },
    {
     "name": "stdout",
     "output_type": "stream",
     "text": [
      "Epoch 41/100 - Train Loss: 0.1239, Train Acc: 96.20% | Test Loss: 0.0592, Test Acc: 98.08%\n"
     ]
    },
    {
     "name": "stderr",
     "output_type": "stream",
     "text": [
      "2025-03-19 15:47:43,711 - INFO - Epoch 42/100 - Train Loss: 0.1237, Train Acc: 96.29% | Test Loss: 0.0641, Test Acc: 97.90%\n"
     ]
    },
    {
     "name": "stdout",
     "output_type": "stream",
     "text": [
      "Epoch 42/100 - Train Loss: 0.1237, Train Acc: 96.29% | Test Loss: 0.0641, Test Acc: 97.90%\n"
     ]
    },
    {
     "name": "stderr",
     "output_type": "stream",
     "text": [
      "2025-03-19 15:47:51,932 - INFO - Epoch 43/100 - Train Loss: 0.1216, Train Acc: 96.40% | Test Loss: 0.0636, Test Acc: 97.97%\n"
     ]
    },
    {
     "name": "stdout",
     "output_type": "stream",
     "text": [
      "Epoch 43/100 - Train Loss: 0.1216, Train Acc: 96.40% | Test Loss: 0.0636, Test Acc: 97.97%\n"
     ]
    },
    {
     "name": "stderr",
     "output_type": "stream",
     "text": [
      "2025-03-19 15:48:00,211 - INFO - Epoch 44/100 - Train Loss: 0.1225, Train Acc: 96.20% | Test Loss: 0.0580, Test Acc: 98.04%\n"
     ]
    },
    {
     "name": "stdout",
     "output_type": "stream",
     "text": [
      "Epoch 44/100 - Train Loss: 0.1225, Train Acc: 96.20% | Test Loss: 0.0580, Test Acc: 98.04%\n"
     ]
    },
    {
     "name": "stderr",
     "output_type": "stream",
     "text": [
      "2025-03-19 15:48:09,207 - INFO - Epoch 45/100 - Train Loss: 0.1242, Train Acc: 96.35% | Test Loss: 0.0587, Test Acc: 98.08%\n"
     ]
    },
    {
     "name": "stdout",
     "output_type": "stream",
     "text": [
      "Epoch 45/100 - Train Loss: 0.1242, Train Acc: 96.35% | Test Loss: 0.0587, Test Acc: 98.08%\n"
     ]
    },
    {
     "name": "stderr",
     "output_type": "stream",
     "text": [
      "2025-03-19 15:48:18,866 - INFO - Epoch 46/100 - Train Loss: 0.1215, Train Acc: 96.31% | Test Loss: 0.0604, Test Acc: 97.95%\n"
     ]
    },
    {
     "name": "stdout",
     "output_type": "stream",
     "text": [
      "Epoch 46/100 - Train Loss: 0.1215, Train Acc: 96.31% | Test Loss: 0.0604, Test Acc: 97.95%\n"
     ]
    },
    {
     "name": "stderr",
     "output_type": "stream",
     "text": [
      "2025-03-19 15:48:28,187 - INFO - Epoch 47/100 - Train Loss: 0.1175, Train Acc: 96.50% | Test Loss: 0.0615, Test Acc: 98.06%\n"
     ]
    },
    {
     "name": "stdout",
     "output_type": "stream",
     "text": [
      "Epoch 47/100 - Train Loss: 0.1175, Train Acc: 96.50% | Test Loss: 0.0615, Test Acc: 98.06%\n"
     ]
    },
    {
     "name": "stderr",
     "output_type": "stream",
     "text": [
      "2025-03-19 15:48:37,671 - INFO - Epoch 48/100 - Train Loss: 0.1157, Train Acc: 96.52% | Test Loss: 0.0639, Test Acc: 97.90%\n"
     ]
    },
    {
     "name": "stdout",
     "output_type": "stream",
     "text": [
      "Epoch 48/100 - Train Loss: 0.1157, Train Acc: 96.52% | Test Loss: 0.0639, Test Acc: 97.90%\n"
     ]
    },
    {
     "name": "stderr",
     "output_type": "stream",
     "text": [
      "2025-03-19 15:48:46,600 - INFO - Epoch 49/100 - Train Loss: 0.1161, Train Acc: 96.51% | Test Loss: 0.0640, Test Acc: 97.93%\n"
     ]
    },
    {
     "name": "stdout",
     "output_type": "stream",
     "text": [
      "Epoch 49/100 - Train Loss: 0.1161, Train Acc: 96.51% | Test Loss: 0.0640, Test Acc: 97.93%\n"
     ]
    },
    {
     "name": "stderr",
     "output_type": "stream",
     "text": [
      "2025-03-19 15:48:55,525 - INFO - Epoch 50/100 - Train Loss: 0.1148, Train Acc: 96.56% | Test Loss: 0.0584, Test Acc: 98.16%\n"
     ]
    },
    {
     "name": "stdout",
     "output_type": "stream",
     "text": [
      "Epoch 50/100 - Train Loss: 0.1148, Train Acc: 96.56% | Test Loss: 0.0584, Test Acc: 98.16%\n"
     ]
    },
    {
     "name": "stderr",
     "output_type": "stream",
     "text": [
      "2025-03-19 15:49:04,843 - INFO - Epoch 51/100 - Train Loss: 0.1136, Train Acc: 96.55% | Test Loss: 0.0575, Test Acc: 98.14%\n"
     ]
    },
    {
     "name": "stdout",
     "output_type": "stream",
     "text": [
      "Epoch 51/100 - Train Loss: 0.1136, Train Acc: 96.55% | Test Loss: 0.0575, Test Acc: 98.14%\n"
     ]
    },
    {
     "name": "stderr",
     "output_type": "stream",
     "text": [
      "2025-03-19 15:49:14,338 - INFO - Epoch 52/100 - Train Loss: 0.1165, Train Acc: 96.41% | Test Loss: 0.0634, Test Acc: 97.84%\n"
     ]
    },
    {
     "name": "stdout",
     "output_type": "stream",
     "text": [
      "Epoch 52/100 - Train Loss: 0.1165, Train Acc: 96.41% | Test Loss: 0.0634, Test Acc: 97.84%\n"
     ]
    },
    {
     "name": "stderr",
     "output_type": "stream",
     "text": [
      "2025-03-19 15:49:22,909 - INFO - Epoch 53/100 - Train Loss: 0.1130, Train Acc: 96.54% | Test Loss: 0.0595, Test Acc: 98.12%\n"
     ]
    },
    {
     "name": "stdout",
     "output_type": "stream",
     "text": [
      "Epoch 53/100 - Train Loss: 0.1130, Train Acc: 96.54% | Test Loss: 0.0595, Test Acc: 98.12%\n"
     ]
    },
    {
     "name": "stderr",
     "output_type": "stream",
     "text": [
      "2025-03-19 15:49:31,226 - INFO - Epoch 54/100 - Train Loss: 0.1128, Train Acc: 96.63% | Test Loss: 0.0541, Test Acc: 98.20%\n"
     ]
    },
    {
     "name": "stdout",
     "output_type": "stream",
     "text": [
      "Epoch 54/100 - Train Loss: 0.1128, Train Acc: 96.63% | Test Loss: 0.0541, Test Acc: 98.20%\n"
     ]
    },
    {
     "name": "stderr",
     "output_type": "stream",
     "text": [
      "2025-03-19 15:49:39,921 - INFO - Epoch 55/100 - Train Loss: 0.1153, Train Acc: 96.47% | Test Loss: 0.0616, Test Acc: 98.05%\n"
     ]
    },
    {
     "name": "stdout",
     "output_type": "stream",
     "text": [
      "Epoch 55/100 - Train Loss: 0.1153, Train Acc: 96.47% | Test Loss: 0.0616, Test Acc: 98.05%\n"
     ]
    },
    {
     "name": "stderr",
     "output_type": "stream",
     "text": [
      "2025-03-19 15:49:48,218 - INFO - Epoch 56/100 - Train Loss: 0.1121, Train Acc: 96.57% | Test Loss: 0.0590, Test Acc: 98.07%\n"
     ]
    },
    {
     "name": "stdout",
     "output_type": "stream",
     "text": [
      "Epoch 56/100 - Train Loss: 0.1121, Train Acc: 96.57% | Test Loss: 0.0590, Test Acc: 98.07%\n"
     ]
    },
    {
     "name": "stderr",
     "output_type": "stream",
     "text": [
      "2025-03-19 15:49:57,004 - INFO - Epoch 57/100 - Train Loss: 0.1117, Train Acc: 96.67% | Test Loss: 0.0589, Test Acc: 98.15%\n"
     ]
    },
    {
     "name": "stdout",
     "output_type": "stream",
     "text": [
      "Epoch 57/100 - Train Loss: 0.1117, Train Acc: 96.67% | Test Loss: 0.0589, Test Acc: 98.15%\n"
     ]
    },
    {
     "name": "stderr",
     "output_type": "stream",
     "text": [
      "2025-03-19 15:50:05,374 - INFO - Epoch 58/100 - Train Loss: 0.1109, Train Acc: 96.58% | Test Loss: 0.0563, Test Acc: 98.13%\n"
     ]
    },
    {
     "name": "stdout",
     "output_type": "stream",
     "text": [
      "Epoch 58/100 - Train Loss: 0.1109, Train Acc: 96.58% | Test Loss: 0.0563, Test Acc: 98.13%\n"
     ]
    },
    {
     "name": "stderr",
     "output_type": "stream",
     "text": [
      "2025-03-19 15:50:13,811 - INFO - Epoch 59/100 - Train Loss: 0.1136, Train Acc: 96.59% | Test Loss: 0.0627, Test Acc: 97.98%\n"
     ]
    },
    {
     "name": "stdout",
     "output_type": "stream",
     "text": [
      "Epoch 59/100 - Train Loss: 0.1136, Train Acc: 96.59% | Test Loss: 0.0627, Test Acc: 97.98%\n"
     ]
    },
    {
     "name": "stderr",
     "output_type": "stream",
     "text": [
      "2025-03-19 15:50:23,432 - INFO - Epoch 60/100 - Train Loss: 0.1138, Train Acc: 96.64% | Test Loss: 0.0572, Test Acc: 98.15%\n"
     ]
    },
    {
     "name": "stdout",
     "output_type": "stream",
     "text": [
      "Epoch 60/100 - Train Loss: 0.1138, Train Acc: 96.64% | Test Loss: 0.0572, Test Acc: 98.15%\n"
     ]
    },
    {
     "name": "stderr",
     "output_type": "stream",
     "text": [
      "2025-03-19 15:50:32,112 - INFO - Epoch 61/100 - Train Loss: 0.1102, Train Acc: 96.69% | Test Loss: 0.0566, Test Acc: 98.27%\n"
     ]
    },
    {
     "name": "stdout",
     "output_type": "stream",
     "text": [
      "Epoch 61/100 - Train Loss: 0.1102, Train Acc: 96.69% | Test Loss: 0.0566, Test Acc: 98.27%\n"
     ]
    },
    {
     "name": "stderr",
     "output_type": "stream",
     "text": [
      "2025-03-19 15:50:41,954 - INFO - Epoch 62/100 - Train Loss: 0.1125, Train Acc: 96.62% | Test Loss: 0.0589, Test Acc: 98.04%\n"
     ]
    },
    {
     "name": "stdout",
     "output_type": "stream",
     "text": [
      "Epoch 62/100 - Train Loss: 0.1125, Train Acc: 96.62% | Test Loss: 0.0589, Test Acc: 98.04%\n"
     ]
    },
    {
     "name": "stderr",
     "output_type": "stream",
     "text": [
      "2025-03-19 15:50:50,856 - INFO - Epoch 63/100 - Train Loss: 0.1094, Train Acc: 96.64% | Test Loss: 0.0612, Test Acc: 98.02%\n"
     ]
    },
    {
     "name": "stdout",
     "output_type": "stream",
     "text": [
      "Epoch 63/100 - Train Loss: 0.1094, Train Acc: 96.64% | Test Loss: 0.0612, Test Acc: 98.02%\n"
     ]
    },
    {
     "name": "stderr",
     "output_type": "stream",
     "text": [
      "2025-03-19 15:50:59,000 - INFO - Epoch 64/100 - Train Loss: 0.1094, Train Acc: 96.71% | Test Loss: 0.0579, Test Acc: 98.07%\n"
     ]
    },
    {
     "name": "stdout",
     "output_type": "stream",
     "text": [
      "Epoch 64/100 - Train Loss: 0.1094, Train Acc: 96.71% | Test Loss: 0.0579, Test Acc: 98.07%\n"
     ]
    },
    {
     "name": "stderr",
     "output_type": "stream",
     "text": [
      "2025-03-19 15:51:07,294 - INFO - Epoch 65/100 - Train Loss: 0.1071, Train Acc: 96.77% | Test Loss: 0.0533, Test Acc: 98.24%\n"
     ]
    },
    {
     "name": "stdout",
     "output_type": "stream",
     "text": [
      "Epoch 65/100 - Train Loss: 0.1071, Train Acc: 96.77% | Test Loss: 0.0533, Test Acc: 98.24%\n"
     ]
    },
    {
     "name": "stderr",
     "output_type": "stream",
     "text": [
      "2025-03-19 15:51:16,109 - INFO - Epoch 66/100 - Train Loss: 0.1108, Train Acc: 96.72% | Test Loss: 0.0554, Test Acc: 98.33%\n"
     ]
    },
    {
     "name": "stdout",
     "output_type": "stream",
     "text": [
      "Epoch 66/100 - Train Loss: 0.1108, Train Acc: 96.72% | Test Loss: 0.0554, Test Acc: 98.33%\n"
     ]
    },
    {
     "name": "stderr",
     "output_type": "stream",
     "text": [
      "2025-03-19 15:51:24,518 - INFO - Epoch 67/100 - Train Loss: 0.1093, Train Acc: 96.69% | Test Loss: 0.0528, Test Acc: 98.49%\n"
     ]
    },
    {
     "name": "stdout",
     "output_type": "stream",
     "text": [
      "Epoch 67/100 - Train Loss: 0.1093, Train Acc: 96.69% | Test Loss: 0.0528, Test Acc: 98.49%\n"
     ]
    },
    {
     "name": "stderr",
     "output_type": "stream",
     "text": [
      "2025-03-19 15:51:34,626 - INFO - Epoch 68/100 - Train Loss: 0.1085, Train Acc: 96.77% | Test Loss: 0.0553, Test Acc: 98.19%\n"
     ]
    },
    {
     "name": "stdout",
     "output_type": "stream",
     "text": [
      "Epoch 68/100 - Train Loss: 0.1085, Train Acc: 96.77% | Test Loss: 0.0553, Test Acc: 98.19%\n"
     ]
    },
    {
     "name": "stderr",
     "output_type": "stream",
     "text": [
      "2025-03-19 15:51:43,451 - INFO - Epoch 69/100 - Train Loss: 0.1108, Train Acc: 96.68% | Test Loss: 0.0597, Test Acc: 98.07%\n"
     ]
    },
    {
     "name": "stdout",
     "output_type": "stream",
     "text": [
      "Epoch 69/100 - Train Loss: 0.1108, Train Acc: 96.68% | Test Loss: 0.0597, Test Acc: 98.07%\n"
     ]
    },
    {
     "name": "stderr",
     "output_type": "stream",
     "text": [
      "2025-03-19 15:51:52,146 - INFO - Epoch 70/100 - Train Loss: 0.1082, Train Acc: 96.69% | Test Loss: 0.0580, Test Acc: 98.09%\n"
     ]
    },
    {
     "name": "stdout",
     "output_type": "stream",
     "text": [
      "Epoch 70/100 - Train Loss: 0.1082, Train Acc: 96.69% | Test Loss: 0.0580, Test Acc: 98.09%\n"
     ]
    },
    {
     "name": "stderr",
     "output_type": "stream",
     "text": [
      "2025-03-19 15:52:00,559 - INFO - Epoch 71/100 - Train Loss: 0.1091, Train Acc: 96.76% | Test Loss: 0.0647, Test Acc: 97.86%\n"
     ]
    },
    {
     "name": "stdout",
     "output_type": "stream",
     "text": [
      "Epoch 71/100 - Train Loss: 0.1091, Train Acc: 96.76% | Test Loss: 0.0647, Test Acc: 97.86%\n"
     ]
    },
    {
     "name": "stderr",
     "output_type": "stream",
     "text": [
      "2025-03-19 15:52:09,567 - INFO - Epoch 72/100 - Train Loss: 0.1109, Train Acc: 96.69% | Test Loss: 0.0545, Test Acc: 98.20%\n"
     ]
    },
    {
     "name": "stdout",
     "output_type": "stream",
     "text": [
      "Epoch 72/100 - Train Loss: 0.1109, Train Acc: 96.69% | Test Loss: 0.0545, Test Acc: 98.20%\n"
     ]
    },
    {
     "name": "stderr",
     "output_type": "stream",
     "text": [
      "2025-03-19 15:52:19,389 - INFO - Epoch 73/100 - Train Loss: 0.1069, Train Acc: 96.81% | Test Loss: 0.0586, Test Acc: 98.17%\n"
     ]
    },
    {
     "name": "stdout",
     "output_type": "stream",
     "text": [
      "Epoch 73/100 - Train Loss: 0.1069, Train Acc: 96.81% | Test Loss: 0.0586, Test Acc: 98.17%\n"
     ]
    },
    {
     "name": "stderr",
     "output_type": "stream",
     "text": [
      "2025-03-19 15:52:29,058 - INFO - Epoch 74/100 - Train Loss: 0.1063, Train Acc: 96.85% | Test Loss: 0.0527, Test Acc: 98.36%\n"
     ]
    },
    {
     "name": "stdout",
     "output_type": "stream",
     "text": [
      "Epoch 74/100 - Train Loss: 0.1063, Train Acc: 96.85% | Test Loss: 0.0527, Test Acc: 98.36%\n"
     ]
    },
    {
     "name": "stderr",
     "output_type": "stream",
     "text": [
      "2025-03-19 15:52:38,056 - INFO - Epoch 75/100 - Train Loss: 0.1101, Train Acc: 96.75% | Test Loss: 0.0635, Test Acc: 97.80%\n"
     ]
    },
    {
     "name": "stdout",
     "output_type": "stream",
     "text": [
      "Epoch 75/100 - Train Loss: 0.1101, Train Acc: 96.75% | Test Loss: 0.0635, Test Acc: 97.80%\n"
     ]
    },
    {
     "name": "stderr",
     "output_type": "stream",
     "text": [
      "2025-03-19 15:52:47,905 - INFO - Epoch 76/100 - Train Loss: 0.1069, Train Acc: 96.83% | Test Loss: 0.0540, Test Acc: 98.20%\n"
     ]
    },
    {
     "name": "stdout",
     "output_type": "stream",
     "text": [
      "Epoch 76/100 - Train Loss: 0.1069, Train Acc: 96.83% | Test Loss: 0.0540, Test Acc: 98.20%\n"
     ]
    },
    {
     "name": "stderr",
     "output_type": "stream",
     "text": [
      "2025-03-19 15:52:56,683 - INFO - Epoch 77/100 - Train Loss: 0.1090, Train Acc: 96.70% | Test Loss: 0.0541, Test Acc: 98.24%\n"
     ]
    },
    {
     "name": "stdout",
     "output_type": "stream",
     "text": [
      "Epoch 77/100 - Train Loss: 0.1090, Train Acc: 96.70% | Test Loss: 0.0541, Test Acc: 98.24%\n"
     ]
    },
    {
     "name": "stderr",
     "output_type": "stream",
     "text": [
      "2025-03-19 15:53:05,450 - INFO - Epoch 78/100 - Train Loss: 0.1065, Train Acc: 96.84% | Test Loss: 0.0549, Test Acc: 98.19%\n"
     ]
    },
    {
     "name": "stdout",
     "output_type": "stream",
     "text": [
      "Epoch 78/100 - Train Loss: 0.1065, Train Acc: 96.84% | Test Loss: 0.0549, Test Acc: 98.19%\n"
     ]
    },
    {
     "name": "stderr",
     "output_type": "stream",
     "text": [
      "2025-03-19 15:53:14,662 - INFO - Epoch 79/100 - Train Loss: 0.1066, Train Acc: 96.85% | Test Loss: 0.0553, Test Acc: 98.38%\n"
     ]
    },
    {
     "name": "stdout",
     "output_type": "stream",
     "text": [
      "Epoch 79/100 - Train Loss: 0.1066, Train Acc: 96.85% | Test Loss: 0.0553, Test Acc: 98.38%\n"
     ]
    },
    {
     "name": "stderr",
     "output_type": "stream",
     "text": [
      "2025-03-19 15:53:24,018 - INFO - Epoch 80/100 - Train Loss: 0.1040, Train Acc: 96.94% | Test Loss: 0.0580, Test Acc: 98.33%\n"
     ]
    },
    {
     "name": "stdout",
     "output_type": "stream",
     "text": [
      "Epoch 80/100 - Train Loss: 0.1040, Train Acc: 96.94% | Test Loss: 0.0580, Test Acc: 98.33%\n"
     ]
    },
    {
     "name": "stderr",
     "output_type": "stream",
     "text": [
      "2025-03-19 15:53:33,133 - INFO - Epoch 81/100 - Train Loss: 0.1027, Train Acc: 96.98% | Test Loss: 0.0564, Test Acc: 98.21%\n"
     ]
    },
    {
     "name": "stdout",
     "output_type": "stream",
     "text": [
      "Epoch 81/100 - Train Loss: 0.1027, Train Acc: 96.98% | Test Loss: 0.0564, Test Acc: 98.21%\n"
     ]
    },
    {
     "name": "stderr",
     "output_type": "stream",
     "text": [
      "2025-03-19 15:53:41,781 - INFO - Epoch 82/100 - Train Loss: 0.1073, Train Acc: 96.79% | Test Loss: 0.0527, Test Acc: 98.28%\n"
     ]
    },
    {
     "name": "stdout",
     "output_type": "stream",
     "text": [
      "Epoch 82/100 - Train Loss: 0.1073, Train Acc: 96.79% | Test Loss: 0.0527, Test Acc: 98.28%\n"
     ]
    },
    {
     "name": "stderr",
     "output_type": "stream",
     "text": [
      "2025-03-19 15:53:50,810 - INFO - Epoch 83/100 - Train Loss: 0.1008, Train Acc: 96.97% | Test Loss: 0.0574, Test Acc: 98.35%\n"
     ]
    },
    {
     "name": "stdout",
     "output_type": "stream",
     "text": [
      "Epoch 83/100 - Train Loss: 0.1008, Train Acc: 96.97% | Test Loss: 0.0574, Test Acc: 98.35%\n"
     ]
    },
    {
     "name": "stderr",
     "output_type": "stream",
     "text": [
      "2025-03-19 15:53:59,674 - INFO - Epoch 84/100 - Train Loss: 0.1067, Train Acc: 96.83% | Test Loss: 0.0545, Test Acc: 98.40%\n"
     ]
    },
    {
     "name": "stdout",
     "output_type": "stream",
     "text": [
      "Epoch 84/100 - Train Loss: 0.1067, Train Acc: 96.83% | Test Loss: 0.0545, Test Acc: 98.40%\n"
     ]
    },
    {
     "name": "stderr",
     "output_type": "stream",
     "text": [
      "2025-03-19 15:54:09,140 - INFO - Epoch 85/100 - Train Loss: 0.1058, Train Acc: 96.90% | Test Loss: 0.0580, Test Acc: 98.30%\n"
     ]
    },
    {
     "name": "stdout",
     "output_type": "stream",
     "text": [
      "Epoch 85/100 - Train Loss: 0.1058, Train Acc: 96.90% | Test Loss: 0.0580, Test Acc: 98.30%\n"
     ]
    },
    {
     "name": "stderr",
     "output_type": "stream",
     "text": [
      "2025-03-19 15:54:18,159 - INFO - Epoch 86/100 - Train Loss: 0.1024, Train Acc: 96.99% | Test Loss: 0.0563, Test Acc: 98.27%\n"
     ]
    },
    {
     "name": "stdout",
     "output_type": "stream",
     "text": [
      "Epoch 86/100 - Train Loss: 0.1024, Train Acc: 96.99% | Test Loss: 0.0563, Test Acc: 98.27%\n"
     ]
    },
    {
     "name": "stderr",
     "output_type": "stream",
     "text": [
      "2025-03-19 15:54:27,514 - INFO - Epoch 87/100 - Train Loss: 0.1073, Train Acc: 96.75% | Test Loss: 0.0503, Test Acc: 98.35%\n"
     ]
    },
    {
     "name": "stdout",
     "output_type": "stream",
     "text": [
      "Epoch 87/100 - Train Loss: 0.1073, Train Acc: 96.75% | Test Loss: 0.0503, Test Acc: 98.35%\n"
     ]
    },
    {
     "name": "stderr",
     "output_type": "stream",
     "text": [
      "2025-03-19 15:54:36,399 - INFO - Epoch 88/100 - Train Loss: 0.1000, Train Acc: 96.97% | Test Loss: 0.0599, Test Acc: 98.07%\n"
     ]
    },
    {
     "name": "stdout",
     "output_type": "stream",
     "text": [
      "Epoch 88/100 - Train Loss: 0.1000, Train Acc: 96.97% | Test Loss: 0.0599, Test Acc: 98.07%\n"
     ]
    },
    {
     "name": "stderr",
     "output_type": "stream",
     "text": [
      "2025-03-19 15:54:45,630 - INFO - Epoch 89/100 - Train Loss: 0.1043, Train Acc: 96.91% | Test Loss: 0.0512, Test Acc: 98.50%\n"
     ]
    },
    {
     "name": "stdout",
     "output_type": "stream",
     "text": [
      "Epoch 89/100 - Train Loss: 0.1043, Train Acc: 96.91% | Test Loss: 0.0512, Test Acc: 98.50%\n"
     ]
    },
    {
     "name": "stderr",
     "output_type": "stream",
     "text": [
      "2025-03-19 15:54:55,053 - INFO - Epoch 90/100 - Train Loss: 0.1024, Train Acc: 96.94% | Test Loss: 0.0545, Test Acc: 98.16%\n"
     ]
    },
    {
     "name": "stdout",
     "output_type": "stream",
     "text": [
      "Epoch 90/100 - Train Loss: 0.1024, Train Acc: 96.94% | Test Loss: 0.0545, Test Acc: 98.16%\n"
     ]
    },
    {
     "name": "stderr",
     "output_type": "stream",
     "text": [
      "2025-03-19 15:55:04,055 - INFO - Epoch 91/100 - Train Loss: 0.1068, Train Acc: 96.84% | Test Loss: 0.0575, Test Acc: 98.25%\n"
     ]
    },
    {
     "name": "stdout",
     "output_type": "stream",
     "text": [
      "Epoch 91/100 - Train Loss: 0.1068, Train Acc: 96.84% | Test Loss: 0.0575, Test Acc: 98.25%\n"
     ]
    },
    {
     "name": "stderr",
     "output_type": "stream",
     "text": [
      "2025-03-19 15:55:13,065 - INFO - Epoch 92/100 - Train Loss: 0.0997, Train Acc: 96.95% | Test Loss: 0.0535, Test Acc: 98.34%\n"
     ]
    },
    {
     "name": "stdout",
     "output_type": "stream",
     "text": [
      "Epoch 92/100 - Train Loss: 0.0997, Train Acc: 96.95% | Test Loss: 0.0535, Test Acc: 98.34%\n"
     ]
    },
    {
     "name": "stderr",
     "output_type": "stream",
     "text": [
      "2025-03-19 15:55:21,594 - INFO - Epoch 93/100 - Train Loss: 0.1004, Train Acc: 96.86% | Test Loss: 0.0473, Test Acc: 98.59%\n"
     ]
    },
    {
     "name": "stdout",
     "output_type": "stream",
     "text": [
      "Epoch 93/100 - Train Loss: 0.1004, Train Acc: 96.86% | Test Loss: 0.0473, Test Acc: 98.59%\n"
     ]
    },
    {
     "name": "stderr",
     "output_type": "stream",
     "text": [
      "2025-03-19 15:55:30,153 - INFO - Epoch 94/100 - Train Loss: 0.1026, Train Acc: 96.96% | Test Loss: 0.0522, Test Acc: 98.26%\n"
     ]
    },
    {
     "name": "stdout",
     "output_type": "stream",
     "text": [
      "Epoch 94/100 - Train Loss: 0.1026, Train Acc: 96.96% | Test Loss: 0.0522, Test Acc: 98.26%\n"
     ]
    },
    {
     "name": "stderr",
     "output_type": "stream",
     "text": [
      "2025-03-19 15:55:38,772 - INFO - Epoch 95/100 - Train Loss: 0.1004, Train Acc: 97.02% | Test Loss: 0.0502, Test Acc: 98.34%\n"
     ]
    },
    {
     "name": "stdout",
     "output_type": "stream",
     "text": [
      "Epoch 95/100 - Train Loss: 0.1004, Train Acc: 97.02% | Test Loss: 0.0502, Test Acc: 98.34%\n"
     ]
    },
    {
     "name": "stderr",
     "output_type": "stream",
     "text": [
      "2025-03-19 15:55:47,365 - INFO - Epoch 96/100 - Train Loss: 0.1004, Train Acc: 96.93% | Test Loss: 0.0532, Test Acc: 98.21%\n"
     ]
    },
    {
     "name": "stdout",
     "output_type": "stream",
     "text": [
      "Epoch 96/100 - Train Loss: 0.1004, Train Acc: 96.93% | Test Loss: 0.0532, Test Acc: 98.21%\n"
     ]
    },
    {
     "name": "stderr",
     "output_type": "stream",
     "text": [
      "2025-03-19 15:55:56,049 - INFO - Epoch 97/100 - Train Loss: 0.1033, Train Acc: 96.96% | Test Loss: 0.0528, Test Acc: 98.40%\n"
     ]
    },
    {
     "name": "stdout",
     "output_type": "stream",
     "text": [
      "Epoch 97/100 - Train Loss: 0.1033, Train Acc: 96.96% | Test Loss: 0.0528, Test Acc: 98.40%\n"
     ]
    },
    {
     "name": "stderr",
     "output_type": "stream",
     "text": [
      "2025-03-19 15:56:04,806 - INFO - Epoch 98/100 - Train Loss: 0.1009, Train Acc: 96.97% | Test Loss: 0.0518, Test Acc: 98.40%\n"
     ]
    },
    {
     "name": "stdout",
     "output_type": "stream",
     "text": [
      "Epoch 98/100 - Train Loss: 0.1009, Train Acc: 96.97% | Test Loss: 0.0518, Test Acc: 98.40%\n"
     ]
    },
    {
     "name": "stderr",
     "output_type": "stream",
     "text": [
      "2025-03-19 15:56:13,497 - INFO - Epoch 99/100 - Train Loss: 0.0990, Train Acc: 97.02% | Test Loss: 0.0508, Test Acc: 98.33%\n"
     ]
    },
    {
     "name": "stdout",
     "output_type": "stream",
     "text": [
      "Epoch 99/100 - Train Loss: 0.0990, Train Acc: 97.02% | Test Loss: 0.0508, Test Acc: 98.33%\n"
     ]
    },
    {
     "name": "stderr",
     "output_type": "stream",
     "text": [
      "2025-03-19 15:56:23,345 - INFO - Epoch 100/100 - Train Loss: 0.0986, Train Acc: 97.12% | Test Loss: 0.0478, Test Acc: 98.25%\n"
     ]
    },
    {
     "name": "stdout",
     "output_type": "stream",
     "text": [
      "Epoch 100/100 - Train Loss: 0.0986, Train Acc: 97.12% | Test Loss: 0.0478, Test Acc: 98.25%\n"
     ]
    }
   ],
   "source": [
    "# ================ Helper Functions ================\n",
    "def evaluate(model, data_loader, criterion, device):\n",
    "    \"\"\"\n",
    "    Evaluate the model on a given loader; returns the average loss and accuracy (%).\n",
    "    \"\"\"\n",
    "    model.eval()\n",
    "    total_loss, correct, total = 0.0, 0, 0\n",
    "    with torch.no_grad():\n",
    "        for images, labels in data_loader:\n",
    "            images, labels = images.to(device), labels.to(device)\n",
    "            # Flatten from [batch, channels, H, W] -> [batch, 28*28]\n",
    "            images = images.view(images.shape[0], -1)\n",
    "\n",
    "            outputs = model(images)\n",
    "            loss = criterion(outputs, labels)\n",
    "            total_loss += loss.item()\n",
    "\n",
    "            _, predicted = torch.max(outputs, 1)\n",
    "            correct += (predicted == labels).sum().item()\n",
    "            total += labels.size(0)\n",
    "\n",
    "    avg_loss = total_loss / len(data_loader)\n",
    "    accuracy = (correct / total) * 100.0\n",
    "    return avg_loss, accuracy\n",
    "    \n",
    "\n",
    "def run_weightwatcher(model, epoch, results_df, model_tag=\"no_drop\"):\n",
    "    \"\"\"\n",
    "    Run WeightWatcher on the current model. Append results to a DataFrame.\n",
    "    \"\"\"\n",
    "    watcher = ww.WeightWatcher()\n",
    "    details = watcher.analyze(model=model, plot=False)\n",
    "    details[\"epoch\"] = epoch\n",
    "    details[\"model_tag\"] = model_tag  # label it if needed\n",
    "    return pd.concat([results_df, details], ignore_index=True)\n",
    "\n",
    "# ================ Training Setup ================\n",
    "best_test_acc = 0\n",
    "\n",
    "train_losses = []\n",
    "train_accuracies = []\n",
    "test_losses = []\n",
    "test_accuracies = []\n",
    "\n",
    "# Single WeightWatcher DataFrame\n",
    "ww_results = pd.DataFrame()\n",
    "\n",
    "# ================ Main Training Loop ================\n",
    "for epoch in range(num_epochs):\n",
    "    model.train()\n",
    "    total_loss, correct, total = 0.0, 0, 0\n",
    "\n",
    "    for images, labels in train_loader:\n",
    "        images, labels = images.to(device), labels.to(device)\n",
    "        images = images.view(images.shape[0], -1)\n",
    "\n",
    "        optimizer.zero_grad()\n",
    "        outputs = model(images)\n",
    "        loss = criterion(outputs, labels)\n",
    "        loss.backward()\n",
    "        torch.nn.utils.clip_grad_norm_(model.parameters(), max_norm=1.0)\n",
    "        optimizer.step()\n",
    "\n",
    "        total_loss += loss.item()\n",
    "        _, predicted = torch.max(outputs, 1)\n",
    "        correct += (predicted == labels).sum().item()\n",
    "        total += labels.size(0)\n",
    "\n",
    "    # Training metrics\n",
    "    train_loss = total_loss / len(train_loader)\n",
    "    train_acc = (correct / total) * 100.0\n",
    "    train_losses.append(train_loss)\n",
    "    train_accuracies.append(train_acc)\n",
    "\n",
    "    # Evaluate on test set\n",
    "    test_loss, test_acc = evaluate(model, test_loader, criterion, device)\n",
    "    test_losses.append(test_loss)\n",
    "    test_accuracies.append(test_acc)\n",
    "\n",
    "    scheduler.step()\n",
    "\n",
    "    # Save best model\n",
    "    if test_acc > best_test_acc:\n",
    "        best_test_acc = test_acc\n",
    "        os.makedirs(\"checkpoints\", exist_ok=True)\n",
    "        torch.save(model.state_dict(), f\"checkpoints/mlp3_best.pth\")\n",
    "\n",
    "    # ========== Run WeightWatcher once (no dropout modifications) ==========\n",
    "    ww_results = run_weightwatcher(model, epoch, ww_results, model_tag=\"original\")\n",
    "\n",
    "    # Logging\n",
    "    log_msg = (f\"Epoch {epoch+1}/{num_epochs} - \"\n",
    "               f\"Train Loss: {train_loss:.4f}, Train Acc: {train_acc:.2f}% | \"\n",
    "               f\"Test Loss: {test_loss:.4f}, Test Acc: {test_acc:.2f}%\")\n",
    "    print(log_msg)\n",
    "    logging.info(log_msg)\n",
    "\n",
    "# ================ Save Results ================\n",
    "ww_results.to_csv(f\"ww_{experiment}_results.csv\", index=False)\n",
    "\n",
    "pd.DataFrame({\n",
    "    \"train_loss\": train_losses,\n",
    "    \"test_loss\": test_losses,\n",
    "    \"train_acc\": train_accuracies,\n",
    "    \"test_acc\": test_accuracies\n",
    "}).to_csv(f\"{experiment}_results.csv\", index=False)"
   ]
  },
  {
   "cell_type": "markdown",
   "id": "741f934c-2b29-452e-abea-d138024a1d75",
   "metadata": {},
   "source": [
    "## Plot Training and Test Accuracies per Epoch"
   ]
  },
  {
   "cell_type": "code",
   "execution_count": 25,
   "id": "8c333c66-58a2-4427-9aeb-1af02d86eaa1",
   "metadata": {},
   "outputs": [
    {
     "data": {
      "image/png": "[encoded data removed]",
      "text/plain": [
       "<Figure size 800x500 with 1 Axes>"
      ]
     },
     "metadata": {},
     "output_type": "display_data"
    },
    {
     "data": {
      "image/png": "[encoded data removed]",
      "text/plain": [
       "<Figure size 800x500 with 1 Axes>"
      ]
     },
     "metadata": {},
     "output_type": "display_data"
    }
   ],
   "source": [
    "import pandas as pd\n",
    "import matplotlib.pyplot as plt\n",
    "\n",
    "# Load training results from CSV\n",
    "data = pd.read_csv(f\"{experiment}_results.csv\")\n",
    "\n",
    "# Extract values\n",
    "epochs = range(1, len(data) + 1)  # Epoch numbers\n",
    "train_loss = data[\"train_loss\"]\n",
    "test_loss = data[\"test_loss\"]\n",
    "train_acc = data[\"train_acc\"]\n",
    "test_acc = data[\"test_acc\"]\n",
    "\n",
    "# Create figure for accuracy\n",
    "plt.figure(figsize=(8, 5))\n",
    "plt.plot(epochs, train_acc, '-b', label=\"Train Accuracy\", linewidth=2)\n",
    "plt.plot(epochs, test_acc, '-r', label=\"Test Accuracy\", linewidth=2)\n",
    "plt.xlabel(\"Epoch\")\n",
    "plt.ylabel(\"Accuracy (%)\")\n",
    "plt.title(f\"{experiment}: Training and Test Accuracy\")\n",
    "plt.legend()\n",
    "plt.grid(True)\n",
    "plt.savefig(\"accuracy_plot.png\")  # Save plot\n",
    "plt.show()\n",
    "\n",
    "# Create figure for loss\n",
    "plt.figure(figsize=(8, 5))\n",
    "plt.plot(epochs, train_loss, '-b', label=\"Train Loss\", linewidth=2)\n",
    "plt.plot(epochs, test_loss, '-r', label=\"Test Loss\", linewidth=2)\n",
    "plt.xlabel(\"Epoch\")\n",
    "plt.ylabel(\"Loss\")\n",
    "plt.title(f\"{experiment}: Training and Test Loss\")\n",
    "plt.legend()\n",
    "plt.grid(True)\n",
    "plt.savefig(\"loss_plot.png\")  # Save plot\n",
    "plt.show()"
   ]
  },
  {
   "cell_type": "code",
   "execution_count": 22,
   "id": "34ea75e0-e12a-4243-a10a-99daa7e42809",
   "metadata": {},
   "outputs": [],
   "source": [
    "## Plot Layer Alphas per Epoch\n"
   ]
  },
  {
   "cell_type": "code",
   "execution_count": 20,
   "id": "0a1d2fe2-c661-4eb6-aa67-007465e8b936",
   "metadata": {},
   "outputs": [
    {
     "name": "stdout",
     "output_type": "stream",
     "text": [
      "Available layers in CSV (longname): ['fc1' 'fc2' 'fc3']\n",
      "Filtered layers: ['fc1' 'fc2' 'fc3']\n"
     ]
    },
    {
     "data": {
      "image/png": "[encoded data removed]",
      "text/plain": [
       "<Figure size 800x500 with 1 Axes>"
      ]
     },
     "metadata": {},
     "output_type": "display_data"
    }
   ],
   "source": [
    "import pandas as pd\n",
    "import matplotlib.pyplot as plt\n",
    "\n",
    "# Load WeightWatcher results from CSV\n",
    "data = pd.read_csv(f\"ww_{experiment}_results.csv\")\n",
    "\n",
    "# Ensure correct data structure\n",
    "required_columns = {\"epoch\", \"longname\", \"alpha\"}\n",
    "if not required_columns.issubset(data.columns):\n",
    "    raise ValueError(f\"CSV file must contain {required_columns} columns.\")\n",
    "\n",
    "# Convert alpha to numeric and drop invalid values\n",
    "data[\"alpha\"] = pd.to_numeric(data[\"alpha\"], errors=\"coerce\")\n",
    "data = data.dropna(subset=[\"alpha\"])\n",
    "\n",
    "# Print available layer names for debugging\n",
    "print(\"Available layers in CSV (longname):\", data[\"longname\"].unique())\n",
    "\n",
    "# Filter for fc1, fc2, fc3 using longname\n",
    "filtered_data = data[data[\"longname\"].str.contains(r\"fc[123]\", case=False, na=False)]\n",
    "\n",
    "# Print filtered layer names for debugging\n",
    "print(\"Filtered layers:\", filtered_data[\"longname\"].unique())\n",
    "\n",
    "# Aggregate duplicate layer entries per epoch (compute mean α if needed)\n",
    "filtered_data = filtered_data.groupby([\"epoch\", \"longname\"], as_index=False)[\"alpha\"].mean()\n",
    "\n",
    "# Pivot table to get layers as columns, epochs as rows\n",
    "pivot_data = filtered_data.pivot(index=\"epoch\", columns=\"longname\", values=\"alpha\")\n",
    "\n",
    "# Plot only fc1, fc2, fc3 α trends (if they exist)\n",
    "plt.figure(figsize=(8, 5))\n",
    "plotted_layers = []  # Track layers actually plotted\n",
    "\n",
    "for layer in pivot_data.columns:\n",
    "    plt.plot(pivot_data.index, pivot_data[layer], label=layer, linewidth=2)\n",
    "    plotted_layers.append(layer)  # Track plotted layers\n",
    "\n",
    "# Labels and title\n",
    "plt.xlabel(\"Epoch\")\n",
    "plt.ylabel(\"WeightWatcher  α\")\n",
    "plt.title(\"WeightWatcher α Trends for fc1, fc2, fc3\")\n",
    "plt.grid(True)\n",
    "\n",
    "# Only add legend if at least one layer was plotted\n",
    "if plotted_layers:\n",
    "    plt.legend()\n",
    "\n",
    "# Save and show plot\n",
    "plt.savefig(f\"ww_{experiment}_alpha_fc_layers.png\")\n",
    "plt.show()"
   ]
  },
  {
   "cell_type": "markdown",
   "id": "358419c0-2c7c-431a-a330-aca45e79dc85",
   "metadata": {},
   "source": [
    "## Rerun the same experiment, but with WeightWatcher results adjusted for Dropout"
   ]
  },
  {
   "cell_type": "code",
   "execution_count": 36,
   "id": "91c6039f-72d1-4b4a-9819-b0740338f355",
   "metadata": {},
   "outputs": [],
   "source": [
    "import copy\n",
    "import torch\n",
    "import numpy as np\n",
    "\n",
    "def create_dropout_weighted_copy(model):\n",
    "    \"\"\"\n",
    "    THIS IS EXPERIMENTAL\n",
    "    \n",
    "    Creates a deep copy of the given MLP model where the weights of each layer\n",
    "    are randomly zeroed out according to the layer's dropout rate.\n",
    "\n",
    "    Parameters:\n",
    "        model (torch.nn.Module): The original MLP model.\n",
    "\n",
    "    Returns:\n",
    "        torch.nn.Module: A deep copy of the model with modified weights.\n",
    "    \"\"\"\n",
    "    # Create a deep copy of the model\n",
    "    model_copy = copy.deepcopy(model)\n",
    "\n",
    "    # Define a mapping from layer names to dropout rates\n",
    "    dropout_rates = {\n",
    "        \"fc1\": model.dropout1.p if hasattr(model, \"dropout1\") else 0,\n",
    "        \"fc2\": model.dropout2.p if hasattr(model, \"dropout2\") else 0,\n",
    "        \"fc3\": 0  # No dropout in the output layer\n",
    "    }\n",
    "\n",
    "    # Iterate through the model layers and zero out weights according to dropout rate\n",
    "    for name, layer in model_copy.named_modules():\n",
    "        if isinstance(layer, torch.nn.Linear) and name in dropout_rates:\n",
    "            dropout_rate = dropout_rates[name]\n",
    "            if dropout_rate > 0:\n",
    "                # Convert weight tensor to NumPy for easy manipulation\n",
    "                weight_np = layer.weight.detach().cpu().numpy()\n",
    "\n",
    "                # Compute number of elements to drop\n",
    "                num_elements = weight_np.size\n",
    "                num_drop = int(num_elements * dropout_rate)\n",
    "\n",
    "                # Create dropout mask\n",
    "                dropout_mask = np.ones(num_elements, dtype=np.float32)\n",
    "                dropout_indices = np.random.choice(num_elements, num_drop, replace=False)\n",
    "                dropout_mask[dropout_indices] = 0\n",
    "\n",
    "                # Apply dropout mask\n",
    "                weight_np *= dropout_mask.reshape(weight_np.shape)\n",
    "\n",
    "                # Convert back to PyTorch tensor and assign to model copy\n",
    "                layer.weight.data = torch.tensor(weight_np, dtype=layer.weight.dtype, device=layer.weight.device)\n",
    "\n",
    "    return model_copy"
   ]
  },
  {
   "cell_type": "markdown",
   "id": "eb01e2b5-dc10-4424-9daa-19d9a7be24a2",
   "metadata": {},
   "source": []
  },
  {
   "cell_type": "code",
   "execution_count": 39,
   "id": "f94bd0bb-0658-4050-9a67-f44bb1a69240",
   "metadata": {},
   "outputs": [],
   "source": [
    "\n",
    "# ================ Data Augmentation and MNIST Datasets ================\n",
    "transform = transforms.Compose([\n",
    "    transforms.RandomAffine(degrees=10, translate=(0.1, 0.1)),\n",
    "    transforms.ToTensor(),\n",
    "    transforms.Normalize((0.5,), (0.5,))\n",
    "])\n",
    "\n",
    "train_dataset = datasets.MNIST(root='./data', train=True, transform=transform, download=True)\n",
    "test_dataset = datasets.MNIST(root='./data', train=False, transform=transform, download=True)\n",
    "\n",
    "train_loader = DataLoader(train_dataset, batch_size=64, shuffle=True)\n",
    "test_loader = DataLoader(test_dataset, batch_size=64, shuffle=False)\n",
    "\n",
    "\n",
    "# ================ Model, Loss, Optimizer, Scheduler ================\n",
    "\n",
    "num_epochs = 100\n",
    "\n",
    "model = MLP3().to(device)\n",
    "criterion = nn.CrossEntropyLoss()\n",
    "optimizer = optim.AdamW(model.parameters(), lr=0.001, weight_decay=1e-4)\n",
    "scheduler = optim.lr_scheduler.OneCycleLR(optimizer, max_lr=0.01, epochs=num_epochs, steps_per_epoch=len(train_loader))\n",
    "\n",
    "\n",
    "experiment = \"WW-MLP3-AdamW-wDP\"\n"
   ]
  },
  {
   "cell_type": "code",
   "execution_count": 44,
   "id": "abfda59c-d078-453b-94a2-a7c31251402f",
   "metadata": {},
   "outputs": [
    {
     "name": "stderr",
     "output_type": "stream",
     "text": [
      "2025-03-19 16:28:09,409 - INFO - Epoch 1/10 - Train Loss: 0.1680, Train Acc (Dropout ON): 94.77% - Train Acc (Dropout OFF): 96.88% - Test Loss: 0.0937, Test Acc: 97.06%\n"
     ]
    },
    {
     "name": "stdout",
     "output_type": "stream",
     "text": [
      "Epoch 1/10 - Train Loss: 0.1680, Train Acc (Dropout ON): 94.77% - Train Acc (Dropout OFF): 96.88% - Test Loss: 0.0937, Test Acc: 97.06%\n"
     ]
    },
    {
     "name": "stderr",
     "output_type": "stream",
     "text": [
      "2025-03-19 16:28:22,747 - INFO - Epoch 2/10 - Train Loss: 0.1624, Train Acc (Dropout ON): 94.94% - Train Acc (Dropout OFF): 96.92% - Test Loss: 0.0890, Test Acc: 97.24%\n"
     ]
    },
    {
     "name": "stdout",
     "output_type": "stream",
     "text": [
      "Epoch 2/10 - Train Loss: 0.1624, Train Acc (Dropout ON): 94.94% - Train Acc (Dropout OFF): 96.92% - Test Loss: 0.0890, Test Acc: 97.24%\n"
     ]
    },
    {
     "name": "stderr",
     "output_type": "stream",
     "text": [
      "2025-03-19 16:28:35,986 - INFO - Epoch 3/10 - Train Loss: 0.1576, Train Acc (Dropout ON): 95.15% - Train Acc (Dropout OFF): 97.00% - Test Loss: 0.0926, Test Acc: 97.11%\n"
     ]
    },
    {
     "name": "stdout",
     "output_type": "stream",
     "text": [
      "Epoch 3/10 - Train Loss: 0.1576, Train Acc (Dropout ON): 95.15% - Train Acc (Dropout OFF): 97.00% - Test Loss: 0.0926, Test Acc: 97.11%\n"
     ]
    },
    {
     "name": "stderr",
     "output_type": "stream",
     "text": [
      "2025-03-19 16:28:49,174 - INFO - Epoch 4/10 - Train Loss: 0.1586, Train Acc (Dropout ON): 95.11% - Train Acc (Dropout OFF): 97.09% - Test Loss: 0.0906, Test Acc: 97.09%\n"
     ]
    },
    {
     "name": "stdout",
     "output_type": "stream",
     "text": [
      "Epoch 4/10 - Train Loss: 0.1586, Train Acc (Dropout ON): 95.11% - Train Acc (Dropout OFF): 97.09% - Test Loss: 0.0906, Test Acc: 97.09%\n"
     ]
    },
    {
     "name": "stderr",
     "output_type": "stream",
     "text": [
      "2025-03-19 16:29:02,383 - INFO - Epoch 5/10 - Train Loss: 0.1515, Train Acc (Dropout ON): 95.31% - Train Acc (Dropout OFF): 97.15% - Test Loss: 0.0894, Test Acc: 97.26%\n"
     ]
    },
    {
     "name": "stdout",
     "output_type": "stream",
     "text": [
      "Epoch 5/10 - Train Loss: 0.1515, Train Acc (Dropout ON): 95.31% - Train Acc (Dropout OFF): 97.15% - Test Loss: 0.0894, Test Acc: 97.26%\n"
     ]
    },
    {
     "name": "stderr",
     "output_type": "stream",
     "text": [
      "2025-03-19 16:29:15,849 - INFO - Epoch 6/10 - Train Loss: 0.1512, Train Acc (Dropout ON): 95.27% - Train Acc (Dropout OFF): 97.30% - Test Loss: 0.0860, Test Acc: 97.46%\n"
     ]
    },
    {
     "name": "stdout",
     "output_type": "stream",
     "text": [
      "Epoch 6/10 - Train Loss: 0.1512, Train Acc (Dropout ON): 95.27% - Train Acc (Dropout OFF): 97.30% - Test Loss: 0.0860, Test Acc: 97.46%\n"
     ]
    },
    {
     "name": "stderr",
     "output_type": "stream",
     "text": [
      "2025-03-19 16:29:29,165 - INFO - Epoch 7/10 - Train Loss: 0.1498, Train Acc (Dropout ON): 95.39% - Train Acc (Dropout OFF): 97.25% - Test Loss: 0.0844, Test Acc: 97.24%\n"
     ]
    },
    {
     "name": "stdout",
     "output_type": "stream",
     "text": [
      "Epoch 7/10 - Train Loss: 0.1498, Train Acc (Dropout ON): 95.39% - Train Acc (Dropout OFF): 97.25% - Test Loss: 0.0844, Test Acc: 97.24%\n"
     ]
    },
    {
     "name": "stderr",
     "output_type": "stream",
     "text": [
      "2025-03-19 16:29:43,254 - INFO - Epoch 8/10 - Train Loss: 0.1484, Train Acc (Dropout ON): 95.58% - Train Acc (Dropout OFF): 97.47% - Test Loss: 0.0838, Test Acc: 97.19%\n"
     ]
    },
    {
     "name": "stdout",
     "output_type": "stream",
     "text": [
      "Epoch 8/10 - Train Loss: 0.1484, Train Acc (Dropout ON): 95.58% - Train Acc (Dropout OFF): 97.47% - Test Loss: 0.0838, Test Acc: 97.19%\n"
     ]
    },
    {
     "name": "stderr",
     "output_type": "stream",
     "text": [
      "2025-03-19 16:29:57,029 - INFO - Epoch 9/10 - Train Loss: 0.1479, Train Acc (Dropout ON): 95.48% - Train Acc (Dropout OFF): 97.41% - Test Loss: 0.0820, Test Acc: 97.36%\n"
     ]
    },
    {
     "name": "stdout",
     "output_type": "stream",
     "text": [
      "Epoch 9/10 - Train Loss: 0.1479, Train Acc (Dropout ON): 95.48% - Train Acc (Dropout OFF): 97.41% - Test Loss: 0.0820, Test Acc: 97.36%\n"
     ]
    },
    {
     "name": "stderr",
     "output_type": "stream",
     "text": [
      "2025-03-19 16:30:11,362 - INFO - Epoch 10/10 - Train Loss: 0.1437, Train Acc (Dropout ON): 95.50% - Train Acc (Dropout OFF): 97.44% - Test Loss: 0.0740, Test Acc: 97.74%\n"
     ]
    },
    {
     "name": "stdout",
     "output_type": "stream",
     "text": [
      "Epoch 10/10 - Train Loss: 0.1437, Train Acc (Dropout ON): 95.50% - Train Acc (Dropout OFF): 97.44% - Test Loss: 0.0740, Test Acc: 97.74%\n"
     ]
    }
   ],
   "source": [
    "\n",
    "# Initialize storage for accuracy/loss tracking\n",
    "train_losses, test_losses = [], []\n",
    "train_acc_dpon, train_acc_dpoff = [], []\n",
    "test_accuracies = []\n",
    "\n",
    "# Initialize dataframe to store WeightWatcher results\n",
    "ww_results_original = pd.DataFrame()\n",
    "ww_results_dropout = pd.DataFrame()\n",
    "\n",
    "\n",
    "# Training loop\n",
    "num_epochs = 10\n",
    "best_test_acc = 0\n",
    "\n",
    "for epoch in range(num_epochs):\n",
    "    model.train()\n",
    "    total_loss, correct, total = 0, 0, 0\n",
    "\n",
    "    for images, labels in train_loader:\n",
    "        images, labels = images.to(device), labels.to(device)\n",
    "        images = images.view(images.shape[0], -1)\n",
    "\n",
    "        optimizer.zero_grad()\n",
    "        outputs = model(images)\n",
    "        loss = criterion(outputs, labels)\n",
    "        loss.backward()\n",
    "        torch.nn.utils.clip_grad_norm_(model.parameters(), max_norm=1.0)\n",
    "        optimizer.step()\n",
    "        \n",
    "        total_loss += loss.item()\n",
    "\n",
    "        _, predicted = torch.max(outputs, 1)\n",
    "        correct += (predicted == labels).sum().item()\n",
    "        total += labels.size(0)\n",
    "\n",
    "    train_loss = total_loss / len(train_loader)\n",
    "    train_acc_on = correct / total * 100\n",
    "    train_losses.append(train_loss)\n",
    "    train_acc_dpon.append(train_acc_on)\n",
    "\n",
    "    train_loss_off, train_acc_off = evaluate(model, train_loader, criterion, device)\n",
    "    train_acc_dpoff.append(train_acc_off)\n",
    "\n",
    "    test_loss, test_acc = evaluate(model, test_loader, criterion, device)\n",
    "    test_losses.append(test_loss)\n",
    "    test_accuracies.append(test_acc)\n",
    "\n",
    "    scheduler.step()\n",
    "\n",
    "    if test_acc > best_test_acc:\n",
    "        best_test_acc = test_acc\n",
    "        os.makedirs(\"checkpoints\", exist_ok=True)\n",
    "        torch.save(model.state_dict(), f\"checkpoints/mlp3_best.pth\")\n",
    "\n",
    "    # Run WeightWatcher for original model\n",
    "    ww_results_original = run_weightwatcher(model, epoch, ww_results_original, \"original\")\n",
    "\n",
    "    # Create dropout-weighted copy and run WeightWatcher on it\n",
    "    dropout_weighted_model = create_dropout_weighted_copy(model)\n",
    "    ww_results_dropout = run_weightwatcher(dropout_weighted_model, epoch, ww_results_dropout, \"dropout\")\n",
    "\n",
    "    log_msg = (f\"Epoch {epoch+1}/{num_epochs} - \"\n",
    "               f\"Train Loss: {train_loss:.4f}, Train Acc (Dropout ON): {train_acc_on:.2f}% - \"\n",
    "               f\"Train Acc (Dropout OFF): {train_acc_off:.2f}% - \"\n",
    "               f\"Test Loss: {test_loss:.4f}, Test Acc: {test_acc:.2f}%\")\n",
    "    \n",
    "    print(log_msg)\n",
    "    logging.info(log_msg)\n",
    "    torch.mps.synchronize()\n",
    "\n",
    "# Save WeightWatcher results\n",
    "ww_results_original.to_csv(f\"ww_{experiment}_results_original.csv\", index=False)\n",
    "ww_results_dropout.to_csv(f\"ww_{experiment}_results_dropout.csv\", index=False)\n",
    "\n",
    "# Save accuracy/loss results\n",
    "pd.DataFrame({\n",
    "    \"train_loss\": train_losses, \n",
    "    \"test_loss\": test_losses, \n",
    "    \"train_acc_dpon\": train_acc_dpon,  \n",
    "    \"train_acc_dpoff\": train_acc_dpoff,  \n",
    "    \"test_acc\": test_accuracies\n",
    "}).to_csv(f\"{experiment}_results.csv\", index=False)"
   ]
  },
  {
   "cell_type": "code",
   "execution_count": 49,
   "id": "3b5c0e0f-7aaf-48e2-b407-fa807c9cf257",
   "metadata": {},
   "outputs": [
    {
     "data": {
      "text/html": [
       "<div>\n",
       "<style scoped>\n",
       "    .dataframe tbody tr th:only-of-type {\n",
       "        vertical-align: middle;\n",
       "    }\n",
       "\n",
       "    .dataframe tbody tr th {\n",
       "        vertical-align: top;\n",
       "    }\n",
       "\n",
       "    .dataframe thead th {\n",
       "        text-align: right;\n",
       "    }\n",
       "</style>\n",
       "<table border=\"1\" class=\"dataframe\">\n",
       "  <thead>\n",
       "    <tr style=\"text-align: right;\">\n",
       "      <th></th>\n",
       "      <th>train_loss</th>\n",
       "      <th>test_loss</th>\n",
       "      <th>train_acc_dpon</th>\n",
       "      <th>train_acc_dpoff</th>\n",
       "      <th>test_acc</th>\n",
       "    </tr>\n",
       "  </thead>\n",
       "  <tbody>\n",
       "    <tr>\n",
       "      <th>0</th>\n",
       "      <td>0.167985</td>\n",
       "      <td>0.093692</td>\n",
       "      <td>94.768333</td>\n",
       "      <td>96.880000</td>\n",
       "      <td>97.06</td>\n",
       "    </tr>\n",
       "    <tr>\n",
       "      <th>1</th>\n",
       "      <td>0.162406</td>\n",
       "      <td>0.089019</td>\n",
       "      <td>94.938333</td>\n",
       "      <td>96.918333</td>\n",
       "      <td>97.24</td>\n",
       "    </tr>\n",
       "    <tr>\n",
       "      <th>2</th>\n",
       "      <td>0.157586</td>\n",
       "      <td>0.092591</td>\n",
       "      <td>95.153333</td>\n",
       "      <td>97.000000</td>\n",
       "      <td>97.11</td>\n",
       "    </tr>\n",
       "    <tr>\n",
       "      <th>3</th>\n",
       "      <td>0.158631</td>\n",
       "      <td>0.090624</td>\n",
       "      <td>95.111667</td>\n",
       "      <td>97.091667</td>\n",
       "      <td>97.09</td>\n",
       "    </tr>\n",
       "    <tr>\n",
       "      <th>4</th>\n",
       "      <td>0.151534</td>\n",
       "      <td>0.089406</td>\n",
       "      <td>95.313333</td>\n",
       "      <td>97.150000</td>\n",
       "      <td>97.26</td>\n",
       "    </tr>\n",
       "    <tr>\n",
       "      <th>5</th>\n",
       "      <td>0.151220</td>\n",
       "      <td>0.086029</td>\n",
       "      <td>95.270000</td>\n",
       "      <td>97.305000</td>\n",
       "      <td>97.46</td>\n",
       "    </tr>\n",
       "    <tr>\n",
       "      <th>6</th>\n",
       "      <td>0.149802</td>\n",
       "      <td>0.084391</td>\n",
       "      <td>95.390000</td>\n",
       "      <td>97.250000</td>\n",
       "      <td>97.24</td>\n",
       "    </tr>\n",
       "    <tr>\n",
       "      <th>7</th>\n",
       "      <td>0.148366</td>\n",
       "      <td>0.083762</td>\n",
       "      <td>95.585000</td>\n",
       "      <td>97.473333</td>\n",
       "      <td>97.19</td>\n",
       "    </tr>\n",
       "    <tr>\n",
       "      <th>8</th>\n",
       "      <td>0.147911</td>\n",
       "      <td>0.081998</td>\n",
       "      <td>95.480000</td>\n",
       "      <td>97.405000</td>\n",
       "      <td>97.36</td>\n",
       "    </tr>\n",
       "    <tr>\n",
       "      <th>9</th>\n",
       "      <td>0.143652</td>\n",
       "      <td>0.073959</td>\n",
       "      <td>95.498333</td>\n",
       "      <td>97.441667</td>\n",
       "      <td>97.74</td>\n",
       "    </tr>\n",
       "  </tbody>\n",
       "</table>\n",
       "</div>"
      ],
      "text/plain": [
       "   train_loss  test_loss  train_acc_dpon  train_acc_dpoff  test_acc\n",
       "0    0.167985   0.093692       94.768333        96.880000     97.06\n",
       "1    0.162406   0.089019       94.938333        96.918333     97.24\n",
       "2    0.157586   0.092591       95.153333        97.000000     97.11\n",
       "3    0.158631   0.090624       95.111667        97.091667     97.09\n",
       "4    0.151534   0.089406       95.313333        97.150000     97.26\n",
       "5    0.151220   0.086029       95.270000        97.305000     97.46\n",
       "6    0.149802   0.084391       95.390000        97.250000     97.24\n",
       "7    0.148366   0.083762       95.585000        97.473333     97.19\n",
       "8    0.147911   0.081998       95.480000        97.405000     97.36\n",
       "9    0.143652   0.073959       95.498333        97.441667     97.74"
      ]
     },
     "execution_count": 49,
     "metadata": {},
     "output_type": "execute_result"
    }
   ],
   "source": [
    "data = pd.read_csv(f\"{experiment}_results.csv\")\n",
    "data"
   ]
  },
  {
   "cell_type": "code",
   "execution_count": 50,
   "id": "2f6d6711-e788-4d8d-867b-2a3c9e52bad1",
   "metadata": {},
   "outputs": [
    {
     "data": {
      "image/png": "[encoded data removed]",
      "text/plain": [
       "<Figure size 800x500 with 1 Axes>"
      ]
     },
     "metadata": {},
     "output_type": "display_data"
    },
    {
     "data": {
      "image/png": "[encoded data removed]",
      "text/plain": [
       "<Figure size 800x500 with 1 Axes>"
      ]
     },
     "metadata": {},
     "output_type": "display_data"
    }
   ],
   "source": [
    "import pandas as pd\n",
    "import matplotlib.pyplot as plt\n",
    "\n",
    "# Load training results from CSV\n",
    "data = pd.read_csv(f\"{experiment}_results.csv\")\n",
    "\n",
    "# Extract values\n",
    "epochs = range(1, len(data) + 1)  # Epoch numbers\n",
    "train_loss = data[\"train_loss\"]\n",
    "test_loss = data[\"test_loss\"]\n",
    "train_acc_dpon = data[\"train_acc_dpon\"]  # Train accuracy with Dropout ON\n",
    "train_acc_dpoff = data[\"train_acc_dpoff\"]  # Train accuracy with Dropout OFF\n",
    "test_acc = data[\"test_acc\"]  # Test accuracy\n",
    "\n",
    "# Create figure for accuracy\n",
    "plt.figure(figsize=(8, 5))\n",
    "plt.plot(epochs, train_acc_dpon, '-b', label=\"Train Accuracy (Dropout ON)\", linewidth=2)\n",
    "plt.plot(epochs, train_acc_dpoff, '-g', label=\"Train Accuracy (Dropout OFF)\", linewidth=2)\n",
    "plt.plot(epochs, test_acc, '-r', label=\"Test Accuracy\", linewidth=2)\n",
    "plt.xlabel(\"Epoch\")\n",
    "plt.ylabel(\"Accuracy (%)\")\n",
    "plt.title(\"Training and Test Accuracy\")\n",
    "plt.legend()\n",
    "plt.grid(True)\n",
    "plt.savefig(\"accuracy_plot.png\")  # Save plot\n",
    "plt.show()\n",
    "\n",
    "# Create figure for loss\n",
    "plt.figure(figsize=(8, 5))\n",
    "plt.plot(epochs, train_loss, '-b', label=\"Train Loss\", linewidth=2)\n",
    "plt.plot(epochs, test_loss, '-r', label=\"Test Loss\", linewidth=2)\n",
    "plt.xlabel(\"Epoch\")\n",
    "plt.ylabel(\"Loss\")\n",
    "plt.title(\"Training and Test Loss\")\n",
    "plt.legend()\n",
    "plt.grid(True)\n",
    "plt.savefig(\"loss_plot.png\")  # Save plot\n",
    "plt.show()"
   ]
  },
  {
   "cell_type": "code",
   "execution_count": 48,
   "id": "6918e9bf-ec6b-4128-9fa5-bd7b066ec749",
   "metadata": {},
   "outputs": [
    {
     "name": "stdout",
     "output_type": "stream",
     "text": [
      "Available layers in CSV (longname): ['fc1' 'fc2' 'fc3']\n",
      "Filtered layers: ['fc1' 'fc2' 'fc3']\n"
     ]
    },
    {
     "data": {
      "image/png": "[encoded data removed]",
      "text/plain": [
       "<Figure size 800x500 with 1 Axes>"
      ]
     },
     "metadata": {},
     "output_type": "display_data"
    }
   ],
   "source": [
    "import pandas as pd\n",
    "import matplotlib.pyplot as plt\n",
    "\n",
    "# Load WeightWatcher results from CSV\n",
    "data = pd.read_csv(f\"ww_{experiment}_results_dropout.csv\")\n",
    "\n",
    "# Ensure correct data structure\n",
    "required_columns = {\"epoch\", \"longname\", \"alpha\"}\n",
    "if not required_columns.issubset(data.columns):\n",
    "    raise ValueError(f\"CSV file must contain {required_columns} columns.\")\n",
    "\n",
    "# Convert alpha to numeric and drop invalid values\n",
    "data[\"alpha\"] = pd.to_numeric(data[\"alpha\"], errors=\"coerce\")\n",
    "data = data.dropna(subset=[\"alpha\"])\n",
    "\n",
    "# Print available layer names for debugging\n",
    "print(\"Available layers in CSV (longname):\", data[\"longname\"].unique())\n",
    "\n",
    "# Filter for fc1, fc2, fc3 using longname\n",
    "filtered_data = data[data[\"longname\"].str.contains(r\"fc[123]\", case=False, na=False)]\n",
    "\n",
    "# Print filtered layer names for debugging\n",
    "print(\"Filtered layers:\", filtered_data[\"longname\"].unique())\n",
    "\n",
    "# Aggregate duplicate layer entries per epoch (compute mean α if needed)\n",
    "filtered_data = filtered_data.groupby([\"epoch\", \"longname\"], as_index=False)[\"alpha\"].mean()\n",
    "\n",
    "# Pivot table to get layers as columns, epochs as rows\n",
    "pivot_data = filtered_data.pivot(index=\"epoch\", columns=\"longname\", values=\"alpha\")\n",
    "\n",
    "# Plot only fc1, fc2, fc3 α trends (if they exist)\n",
    "plt.figure(figsize=(8, 5))\n",
    "plotted_layers = []  # Track layers actually plotted\n",
    "\n",
    "for layer in pivot_data.columns:\n",
    "    plt.plot(pivot_data.index, pivot_data[layer], label=layer, linewidth=2)\n",
    "    plotted_layers.append(layer)  # Track plotted layers\n",
    "\n",
    "# Labels and title\n",
    "plt.xlabel(\"Epoch\")\n",
    "plt.ylabel(\"WeightWatcher w/Dropout α\")\n",
    "plt.title(\"WeightWatcher w/Dropout α Trends for fc1, fc2, fc3\")\n",
    "plt.grid(True)\n",
    "\n",
    "# Only add legend if at least one layer was plotted\n",
    "if plotted_layers:\n",
    "    plt.legend()\n",
    "\n",
    "# Save and show plot\n",
    "plt.savefig(\"alpha_fc_layers.png\")\n",
    "plt.show()"
   ]
  },
  {
   "cell_type": "code",
   "execution_count": null,
   "id": "de41b7f8-cd18-417a-a865-9dff61da8581",
   "metadata": {},
   "outputs": [],
   "source": []
  },
  {
   "cell_type": "code",
   "execution_count": null,
   "id": "58e8a2d6-510f-4737-9d0c-0a8e287465a5",
   "metadata": {},
   "outputs": [],
   "source": []
  }
 ],
 "metadata": {
  "kernelspec": {
   "display_name": "Python 3 (ipykernel)",
   "language": "python",
   "name": "python3"
  },
  "language_info": {
   "codemirror_mode": {
    "name": "ipython",
    "version": 3
   },
   "file_extension": ".py",
   "mimetype": "text/x-python",
   "name": "python",
   "nbconvert_exporter": "python",
   "pygments_lexer": "ipython3",
   "version": "3.9.19"
  }
 },
 "nbformat": 4,
 "nbformat_minor": 5
}
